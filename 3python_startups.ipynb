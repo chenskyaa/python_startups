{
 "cells": [
  {
   "cell_type": "markdown",
   "id": "9c834ee8-6975-4071-901a-81c425043baf",
   "metadata": {},
   "source": [
    "# Инвестиционный анализ: диагностика и перспективы стартапов"
   ]
  },
  {
   "cell_type": "markdown",
   "id": "808d6305-6df5-48dc-ad5f-d7bd91f41ca9",
   "metadata": {},
   "source": [
    "## Цели и задачи проекта"
   ]
  },
  {
   "cell_type": "markdown",
   "id": "7d783769-29d0-4a04-aaf0-f08b4d6756f5",
   "metadata": {},
   "source": [
    "Целью этого проекта является проведение исследовательского анализа рынка стартапов, чтобы помочь клиентам из финансовой компании разработать модель бизнеса инвестиционного рынка с прицелом на покупку, развитие и последующую перепродажу перспективных стартапов. Для этого необходимо изучить текущую ситуацию на рынке.\n",
    "\n",
    "Данные неполны, поэтому заказчик, кроме ответа на некоторые интересующие его вопросы, просит аккуратно относиться к получаемым в процессе исследования значениям показателей и выводам и стараться оценивать их на возможные искажения."
   ]
  },
  {
   "cell_type": "markdown",
   "id": "f42a1036-fb1e-4c3f-8200-16c62d203eb3",
   "metadata": {},
   "source": [
    "## План работы"
   ]
  },
  {
   "cell_type": "markdown",
   "id": "cdfadfcb-abcf-43f0-a36d-db85f5bfcad7",
   "metadata": {},
   "source": [
    "Работа начнётся с загрузки и знакомства с данными: будут изучены их структура, наличие пропусков, дубликатов и возможных аномалий. Затем будет проведена предобработка данных, включая приведение типов, обработку пропусков и очистку дубликатов. Будет проанализирована возможность объединения нескольких датасетов на основе общих идентификаторов, чтобы создать единую таблицу для дальнейшего исследования.\n",
    "\n",
    "Далее будет проведён исследовательский анализ данных: изучено распределение раундов финансирования по годам, определены типичные суммы инвестиций и выявлены тенденции финансирования стартапов. Также будет проанализирована полнота данных о сотрудниках, изучены параметры, влияющие на стоимость стартапов, и определены категории стартапов с наибольшими инвестициями и высоким уровнем риска. На основе анализа будут сделаны выводы о рынке стартапов и даны рекомендации для инвесторов."
   ]
  },
  {
   "cell_type": "markdown",
   "id": "9f00900d-e777-4fe0-a6b1-fa547c387065",
   "metadata": {},
   "source": [
    "## Описание данных"
   ]
  },
  {
   "cell_type": "markdown",
   "id": "c57c3019-a2ec-4dcd-97d9-b612039c677a",
   "metadata": {},
   "source": [
    "Чтобы выработать общее понимание, какие данные могут быть полезны, проводится исследование на исторических данных\n",
    "\n",
    "У нас есть 5 основных и 2 дополнительных файла с данными:\n",
    "\n",
    "Таблица `acquisition`\n",
    "Содержит информацию о покупках одними компаниями других компаний:\n",
    "\n",
    "* `id` — идентификатор покупки.\n",
    "* `acquiring_company_id` — идентификатор покупающей компании.\n",
    "* `acquired_company_id` — идентификатор покупаемой компании.\n",
    "* `term_code` — варианты расчёта.\n",
    "* `price_amount` — сумма сделки.\n",
    "* `acquired_at` — дата сделки.\n",
    "\n",
    "\n",
    "Таблица `company_and_rounds`\n",
    "Содержит информацию о компаниях и раундах финансирования:\n",
    "\n",
    "* `company ID` — идентификатор компании.\n",
    "* `name` — название компании.\n",
    "* `category code` — категория области деятельности компании.\n",
    "* `status` — статус компании.\n",
    "* `founded at` — дата инвестирования.\n",
    "* `closed at` — дата закрытия компании.\n",
    "* `domain` — официальный сайт компании.\n",
    "* `network username` — ник компании в сети.\n",
    "* `country code` — код страны компании.\n",
    "* `investment rounds` — число инвестиционных раундов.\n",
    "* `funding rounds` — число раундов финансирования.\n",
    "* `funding total` — сумма финансирования.\n",
    "* `milestones` — вехи финансирования.\n",
    "* `funding round id` — идентификатор этапа финансирования.\n",
    "* `company id` — идентификатор компании.\n",
    "* `funded at` — дата финансирования.\n",
    "* `funding round type` — тип финансирования.\n",
    "* `raised amount` — сумма финансирования.\n",
    "* `pre money valuation` — предварительная денежная оценка.\n",
    "* `participants` — число участников.\n",
    "* `is first round` — является ли раунд первым.\n",
    "* `is last round` — является раунд последним.\n",
    "\n",
    "\n",
    "Таблица `education`\n",
    "Содержит информацию об образовании сотрудника:\n",
    "\n",
    "* `id`— идентификатор записи об образовании.\n",
    "* `person_id` — идентификатор работника.\n",
    "* `instituition` — название учебного заведения.\n",
    "* `graduated_at` — дата получения образования.\n",
    "\n",
    "\n",
    "Таблица `people`\n",
    "Содержит информацию о сотрудниках:\n",
    "\n",
    "* `id` — идентификатор сотрудника.\n",
    "* `first_name` — имя сотрудника.\n",
    "* `last_name` — фамилия сотрудника.\n",
    "* `company_id` — идентификатор компании.\n",
    "* `network_username` — ник в социальных сетях.\n",
    "\n",
    "\n",
    "Таблица `degrees`\n",
    "Содержит информацию о типе образования сотрудника:\n",
    "\n",
    "* `id` — идентификатор записи.\n",
    "* `object_id` — идентификатор сотрудника.\n",
    "* `degree_type` — тип образования.\n",
    "* `subject` — специальность."
   ]
  },
  {
   "cell_type": "markdown",
   "id": "3cafea69-d9ac-4c95-ac65-f547ead5bc2c",
   "metadata": {},
   "source": [
    "#### Дополнительные данные "
   ]
  },
  {
   "cell_type": "markdown",
   "id": "1e3d66b4-5be2-4bb4-bf97-0d69b956fc5e",
   "metadata": {},
   "source": [
    "Эти таблицы не требуются для выполнения проекта, но связаны с исследуемыми данными:\n",
    "\n",
    "Таблица `fund`\n",
    "Содержит информацию о фондах:\n",
    "\n",
    "* `id` — идентификатор фонда.\n",
    "* `name` — название фонда.\n",
    "* `category_code` — категория области деятельности компании.\n",
    "* `founded_at` — дата создания фонда.\n",
    "* `domain` — сайт фонда.\n",
    "* `network_username` — ник фонда в сети.\n",
    "* `country_code` — код страны фонда.\n",
    "* `investment_rounds` — число инвестиционных раундов.\n",
    "* `invested_companies` — число профинансированных компаний.\n",
    "* `milestones` — вехи финансирования.\n",
    "\n",
    "\n",
    "Таблица `investment`\n",
    "Содержит информацию о раундах инвестирования:\n",
    "\n",
    "* `id` — идентификатор этапа инвестирования.\n",
    "* `funding_round_id` — идентификатор раунда инвестирования.\n",
    "* `company_id` — индентификатор компании.\n",
    "* `funding_round_type` — тип финансирования.\n",
    "* `fund_id` — идентификатор фонда."
   ]
  },
  {
   "cell_type": "markdown",
   "id": "e9c285c9-1b9b-41ac-8251-51a377fbe43b",
   "metadata": {},
   "source": [
    "## **Шаг 1. Загрузка данных и знакомство с ними**"
   ]
  },
  {
   "cell_type": "markdown",
   "id": "4bfef85c-294f-4cdc-8a54-3adecfb37651",
   "metadata": {},
   "source": [
    "Начнем с загрузки библиотек и познакомимся с данными. Поскольку по описанию проекта нам не понадобится строить визуализации, импортируем только библиотеку `pandas` "
   ]
  },
  {
   "cell_type": "code",
   "execution_count": 14,
   "id": "d5062614-238c-4369-b4bc-f717b102654d",
   "metadata": {},
   "outputs": [],
   "source": [
    "# Импортируем библиотеки для работы с данными \n",
    "import pandas as pd\n",
    "\n",
    "# Импортируем библиотеки для визуализации\n",
    "import matplotlib.pyplot as plt\n",
    "import seaborn as sns"
   ]
  },
  {
   "cell_type": "code",
   "execution_count": 16,
   "id": "17d83518-3587-4d5f-bdfb-9c9e7699d3ad",
   "metadata": {},
   "outputs": [],
   "source": [
    "# Выгружаем все данные по проекту\n",
    "acquisition_df = pd.read_csv('https://code.s3.yandex.net/datasets/acquisition.csv')\n",
    "company_rounds_df = pd.read_csv('https://code.s3.yandex.net/datasets/company_and_rounds.csv')\n",
    "education_df = pd.read_csv('https://code.s3.yandex.net/datasets/education.csv')\n",
    "people_df = pd.read_csv('https://code.s3.yandex.net/datasets/people.csv')\n",
    "degrees_df = pd.read_csv('https://code.s3.yandex.net/datasets/degrees.csv')\n",
    "fund_df = pd.read_csv('https://code.s3.yandex.net/datasets/fund.csv')\n",
    "investment_df = pd.read_csv('https://code.s3.yandex.net/datasets/investment.csv')"
   ]
  },
  {
   "cell_type": "markdown",
   "id": "098950d4-02e7-47f8-82d9-f733e2e26f23",
   "metadata": {},
   "source": [
    "### Вывод общей информации и знакомство с данными"
   ]
  },
  {
   "cell_type": "code",
   "execution_count": 18,
   "id": "15e87c57-c5ab-4324-ba05-a585ec966f8c",
   "metadata": {},
   "outputs": [
    {
     "name": "stdout",
     "output_type": "stream",
     "text": [
      "<class 'pandas.core.frame.DataFrame'>\n",
      "RangeIndex: 9407 entries, 0 to 9406\n",
      "Data columns (total 6 columns):\n",
      " #   Column                Non-Null Count  Dtype \n",
      "---  ------                --------------  ----- \n",
      " 0   id                    9407 non-null   int64 \n",
      " 1   acquiring_company_id  9407 non-null   int64 \n",
      " 2   acquired_company_id   9407 non-null   int64 \n",
      " 3   term_code             1831 non-null   object\n",
      " 4   price_amount          9407 non-null   int64 \n",
      " 5   acquired_at           9378 non-null   object\n",
      "dtypes: int64(4), object(2)\n",
      "memory usage: 441.1+ KB\n"
     ]
    },
    {
     "data": {
      "text/plain": [
       "(None,\n",
       "    id  acquiring_company_id  acquired_company_id term_code  price_amount  \\\n",
       " 0   1                    11                   10       NaN      20000000   \n",
       " 1   7                    59                   72      cash      60000000   \n",
       " 2   8                    24                  132      cash     280000000   \n",
       " 3   9                    59                  155      cash     100000000   \n",
       " 4  10                   212                  215      cash      25000000   \n",
       " \n",
       "   acquired_at  \n",
       " 0  2007-05-30  \n",
       " 1  2007-07-01  \n",
       " 2  2007-05-01  \n",
       " 3  2007-06-01  \n",
       " 4  2007-07-01  )"
      ]
     },
     "execution_count": 18,
     "metadata": {},
     "output_type": "execute_result"
    }
   ],
   "source": [
    "# Проведем первочное знакомство с датасетом acquisition_df\n",
    "acquisition_df.info(), acquisition_df.head()"
   ]
  },
  {
   "cell_type": "markdown",
   "id": "c3901e82-0251-43f6-9ba7-43dd1eadb2b4",
   "metadata": {},
   "source": [
    "В датасете `acquisition_df` мы имеем 9407 строк и 6 столбцов, можно сказать что\n",
    "* Нам не требуется преобразовывать названия столбцов, так как они уже написаны в формате `snake case`\n",
    "* На первый взгляд можно сказать что данные соответствуют описанию\n",
    "* Пропуски в данных присутствуют только в столбцах `term_code` и `acquired_at`. Однако следует проверить и другие столбцы: в них могут встречаться значения-индикаторы, которые будут говорить об отсутствии данных.\n",
    "* Все данные хранятся в соответствующих типах, кроме столбца `acquired_at` - это дата, которая хранится в типе `object`"
   ]
  },
  {
   "cell_type": "code",
   "execution_count": 20,
   "id": "b1173d9b-f56a-4263-ac74-ef76af305fa2",
   "metadata": {},
   "outputs": [
    {
     "name": "stdout",
     "output_type": "stream",
     "text": [
      "<class 'pandas.core.frame.DataFrame'>\n",
      "RangeIndex: 217774 entries, 0 to 217773\n",
      "Data columns (total 22 columns):\n",
      " #   Column                 Non-Null Count   Dtype  \n",
      "---  ------                 --------------   -----  \n",
      " 0   company  ID            217472 non-null  float64\n",
      " 1   name                   217471 non-null  object \n",
      " 2   category  code         143886 non-null  object \n",
      " 3   status                 217472 non-null  object \n",
      " 4   founded  at            109956 non-null  object \n",
      " 5   closed  at             3449 non-null    object \n",
      " 6   domain                 147159 non-null  object \n",
      " 7   network  username      95534 non-null   object \n",
      " 8   country  code          108607 non-null  object \n",
      " 9   investment  rounds     217472 non-null  float64\n",
      " 10  funding  rounds        217472 non-null  float64\n",
      " 11  funding  total         217472 non-null  float64\n",
      " 12  milestones             217472 non-null  float64\n",
      " 13  funding  round  id     52928 non-null   float64\n",
      " 14  company  id            52928 non-null   float64\n",
      " 15  funded  at             52680 non-null   object \n",
      " 16  funding  round  type   52928 non-null   object \n",
      " 17  raised  amount         52928 non-null   float64\n",
      " 18  pre  money  valuation  52928 non-null   float64\n",
      " 19  participants           52928 non-null   float64\n",
      " 20  is  first  round       52928 non-null   float64\n",
      " 21  is  last  round        52928 non-null   float64\n",
      "dtypes: float64(12), object(10)\n",
      "memory usage: 36.6+ MB\n"
     ]
    },
    {
     "data": {
      "text/plain": [
       "(None,\n",
       "    company  ID      name category  code     status founded  at closed  at  \\\n",
       " 0          1.0  Wetpaint            web  operating  2005-10-17        NaN   \n",
       " 1          1.0  Wetpaint            web  operating  2005-10-17        NaN   \n",
       " 2          1.0  Wetpaint            web  operating  2005-10-17        NaN   \n",
       " 3         10.0   Flektor    games_video   acquired         NaN        NaN   \n",
       " 4        100.0     There    games_video   acquired         NaN        NaN   \n",
       " \n",
       "              domain network  username country  code  investment  rounds  ...  \\\n",
       " 0  wetpaint-inc.com   BachelrWetpaint           USA                 0.0  ...   \n",
       " 1  wetpaint-inc.com   BachelrWetpaint           USA                 0.0  ...   \n",
       " 2  wetpaint-inc.com   BachelrWetpaint           USA                 0.0  ...   \n",
       " 3       flektor.com               NaN           USA                 0.0  ...   \n",
       " 4         there.com               NaN           USA                 0.0  ...   \n",
       " \n",
       "    milestones  funding  round  id  company  id  funded  at  \\\n",
       " 0         5.0               888.0          1.0  2005-10-01   \n",
       " 1         5.0               889.0          1.0  2007-01-01   \n",
       " 2         5.0              2312.0          1.0  2008-05-19   \n",
       " 3         0.0                 NaN          NaN         NaN   \n",
       " 4         4.0                 NaN          NaN         NaN   \n",
       " \n",
       "    funding  round  type raised  amount pre  money  valuation  participants  \\\n",
       " 0              series-a      5250000.0                   0.0           2.0   \n",
       " 1              series-b      9500000.0                   0.0           3.0   \n",
       " 2             series-c+     25000000.0                   0.0           4.0   \n",
       " 3                   NaN            NaN                   NaN           NaN   \n",
       " 4                   NaN            NaN                   NaN           NaN   \n",
       " \n",
       "    is  first  round  is  last  round  \n",
       " 0               0.0              1.0  \n",
       " 1               0.0              0.0  \n",
       " 2               1.0              0.0  \n",
       " 3               NaN              NaN  \n",
       " 4               NaN              NaN  \n",
       " \n",
       " [5 rows x 22 columns])"
      ]
     },
     "execution_count": 20,
     "metadata": {},
     "output_type": "execute_result"
    }
   ],
   "source": [
    "# Проведем первочное знакомство с датасетом company_rounds_df\n",
    "company_rounds_df.info(), company_rounds_df.head()"
   ]
  },
  {
   "cell_type": "markdown",
   "id": "3ca60fd8-b194-4f3a-bcfe-3c140aa24237",
   "metadata": {},
   "source": [
    "Датасет `company_rounds_df` содержит 217774 строки и 22 столбца. Мы можем сказать что:\n",
    "* Все названия столбцов необходимо привести к формату `snake case` для упрощения дальнейшего анализа\n",
    "* На первый взгляд можно сказать что данные соответствуют описанию\n",
    "* Пропуски в данных присутствуют во всех столбцах\n",
    "* Все числовые данные хранятся в типе `float64`, даже целочисленные и булевые. Все даты хранятся в типе `object`. Нам стоит привести все данные к нужным типам.\n",
    "* В данных 2 столбца с названием `company id`"
   ]
  },
  {
   "cell_type": "code",
   "execution_count": 22,
   "id": "bf1945cd-74b3-4d71-b76f-fb3ea2e18ad5",
   "metadata": {},
   "outputs": [
    {
     "name": "stdout",
     "output_type": "stream",
     "text": [
      "<class 'pandas.core.frame.DataFrame'>\n",
      "RangeIndex: 109610 entries, 0 to 109609\n",
      "Data columns (total 4 columns):\n",
      " #   Column        Non-Null Count   Dtype \n",
      "---  ------        --------------   ----- \n",
      " 0   id            109610 non-null  int64 \n",
      " 1   person_id     109610 non-null  int64 \n",
      " 2   instituition  109555 non-null  object\n",
      " 3   graduated_at  58054 non-null   object\n",
      "dtypes: int64(2), object(2)\n",
      "memory usage: 3.3+ MB\n"
     ]
    },
    {
     "data": {
      "text/plain": [
       "(None,\n",
       "    id  person_id                      instituition graduated_at\n",
       " 0   1       6117                               NaN          NaN\n",
       " 1   2       6136  Washington University, St. Louis   1990-01-01\n",
       " 2   3       6136                 Boston University   1992-01-01\n",
       " 3   4       6005           University of Greenwich   2006-01-01\n",
       " 4   5       5832                   Rice University          NaN)"
      ]
     },
     "execution_count": 22,
     "metadata": {},
     "output_type": "execute_result"
    }
   ],
   "source": [
    "# Проведем первочное знакомство с датасетом education_df\n",
    "education_df.info(), education_df.head()"
   ]
  },
  {
   "cell_type": "markdown",
   "id": "33e5dd96-15b0-427c-ba12-5e410b2a7861",
   "metadata": {},
   "source": [
    "Датасет `education_df` содержит 109610 строк и 4 столбца. Мы можем сказать что:\n",
    "* Нам не требуется преобразовывать названия столбцов, так как они уже написаны в формате `snake case`\n",
    "* На первый взгляд можно сказать что данные соответствуют описанию\n",
    "* Пропуски в данных присутствуют только в столбцах `instituition` и `graduated_at`\n",
    "* Все числовые данные хранятся в соответствующих типах данных. Только `graduated_at` - дата, хранящаяся в типе `object`"
   ]
  },
  {
   "cell_type": "code",
   "execution_count": 24,
   "id": "38f2ac33-91e1-48f7-8065-a4343391c2c5",
   "metadata": {},
   "outputs": [
    {
     "name": "stdout",
     "output_type": "stream",
     "text": [
      "<class 'pandas.core.frame.DataFrame'>\n",
      "RangeIndex: 226709 entries, 0 to 226708\n",
      "Data columns (total 5 columns):\n",
      " #   Column            Non-Null Count   Dtype  \n",
      "---  ------            --------------   -----  \n",
      " 0   id                226709 non-null  int64  \n",
      " 1   first_name        226700 non-null  object \n",
      " 2   last_name         226705 non-null  object \n",
      " 3   company_id        34615 non-null   float64\n",
      " 4   network_username  38867 non-null   object \n",
      "dtypes: float64(1), int64(1), object(3)\n",
      "memory usage: 8.6+ MB\n"
     ]
    },
    {
     "data": {
      "text/plain": [
       "(None,\n",
       "        id  first_name    last_name  company_id network_username\n",
       " 0      10        Mark   Zuckerberg         5.0              NaN\n",
       " 1     100       Peter       Lester        27.0              NaN\n",
       " 2    1000  Dr. Steven  E. Saunders       292.0              NaN\n",
       " 3   10000        Neil        Capel      2526.0              NaN\n",
       " 4  100000         Sue       Pilsch         NaN              NaN)"
      ]
     },
     "execution_count": 24,
     "metadata": {},
     "output_type": "execute_result"
    }
   ],
   "source": [
    "# Проведем первичное знакомство с датасетом people_df\n",
    "people_df.info(), people_df.head()"
   ]
  },
  {
   "cell_type": "markdown",
   "id": "05dcc7ef-6efc-4a86-b92d-164ef4c5336c",
   "metadata": {},
   "source": [
    "Датасет `people_df` содержит 226709 строк и 5 столбцов. Мы можем сказать что:\n",
    "* Нам не требуется преобразовывать названия столбцов, так как они уже написаны в формате `snake case`\n",
    "* На первый взгляд можно сказать что данные соответствуют описанию\n",
    "* Пропуски в данных присутствуют во всех столбцах кроме `id` и `first_name`\n",
    "* Все числовые данные хранятся в соответствующих типах данных, кроме 'company_id' - предполагается что это целочисленное значение, но оно хранится как `float64`"
   ]
  },
  {
   "cell_type": "code",
   "execution_count": 26,
   "id": "bba9d1b7-3aaa-4b99-baf7-4e91b3f245e0",
   "metadata": {},
   "outputs": [
    {
     "name": "stdout",
     "output_type": "stream",
     "text": [
      "<class 'pandas.core.frame.DataFrame'>\n",
      "RangeIndex: 109610 entries, 0 to 109609\n",
      "Data columns (total 4 columns):\n",
      " #   Column       Non-Null Count   Dtype \n",
      "---  ------       --------------   ----- \n",
      " 0   id           109610 non-null  int64 \n",
      " 1   object_id    109610 non-null  object\n",
      " 2   degree_type  98389 non-null   object\n",
      " 3   subject      81298 non-null   object\n",
      "dtypes: int64(1), object(3)\n",
      "memory usage: 3.3+ MB\n"
     ]
    },
    {
     "data": {
      "text/plain": [
       "(None,\n",
       "    id object_id degree_type                       subject\n",
       " 0   1    p:6117         MBA                           NaN\n",
       " 1   2    p:6136          BA               English, French\n",
       " 2   3    p:6136          MS            Mass Communication\n",
       " 3   4    p:6005          MS           Internet Technology\n",
       " 4   5    p:5832         BCS  Computer Science, Psychology)"
      ]
     },
     "execution_count": 26,
     "metadata": {},
     "output_type": "execute_result"
    }
   ],
   "source": [
    "# Проведем первичное знакомство с датасетом degrees_df\n",
    "degrees_df.info(), degrees_df.head()"
   ]
  },
  {
   "cell_type": "markdown",
   "id": "2ea1b065-8955-495f-bf1b-853ec1baf98b",
   "metadata": {},
   "source": [
    "Датасет `degrees_df` содержит 109610 строк и 4 столбца. Мы можем сказать что:\n",
    "* Нам не требуется преобразовывать названия столбцов, так как они уже написаны в формате `snake case`\n",
    "* На первый взгляд можно сказать что данные соответствуют описанию\n",
    "* Пропуски в данных присутствуют в столбцах `degree_type` и `subject`\n",
    "* Все данные хранятся в соответствующих типах данных."
   ]
  },
  {
   "cell_type": "code",
   "execution_count": 28,
   "id": "fbe19ebf-146e-4de2-b140-309faa0f51b8",
   "metadata": {},
   "outputs": [
    {
     "name": "stdout",
     "output_type": "stream",
     "text": [
      "<class 'pandas.core.frame.DataFrame'>\n",
      "RangeIndex: 11652 entries, 0 to 11651\n",
      "Data columns (total 9 columns):\n",
      " #   Column              Non-Null Count  Dtype \n",
      "---  ------              --------------  ----- \n",
      " 0   id                  11652 non-null  int64 \n",
      " 1   name                11649 non-null  object\n",
      " 2   founded_at          4605 non-null   object\n",
      " 3   domain              7362 non-null   object\n",
      " 4   network_username    2149 non-null   object\n",
      " 5   country_code        7053 non-null   object\n",
      " 6   investment_rounds   11652 non-null  int64 \n",
      " 7   invested_companies  11652 non-null  int64 \n",
      " 8   milestones          11652 non-null  int64 \n",
      "dtypes: int64(4), object(5)\n",
      "memory usage: 819.4+ KB\n"
     ]
    },
    {
     "data": {
      "text/plain": [
       "(None,\n",
       "       id                     name  founded_at               domain  \\\n",
       " 0  13131                      NaN         NaN                  NaN   \n",
       " 1      1        Greylock Partners  1965-01-01         greylock.com   \n",
       " 2     10         Mission Ventures  1996-01-01  missionventures.com   \n",
       " 3    100  Kapor Enterprises, Inc.         NaN              kei.com   \n",
       " 4   1000           Speed Ventures         NaN                  NaN   \n",
       " \n",
       "   network_username country_code  investment_rounds  invested_companies  \\\n",
       " 0              NaN          NaN                  0                   0   \n",
       " 1       greylockvc          USA                307                 196   \n",
       " 2              NaN          USA                 58                  33   \n",
       " 3              NaN          USA                  2                   1   \n",
       " 4              NaN          NaN                  0                   0   \n",
       " \n",
       "    milestones  \n",
       " 0           0  \n",
       " 1           0  \n",
       " 2           0  \n",
       " 3           0  \n",
       " 4           1  )"
      ]
     },
     "execution_count": 28,
     "metadata": {},
     "output_type": "execute_result"
    }
   ],
   "source": [
    "# Проведем первичное знакомство с датасетом fund_df\n",
    "fund_df.info(), fund_df.head()"
   ]
  },
  {
   "cell_type": "markdown",
   "id": "3ce7c1e3-c27f-4f11-a000-57cae524a5c4",
   "metadata": {},
   "source": [
    "Датасет `fund_df` содержит 11652 строк и 9 столбцов. Мы можем сказать что:\n",
    "* Нам не требуется преобразовывать названия столбцов, так как они уже написаны в формате `snake case`\n",
    "* На первый взгляд можно сказать что данные соответствуют описанию\n",
    "* Пропуски в данных присутствуют в столбцах `name`, `founded_at`, `domain`, `network_username`, `country_code`, \n",
    "* Все данные хранятся в соответствующих типах данных."
   ]
  },
  {
   "cell_type": "code",
   "execution_count": 30,
   "id": "39323384-f995-4aa0-a815-bd36d5756bc6",
   "metadata": {},
   "outputs": [
    {
     "name": "stdout",
     "output_type": "stream",
     "text": [
      "<class 'pandas.core.frame.DataFrame'>\n",
      "RangeIndex: 61403 entries, 0 to 61402\n",
      "Data columns (total 4 columns):\n",
      " #   Column            Non-Null Count  Dtype\n",
      "---  ------            --------------  -----\n",
      " 0   id                61403 non-null  int64\n",
      " 1   funding_round_id  61403 non-null  int64\n",
      " 2   company_id        61403 non-null  int64\n",
      " 3   fund_id           61403 non-null  int64\n",
      "dtypes: int64(4)\n",
      "memory usage: 1.9 MB\n"
     ]
    },
    {
     "data": {
      "text/plain": [
       "(None,\n",
       "    id  funding_round_id  company_id  fund_id\n",
       " 0   1                 1           4        1\n",
       " 1   2                 1           4        2\n",
       " 2   3                 3           5        4\n",
       " 3   4                 4           5        1\n",
       " 4   5                 4           5        5)"
      ]
     },
     "execution_count": 30,
     "metadata": {},
     "output_type": "execute_result"
    }
   ],
   "source": [
    "# Проведем первичное знакомство с датасетом investment_df\n",
    "investment_df.info(), investment_df.head()"
   ]
  },
  {
   "cell_type": "markdown",
   "id": "8e147de6-a225-4e19-8212-c5155e1e9ebb",
   "metadata": {},
   "source": [
    "Датасет `investment_df` содержит 61403 строк и 4 столбца. Мы можем сказать что:\n",
    "* Нам не требуется преобразовывать названия столбцов, так как они уже написаны в формате `snake case`\n",
    "* На первый взгляд можно сказать что данные соответствуют описанию\n",
    "* Пропуски в данных отсутствуют. Однако следует проверить и другие столбцы: в них могут встречаться значения-индикаторы, которые будут говорить об отсутствии данных.\n",
    "* Все данные хранятся в соответствующих типах данных."
   ]
  },
  {
   "cell_type": "markdown",
   "id": "9e328bbf-1f28-4133-a1f9-11bf130aaed1",
   "metadata": {},
   "source": [
    "#### Общий вывод после знакомства с данными, исправление названий столбоцов"
   ]
  },
  {
   "cell_type": "markdown",
   "id": "5cb1ed1b-32db-4253-ab0e-0df1f52cc0dd",
   "metadata": {},
   "source": [
    "Все таблицы отсмотрены и первично проанализированы, следующий шаг - преобразование названий столбцов. Мы узнали что только таблица `company_rounds_df` нуждается в преобразовании названий и приведении их к формату `snake case`"
   ]
  },
  {
   "cell_type": "code",
   "execution_count": 35,
   "id": "ad9232de-d014-48f9-b16a-785ed6380082",
   "metadata": {},
   "outputs": [
    {
     "data": {
      "text/plain": [
       "Index(['company id 1', 'name', 'category  code', 'status', 'founded  at',\n",
       "       'closed  at', 'domain', 'network  username', 'country  code',\n",
       "       'investment  rounds', 'funding  rounds', 'funding  total', 'milestones',\n",
       "       'funding  round  id', 'company  id', 'funded  at',\n",
       "       'funding  round  type', 'raised  amount', 'pre  money  valuation',\n",
       "       'participants', 'is  first  round', 'is  last  round'],\n",
       "      dtype='object')"
      ]
     },
     "execution_count": 35,
     "metadata": {},
     "output_type": "execute_result"
    }
   ],
   "source": [
    "# Давайте поменяем название одного из столбца `company_id`\n",
    "company_rounds_df = company_rounds_df.rename(columns={'company  ID': 'company id 1'})\n",
    "\n",
    "#Посмотрим на все уникальные названия столбцов:\n",
    "company_rounds_df.columns"
   ]
  },
  {
   "cell_type": "code",
   "execution_count": 36,
   "id": "3f0c88a0-f8bb-4af8-b835-471aa95cc5c2",
   "metadata": {},
   "outputs": [
    {
     "data": {
      "text/plain": [
       "Index(['company_id_1', 'name', 'category__code', 'status', 'founded__at',\n",
       "       'closed__at', 'domain', 'network__username', 'country__code',\n",
       "       'investment__rounds', 'funding__rounds', 'funding__total', 'milestones',\n",
       "       'funding__round__id', 'company__id', 'funded__at',\n",
       "       'funding__round__type', 'raised__amount', 'pre__money__valuation',\n",
       "       'participants', 'is__first__round', 'is__last__round'],\n",
       "      dtype='object')"
      ]
     },
     "execution_count": 36,
     "metadata": {},
     "output_type": "execute_result"
    }
   ],
   "source": [
    "# Приведем к нужному формату написания\n",
    "company_rounds_df.columns = (company_rounds_df.columns.str.lower().str.replace(' ', '_'))\n",
    "company_rounds_df.columns"
   ]
  },
  {
   "cell_type": "markdown",
   "id": "56a00abb-7a9d-45ad-a97e-6f2f8145003f",
   "metadata": {},
   "source": [
    "Как оказалось, во всех названиях вместо пробела использовался двойной пробел, который заменился на двойное подчеркивание, это нужно исправить:"
   ]
  },
  {
   "cell_type": "code",
   "execution_count": 38,
   "id": "2be0b61a-9f91-4db2-844e-76d24e426d38",
   "metadata": {},
   "outputs": [
    {
     "data": {
      "text/plain": [
       "Index(['company_id_1', 'name', 'category_code', 'status', 'founded_at',\n",
       "       'closed_at', 'domain', 'network_username', 'country_code',\n",
       "       'investment_rounds', 'funding_rounds', 'funding_total', 'milestones',\n",
       "       'funding_round_id', 'company_id', 'funded_at', 'funding_round_type',\n",
       "       'raised_amount', 'pre_money_valuation', 'participants',\n",
       "       'is_first_round', 'is_last_round'],\n",
       "      dtype='object')"
      ]
     },
     "execution_count": 38,
     "metadata": {},
     "output_type": "execute_result"
    }
   ],
   "source": [
    "# Приведем к нужному формату написания\n",
    "company_rounds_df.columns = (company_rounds_df.columns.str.lower().str.replace('__', '_'))\n",
    "company_rounds_df.columns"
   ]
  },
  {
   "cell_type": "markdown",
   "id": "541aa072-daf4-4851-9731-8b724ea41abc",
   "metadata": {},
   "source": [
    "Мы также поменяли название задвоенных столбцов, в нашем датасете два столбца с одинаковыми названиями `company_id`. Один из них был переименован в `company_id_1`\n",
    "\n",
    "Задвоение `company_id` и `company_id_1` могло произойти из-за разных способов хранения данных. Возможно, `company_id` — это идентификатор компании-стартапа, а `company_id_1` — идентификатор кода. Также `company_id_1` может быть связан с неправильным объединением датасетов, насколько мы знаем раньше данные хранились по другому и это может быть связано с технической ошибкой\n",
    "\n",
    "Все названия столбцов приведены к одному формату и теперь можно продолжать обрабатывать данные"
   ]
  },
  {
   "cell_type": "markdown",
   "id": "3d6c2587-a5ee-40c8-b23f-0e6db45698fe",
   "metadata": {},
   "source": [
    "### Смена типов и анализ пропусков"
   ]
  },
  {
   "cell_type": "markdown",
   "id": "bf466fa9-82d9-4c64-a9d0-b1a6b3a8a274",
   "metadata": {},
   "source": [
    "Как мы помним, некоторые данные хванятся в несоответствующих типах данных, давайте это исправим.\n",
    "\n",
    "В таблице `acquisition_df` только `acquired_at` нужно привести к другому типу данных:"
   ]
  },
  {
   "cell_type": "code",
   "execution_count": 44,
   "id": "3c4c4e64-9951-4759-8e11-d958b746a184",
   "metadata": {},
   "outputs": [
    {
     "name": "stdout",
     "output_type": "stream",
     "text": [
      "<class 'pandas.core.frame.DataFrame'>\n",
      "RangeIndex: 9407 entries, 0 to 9406\n",
      "Data columns (total 6 columns):\n",
      " #   Column                Non-Null Count  Dtype         \n",
      "---  ------                --------------  -----         \n",
      " 0   id                    9407 non-null   int64         \n",
      " 1   acquiring_company_id  9407 non-null   int64         \n",
      " 2   acquired_company_id   9407 non-null   int64         \n",
      " 3   term_code             1831 non-null   object        \n",
      " 4   price_amount          9407 non-null   int64         \n",
      " 5   acquired_at           9378 non-null   datetime64[ns]\n",
      "dtypes: datetime64[ns](1), int64(4), object(1)\n",
      "memory usage: 441.1+ KB\n"
     ]
    }
   ],
   "source": [
    "# Меняем тип данных столбца acquired_at\n",
    "acquisition_df['acquired_at'] = pd.to_datetime(acquisition_df['acquired_at'])\n",
    "acquisition_df.info()"
   ]
  },
  {
   "cell_type": "markdown",
   "id": "a0553838-7ec7-4e1e-ba49-b18e97401507",
   "metadata": {},
   "source": [
    "Готово, все данные ьаблицы `acquisition_df` хранятся в нужных для работы типах данных\n",
    "\n",
    "Аналогично, приведем другие таблицы к нужным типам данных:"
   ]
  },
  {
   "cell_type": "code",
   "execution_count": 46,
   "id": "3cdb1fd0-fe61-407a-ba29-dae0760538b0",
   "metadata": {},
   "outputs": [
    {
     "name": "stdout",
     "output_type": "stream",
     "text": [
      "<class 'pandas.core.frame.DataFrame'>\n",
      "RangeIndex: 217774 entries, 0 to 217773\n",
      "Data columns (total 22 columns):\n",
      " #   Column               Non-Null Count   Dtype         \n",
      "---  ------               --------------   -----         \n",
      " 0   company_id_1         217472 non-null  float64       \n",
      " 1   name                 217471 non-null  object        \n",
      " 2   category_code        143886 non-null  object        \n",
      " 3   status               217472 non-null  object        \n",
      " 4   founded_at           109956 non-null  datetime64[ns]\n",
      " 5   closed_at            3449 non-null    datetime64[ns]\n",
      " 6   domain               147159 non-null  object        \n",
      " 7   network_username     95534 non-null   object        \n",
      " 8   country_code         108607 non-null  object        \n",
      " 9   investment_rounds    217472 non-null  Int64         \n",
      " 10  funding_rounds       217472 non-null  Int64         \n",
      " 11  funding_total        217472 non-null  Int64         \n",
      " 12  milestones           217472 non-null  Int64         \n",
      " 13  funding_round_id     52928 non-null   Int64         \n",
      " 14  company_id           52928 non-null   Int64         \n",
      " 15  funded_at            52680 non-null   datetime64[ns]\n",
      " 16  funding_round_type   52928 non-null   object        \n",
      " 17  raised_amount        52928 non-null   float64       \n",
      " 18  pre_money_valuation  52928 non-null   float64       \n",
      " 19  participants         52928 non-null   Int64         \n",
      " 20  is_first_round       52928 non-null   float64       \n",
      " 21  is_last_round        52928 non-null   float64       \n",
      "dtypes: Int64(7), datetime64[ns](3), float64(5), object(7)\n",
      "memory usage: 38.0+ MB\n"
     ]
    }
   ],
   "source": [
    "# Обрабатываем целочисленные значения\n",
    "company_rounds_df = company_rounds_df.astype({\n",
    "    'company_id': 'Int64',\n",
    "    'funding_rounds': 'Int64',\n",
    "    'investment_rounds': 'Int64',\n",
    "    'milestones': 'Int64',\n",
    "    'funding_round_id': 'Int64',\n",
    "    'company_id': 'Int64',\n",
    "    'participants': 'Int64',\n",
    "    'funding_total': 'Int64'\n",
    "})\n",
    "\n",
    "# Обрабатываем булевые значения\n",
    "company_rounds_df['is_first_round'] = pd.to_numeric(company_rounds_df['is_first_round'], downcast = 'integer')\n",
    "company_rounds_df['is_last_round'] = pd.to_numeric(company_rounds_df['is_last_round'], downcast = 'integer')\n",
    "\n",
    "# Обрабатываем даты\n",
    "company_rounds_df[['founded_at', 'closed_at', 'funded_at']] = company_rounds_df[['founded_at', 'closed_at', 'funded_at']].apply(pd.to_datetime)\n",
    "\n",
    "company_rounds_df.info()"
   ]
  },
  {
   "cell_type": "markdown",
   "id": "67f24aa8-f28e-4437-96c3-6fad7f6744c1",
   "metadata": {},
   "source": [
    "Теперь и все данные `company_rounds_df` тоже хранятся в нужных типах\n",
    "\n",
    "Продолжим преобразования:"
   ]
  },
  {
   "cell_type": "code",
   "execution_count": 48,
   "id": "1a692377-79ad-4e4e-9ef1-ed5f93bc0f5e",
   "metadata": {},
   "outputs": [
    {
     "name": "stdout",
     "output_type": "stream",
     "text": [
      "<class 'pandas.core.frame.DataFrame'>\n",
      "RangeIndex: 109610 entries, 0 to 109609\n",
      "Data columns (total 4 columns):\n",
      " #   Column        Non-Null Count   Dtype         \n",
      "---  ------        --------------   -----         \n",
      " 0   id            109610 non-null  int64         \n",
      " 1   person_id     109610 non-null  int64         \n",
      " 2   instituition  109555 non-null  object        \n",
      " 3   graduated_at  58054 non-null   datetime64[ns]\n",
      "dtypes: datetime64[ns](1), int64(2), object(1)\n",
      "memory usage: 3.3+ MB\n"
     ]
    }
   ],
   "source": [
    "# Приводим дату к нужному типу\n",
    "education_df['graduated_at'] = pd.to_datetime(education_df['graduated_at'])\n",
    "\n",
    "education_df.info()"
   ]
  },
  {
   "cell_type": "markdown",
   "id": "279ca93f-881b-4ea5-9387-8e10cc5e830e",
   "metadata": {},
   "source": [
    "С типами данных `education_df` разобрались\n",
    "\n",
    "Аналогично поступаем с другими таблицами:"
   ]
  },
  {
   "cell_type": "code",
   "execution_count": 50,
   "id": "73561f9c-f747-4c15-b958-a22eb7862306",
   "metadata": {},
   "outputs": [
    {
     "name": "stdout",
     "output_type": "stream",
     "text": [
      "<class 'pandas.core.frame.DataFrame'>\n",
      "RangeIndex: 226709 entries, 0 to 226708\n",
      "Data columns (total 5 columns):\n",
      " #   Column            Non-Null Count   Dtype \n",
      "---  ------            --------------   ----- \n",
      " 0   id                226709 non-null  int64 \n",
      " 1   first_name        226700 non-null  object\n",
      " 2   last_name         226705 non-null  object\n",
      " 3   company_id        34615 non-null   Int64 \n",
      " 4   network_username  38867 non-null   object\n",
      "dtypes: Int64(1), int64(1), object(3)\n",
      "memory usage: 8.9+ MB\n"
     ]
    }
   ],
   "source": [
    "# Разбираемся с табличкой people_df\n",
    "people_df['company_id'] = people_df['company_id'].astype('Int64')\n",
    "people_df.info()"
   ]
  },
  {
   "cell_type": "code",
   "execution_count": 51,
   "id": "11b726b1-5afb-43a2-ac15-2a58463220f1",
   "metadata": {},
   "outputs": [
    {
     "name": "stdout",
     "output_type": "stream",
     "text": [
      "<class 'pandas.core.frame.DataFrame'>\n",
      "RangeIndex: 11652 entries, 0 to 11651\n",
      "Data columns (total 9 columns):\n",
      " #   Column              Non-Null Count  Dtype         \n",
      "---  ------              --------------  -----         \n",
      " 0   id                  11652 non-null  int64         \n",
      " 1   name                11649 non-null  object        \n",
      " 2   founded_at          4605 non-null   datetime64[ns]\n",
      " 3   domain              7362 non-null   object        \n",
      " 4   network_username    2149 non-null   object        \n",
      " 5   country_code        7053 non-null   object        \n",
      " 6   investment_rounds   11652 non-null  int64         \n",
      " 7   invested_companies  11652 non-null  int64         \n",
      " 8   milestones          11652 non-null  int64         \n",
      "dtypes: datetime64[ns](1), int64(4), object(4)\n",
      "memory usage: 819.4+ KB\n"
     ]
    }
   ],
   "source": [
    "# Теперь табличка fund_df\n",
    "fund_df['founded_at'] = pd.to_datetime(fund_df['founded_at'])\n",
    "fund_df.info()"
   ]
  },
  {
   "cell_type": "markdown",
   "id": "4d9f005a-46b5-4f4b-9a3e-e5411d48fe5a",
   "metadata": {},
   "source": [
    "Готово, теперь по всех таблицах данные хранятся в нужных типах данных. Можно приступать к работе с пропусками.\n",
    "\n"
   ]
  },
  {
   "cell_type": "markdown",
   "id": "201eb827",
   "metadata": {},
   "source": [
    "#### Работа с пропусками"
   ]
  },
  {
   "cell_type": "markdown",
   "id": "890aedf9-75a3-45b4-b24b-f4355be2c43a",
   "metadata": {},
   "source": [
    "Рассмотрим количество пропусков в абсолютных и относительных величинах.\n",
    "\n",
    "**Датафрейм acquisition_df:**"
   ]
  },
  {
   "cell_type": "code",
   "execution_count": 189,
   "id": "2d2942a5-c5a5-4dcb-8102-4a6477c3311d",
   "metadata": {
    "scrolled": true
   },
   "outputs": [
    {
     "data": {
      "text/html": [
       "<div>\n",
       "<style scoped>\n",
       "    .dataframe tbody tr th:only-of-type {\n",
       "        vertical-align: middle;\n",
       "    }\n",
       "\n",
       "    .dataframe tbody tr th {\n",
       "        vertical-align: top;\n",
       "    }\n",
       "\n",
       "    .dataframe thead th {\n",
       "        text-align: right;\n",
       "    }\n",
       "</style>\n",
       "<table border=\"1\" class=\"dataframe\">\n",
       "  <thead>\n",
       "    <tr style=\"text-align: right;\">\n",
       "      <th></th>\n",
       "      <th>Пропуски (абс.)</th>\n",
       "      <th>Пропуски (%)</th>\n",
       "    </tr>\n",
       "  </thead>\n",
       "  <tbody>\n",
       "    <tr>\n",
       "      <th>term_code</th>\n",
       "      <td>7576</td>\n",
       "      <td>80.535771</td>\n",
       "    </tr>\n",
       "    <tr>\n",
       "      <th>acquired_at</th>\n",
       "      <td>29</td>\n",
       "      <td>0.308281</td>\n",
       "    </tr>\n",
       "    <tr>\n",
       "      <th>id</th>\n",
       "      <td>0</td>\n",
       "      <td>0.000000</td>\n",
       "    </tr>\n",
       "    <tr>\n",
       "      <th>acquiring_company_id</th>\n",
       "      <td>0</td>\n",
       "      <td>0.000000</td>\n",
       "    </tr>\n",
       "    <tr>\n",
       "      <th>acquired_company_id</th>\n",
       "      <td>0</td>\n",
       "      <td>0.000000</td>\n",
       "    </tr>\n",
       "    <tr>\n",
       "      <th>price_amount</th>\n",
       "      <td>0</td>\n",
       "      <td>0.000000</td>\n",
       "    </tr>\n",
       "  </tbody>\n",
       "</table>\n",
       "</div>"
      ],
      "text/plain": [
       "                      Пропуски (абс.)  Пропуски (%)\n",
       "term_code                        7576     80.535771\n",
       "acquired_at                        29      0.308281\n",
       "id                                  0      0.000000\n",
       "acquiring_company_id                0      0.000000\n",
       "acquired_company_id                 0      0.000000\n",
       "price_amount                        0      0.000000"
      ]
     },
     "execution_count": 189,
     "metadata": {},
     "output_type": "execute_result"
    }
   ],
   "source": [
    "# Рассмотрим количество пропусков в абсолютной и относительной величине\n",
    "missing_data_acquisition_df = acquisition_df.isna().sum()\n",
    "missing_share_acquisition_df = acquisition_df.isna().mean() *100\n",
    "missing_all_acquisition_df = pd.DataFrame({f'Пропуски (абс.)': missing_data_acquisition_df, f'Пропуски (%)': missing_share_acquisition_df})\n",
    "missing_all_acquisition_df = missing_all_acquisition_df.sort_values(by='Пропуски (абс.)', ascending=False)\n",
    "missing_all_acquisition_df"
   ]
  },
  {
   "cell_type": "markdown",
   "id": "cb60be5d-77db-49df-985d-2abe38b861f9",
   "metadata": {},
   "source": [
    "**Датафрейм company_rounds_df:**"
   ]
  },
  {
   "cell_type": "code",
   "execution_count": 191,
   "id": "3c30660d-fceb-4579-abd4-c2afccd9ed0b",
   "metadata": {},
   "outputs": [
    {
     "data": {
      "text/html": [
       "<div>\n",
       "<style scoped>\n",
       "    .dataframe tbody tr th:only-of-type {\n",
       "        vertical-align: middle;\n",
       "    }\n",
       "\n",
       "    .dataframe tbody tr th {\n",
       "        vertical-align: top;\n",
       "    }\n",
       "\n",
       "    .dataframe thead th {\n",
       "        text-align: right;\n",
       "    }\n",
       "</style>\n",
       "<table border=\"1\" class=\"dataframe\">\n",
       "  <thead>\n",
       "    <tr style=\"text-align: right;\">\n",
       "      <th></th>\n",
       "      <th>Пропуски (абс.)</th>\n",
       "      <th>Пропуски (%)</th>\n",
       "    </tr>\n",
       "  </thead>\n",
       "  <tbody>\n",
       "    <tr>\n",
       "      <th>closed_at</th>\n",
       "      <td>214325</td>\n",
       "      <td>98.416248</td>\n",
       "    </tr>\n",
       "    <tr>\n",
       "      <th>funded_at</th>\n",
       "      <td>165094</td>\n",
       "      <td>75.809784</td>\n",
       "    </tr>\n",
       "    <tr>\n",
       "      <th>is_last_round</th>\n",
       "      <td>164846</td>\n",
       "      <td>75.695905</td>\n",
       "    </tr>\n",
       "    <tr>\n",
       "      <th>funding_round_type</th>\n",
       "      <td>164846</td>\n",
       "      <td>75.695905</td>\n",
       "    </tr>\n",
       "    <tr>\n",
       "      <th>is_first_round</th>\n",
       "      <td>164846</td>\n",
       "      <td>75.695905</td>\n",
       "    </tr>\n",
       "    <tr>\n",
       "      <th>participants</th>\n",
       "      <td>164846</td>\n",
       "      <td>75.695905</td>\n",
       "    </tr>\n",
       "    <tr>\n",
       "      <th>pre_money_valuation</th>\n",
       "      <td>164846</td>\n",
       "      <td>75.695905</td>\n",
       "    </tr>\n",
       "    <tr>\n",
       "      <th>raised_amount</th>\n",
       "      <td>164846</td>\n",
       "      <td>75.695905</td>\n",
       "    </tr>\n",
       "    <tr>\n",
       "      <th>funding_round_id</th>\n",
       "      <td>164846</td>\n",
       "      <td>75.695905</td>\n",
       "    </tr>\n",
       "    <tr>\n",
       "      <th>company_id</th>\n",
       "      <td>164846</td>\n",
       "      <td>75.695905</td>\n",
       "    </tr>\n",
       "    <tr>\n",
       "      <th>network_username</th>\n",
       "      <td>122240</td>\n",
       "      <td>56.131586</td>\n",
       "    </tr>\n",
       "    <tr>\n",
       "      <th>country_code</th>\n",
       "      <td>109167</td>\n",
       "      <td>50.128574</td>\n",
       "    </tr>\n",
       "    <tr>\n",
       "      <th>founded_at</th>\n",
       "      <td>107818</td>\n",
       "      <td>49.509124</td>\n",
       "    </tr>\n",
       "    <tr>\n",
       "      <th>category_code</th>\n",
       "      <td>73888</td>\n",
       "      <td>33.928752</td>\n",
       "    </tr>\n",
       "    <tr>\n",
       "      <th>domain</th>\n",
       "      <td>70615</td>\n",
       "      <td>32.425818</td>\n",
       "    </tr>\n",
       "    <tr>\n",
       "      <th>name</th>\n",
       "      <td>303</td>\n",
       "      <td>0.139135</td>\n",
       "    </tr>\n",
       "    <tr>\n",
       "      <th>company_id_1</th>\n",
       "      <td>302</td>\n",
       "      <td>0.138676</td>\n",
       "    </tr>\n",
       "    <tr>\n",
       "      <th>milestones</th>\n",
       "      <td>302</td>\n",
       "      <td>0.138676</td>\n",
       "    </tr>\n",
       "    <tr>\n",
       "      <th>funding_rounds</th>\n",
       "      <td>302</td>\n",
       "      <td>0.138676</td>\n",
       "    </tr>\n",
       "    <tr>\n",
       "      <th>investment_rounds</th>\n",
       "      <td>302</td>\n",
       "      <td>0.138676</td>\n",
       "    </tr>\n",
       "    <tr>\n",
       "      <th>status</th>\n",
       "      <td>302</td>\n",
       "      <td>0.138676</td>\n",
       "    </tr>\n",
       "    <tr>\n",
       "      <th>funding_total</th>\n",
       "      <td>302</td>\n",
       "      <td>0.138676</td>\n",
       "    </tr>\n",
       "  </tbody>\n",
       "</table>\n",
       "</div>"
      ],
      "text/plain": [
       "                     Пропуски (абс.)  Пропуски (%)\n",
       "closed_at                     214325     98.416248\n",
       "funded_at                     165094     75.809784\n",
       "is_last_round                 164846     75.695905\n",
       "funding_round_type            164846     75.695905\n",
       "is_first_round                164846     75.695905\n",
       "participants                  164846     75.695905\n",
       "pre_money_valuation           164846     75.695905\n",
       "raised_amount                 164846     75.695905\n",
       "funding_round_id              164846     75.695905\n",
       "company_id                    164846     75.695905\n",
       "network_username              122240     56.131586\n",
       "country_code                  109167     50.128574\n",
       "founded_at                    107818     49.509124\n",
       "category_code                  73888     33.928752\n",
       "domain                         70615     32.425818\n",
       "name                             303      0.139135\n",
       "company_id_1                     302      0.138676\n",
       "milestones                       302      0.138676\n",
       "funding_rounds                   302      0.138676\n",
       "investment_rounds                302      0.138676\n",
       "status                           302      0.138676\n",
       "funding_total                    302      0.138676"
      ]
     },
     "execution_count": 191,
     "metadata": {},
     "output_type": "execute_result"
    }
   ],
   "source": [
    "missing_data_company_rounds_df = company_rounds_df.isna().sum()\n",
    "missing_share_company_rounds_df  = company_rounds_df.isna().mean() * 100\n",
    "missing_all_company_rounds_df = pd.DataFrame({f'Пропуски (абс.)': missing_data_company_rounds_df, f'Пропуски (%)': missing_share_company_rounds_df})\n",
    "missing_all_company_rounds_df = missing_all_company_rounds_df.sort_values(by='Пропуски (абс.)', ascending=False)\n",
    "missing_all_company_rounds_df"
   ]
  },
  {
   "cell_type": "markdown",
   "id": "019cee32-fd41-4022-b3f2-2652c93e1237",
   "metadata": {},
   "source": [
    "**Датафрейм education_df**"
   ]
  },
  {
   "cell_type": "code",
   "execution_count": 193,
   "id": "dd4110d9-d098-4d6e-971b-3bc1e698fe63",
   "metadata": {},
   "outputs": [
    {
     "data": {
      "text/html": [
       "<div>\n",
       "<style scoped>\n",
       "    .dataframe tbody tr th:only-of-type {\n",
       "        vertical-align: middle;\n",
       "    }\n",
       "\n",
       "    .dataframe tbody tr th {\n",
       "        vertical-align: top;\n",
       "    }\n",
       "\n",
       "    .dataframe thead th {\n",
       "        text-align: right;\n",
       "    }\n",
       "</style>\n",
       "<table border=\"1\" class=\"dataframe\">\n",
       "  <thead>\n",
       "    <tr style=\"text-align: right;\">\n",
       "      <th></th>\n",
       "      <th>Пропуски (абс.)</th>\n",
       "      <th>Пропуски (%)</th>\n",
       "    </tr>\n",
       "  </thead>\n",
       "  <tbody>\n",
       "    <tr>\n",
       "      <th>graduated_at</th>\n",
       "      <td>51556</td>\n",
       "      <td>47.035854</td>\n",
       "    </tr>\n",
       "    <tr>\n",
       "      <th>instituition</th>\n",
       "      <td>55</td>\n",
       "      <td>0.050178</td>\n",
       "    </tr>\n",
       "    <tr>\n",
       "      <th>id</th>\n",
       "      <td>0</td>\n",
       "      <td>0.000000</td>\n",
       "    </tr>\n",
       "    <tr>\n",
       "      <th>person_id</th>\n",
       "      <td>0</td>\n",
       "      <td>0.000000</td>\n",
       "    </tr>\n",
       "  </tbody>\n",
       "</table>\n",
       "</div>"
      ],
      "text/plain": [
       "              Пропуски (абс.)  Пропуски (%)\n",
       "graduated_at            51556     47.035854\n",
       "instituition               55      0.050178\n",
       "id                          0      0.000000\n",
       "person_id                   0      0.000000"
      ]
     },
     "execution_count": 193,
     "metadata": {},
     "output_type": "execute_result"
    }
   ],
   "source": [
    "missing_data_education_df = education_df.isna().sum()\n",
    "missing_share_education_df  = education_df.isna().mean() * 100\n",
    "missing_all_education_df = pd.DataFrame({f'Пропуски (абс.)': missing_data_education_df, f'Пропуски (%)': missing_share_education_df})\n",
    "missing_all_education_df = missing_all_education_df.sort_values(by='Пропуски (абс.)', ascending=False)\n",
    "missing_all_education_df"
   ]
  },
  {
   "cell_type": "markdown",
   "id": "b0ec0059-e250-4b81-a597-2101f10a5687",
   "metadata": {},
   "source": [
    "**Датафрейм people_df**"
   ]
  },
  {
   "cell_type": "code",
   "execution_count": 195,
   "id": "fe9d23f1-c49a-4cb6-9596-84f3ab38537a",
   "metadata": {},
   "outputs": [
    {
     "data": {
      "text/html": [
       "<div>\n",
       "<style scoped>\n",
       "    .dataframe tbody tr th:only-of-type {\n",
       "        vertical-align: middle;\n",
       "    }\n",
       "\n",
       "    .dataframe tbody tr th {\n",
       "        vertical-align: top;\n",
       "    }\n",
       "\n",
       "    .dataframe thead th {\n",
       "        text-align: right;\n",
       "    }\n",
       "</style>\n",
       "<table border=\"1\" class=\"dataframe\">\n",
       "  <thead>\n",
       "    <tr style=\"text-align: right;\">\n",
       "      <th></th>\n",
       "      <th>Пропуски (абс.)</th>\n",
       "      <th>Пропуски (%)</th>\n",
       "    </tr>\n",
       "  </thead>\n",
       "  <tbody>\n",
       "    <tr>\n",
       "      <th>company_id</th>\n",
       "      <td>192094</td>\n",
       "      <td>84.731528</td>\n",
       "    </tr>\n",
       "    <tr>\n",
       "      <th>network_username</th>\n",
       "      <td>187842</td>\n",
       "      <td>82.855996</td>\n",
       "    </tr>\n",
       "    <tr>\n",
       "      <th>first_name</th>\n",
       "      <td>9</td>\n",
       "      <td>0.003970</td>\n",
       "    </tr>\n",
       "    <tr>\n",
       "      <th>last_name</th>\n",
       "      <td>4</td>\n",
       "      <td>0.001764</td>\n",
       "    </tr>\n",
       "    <tr>\n",
       "      <th>id</th>\n",
       "      <td>0</td>\n",
       "      <td>0.000000</td>\n",
       "    </tr>\n",
       "  </tbody>\n",
       "</table>\n",
       "</div>"
      ],
      "text/plain": [
       "                  Пропуски (абс.)  Пропуски (%)\n",
       "company_id                 192094     84.731528\n",
       "network_username           187842     82.855996\n",
       "first_name                      9      0.003970\n",
       "last_name                       4      0.001764\n",
       "id                              0      0.000000"
      ]
     },
     "execution_count": 195,
     "metadata": {},
     "output_type": "execute_result"
    }
   ],
   "source": [
    "missing_data_people_df = people_df.isna().sum()\n",
    "missing_share_people_df  = people_df.isna().mean() * 100\n",
    "missing_all_people_df = pd.DataFrame({f'Пропуски (абс.)': missing_data_people_df, f'Пропуски (%)': missing_share_people_df})\n",
    "missing_all_people_df = missing_all_people_df.sort_values(by='Пропуски (абс.)', ascending=False)\n",
    "missing_all_people_df"
   ]
  },
  {
   "cell_type": "markdown",
   "id": "bdfb79fe-1def-4968-9f04-84649ca3007e",
   "metadata": {},
   "source": [
    "**Датафрейм degrees_df**"
   ]
  },
  {
   "cell_type": "code",
   "execution_count": 197,
   "id": "a7091fee-212e-4d7f-84e6-200f76396390",
   "metadata": {},
   "outputs": [
    {
     "data": {
      "text/html": [
       "<div>\n",
       "<style scoped>\n",
       "    .dataframe tbody tr th:only-of-type {\n",
       "        vertical-align: middle;\n",
       "    }\n",
       "\n",
       "    .dataframe tbody tr th {\n",
       "        vertical-align: top;\n",
       "    }\n",
       "\n",
       "    .dataframe thead th {\n",
       "        text-align: right;\n",
       "    }\n",
       "</style>\n",
       "<table border=\"1\" class=\"dataframe\">\n",
       "  <thead>\n",
       "    <tr style=\"text-align: right;\">\n",
       "      <th></th>\n",
       "      <th>Пропуски (абс.)</th>\n",
       "      <th>Пропуски (%)</th>\n",
       "    </tr>\n",
       "  </thead>\n",
       "  <tbody>\n",
       "    <tr>\n",
       "      <th>subject</th>\n",
       "      <td>28312</td>\n",
       "      <td>25.829760</td>\n",
       "    </tr>\n",
       "    <tr>\n",
       "      <th>degree_type</th>\n",
       "      <td>11221</td>\n",
       "      <td>10.237205</td>\n",
       "    </tr>\n",
       "    <tr>\n",
       "      <th>id</th>\n",
       "      <td>0</td>\n",
       "      <td>0.000000</td>\n",
       "    </tr>\n",
       "    <tr>\n",
       "      <th>object_id</th>\n",
       "      <td>0</td>\n",
       "      <td>0.000000</td>\n",
       "    </tr>\n",
       "  </tbody>\n",
       "</table>\n",
       "</div>"
      ],
      "text/plain": [
       "             Пропуски (абс.)  Пропуски (%)\n",
       "subject                28312     25.829760\n",
       "degree_type            11221     10.237205\n",
       "id                         0      0.000000\n",
       "object_id                  0      0.000000"
      ]
     },
     "execution_count": 197,
     "metadata": {},
     "output_type": "execute_result"
    }
   ],
   "source": [
    "missing_data_degrees_df = degrees_df.isna().sum()\n",
    "missing_share_degrees_df  = degrees_df.isna().mean() * 100\n",
    "missing_all_degrees_df = pd.DataFrame({f'Пропуски (абс.)': missing_data_degrees_df, f'Пропуски (%)': missing_share_degrees_df})\n",
    "missing_all_degrees_df = missing_all_degrees_df.sort_values(by='Пропуски (абс.)', ascending=False)\n",
    "missing_all_degrees_df"
   ]
  },
  {
   "cell_type": "markdown",
   "id": "11cd4518-bf25-4ce8-86be-50c456c1906e",
   "metadata": {},
   "source": [
    "**Датафрейм fund_df**"
   ]
  },
  {
   "cell_type": "code",
   "execution_count": 199,
   "id": "656a4013-cdc4-44e6-881c-40948d0f7a24",
   "metadata": {},
   "outputs": [
    {
     "data": {
      "text/html": [
       "<div>\n",
       "<style scoped>\n",
       "    .dataframe tbody tr th:only-of-type {\n",
       "        vertical-align: middle;\n",
       "    }\n",
       "\n",
       "    .dataframe tbody tr th {\n",
       "        vertical-align: top;\n",
       "    }\n",
       "\n",
       "    .dataframe thead th {\n",
       "        text-align: right;\n",
       "    }\n",
       "</style>\n",
       "<table border=\"1\" class=\"dataframe\">\n",
       "  <thead>\n",
       "    <tr style=\"text-align: right;\">\n",
       "      <th></th>\n",
       "      <th>Пропуски (абс.)</th>\n",
       "      <th>Пропуски (%)</th>\n",
       "    </tr>\n",
       "  </thead>\n",
       "  <tbody>\n",
       "    <tr>\n",
       "      <th>network_username</th>\n",
       "      <td>9503</td>\n",
       "      <td>81.556814</td>\n",
       "    </tr>\n",
       "    <tr>\n",
       "      <th>founded_at</th>\n",
       "      <td>7047</td>\n",
       "      <td>60.478888</td>\n",
       "    </tr>\n",
       "    <tr>\n",
       "      <th>country_code</th>\n",
       "      <td>4599</td>\n",
       "      <td>39.469619</td>\n",
       "    </tr>\n",
       "    <tr>\n",
       "      <th>domain</th>\n",
       "      <td>4290</td>\n",
       "      <td>36.817714</td>\n",
       "    </tr>\n",
       "    <tr>\n",
       "      <th>name</th>\n",
       "      <td>3</td>\n",
       "      <td>0.025747</td>\n",
       "    </tr>\n",
       "    <tr>\n",
       "      <th>id</th>\n",
       "      <td>0</td>\n",
       "      <td>0.000000</td>\n",
       "    </tr>\n",
       "    <tr>\n",
       "      <th>investment_rounds</th>\n",
       "      <td>0</td>\n",
       "      <td>0.000000</td>\n",
       "    </tr>\n",
       "    <tr>\n",
       "      <th>invested_companies</th>\n",
       "      <td>0</td>\n",
       "      <td>0.000000</td>\n",
       "    </tr>\n",
       "    <tr>\n",
       "      <th>milestones</th>\n",
       "      <td>0</td>\n",
       "      <td>0.000000</td>\n",
       "    </tr>\n",
       "  </tbody>\n",
       "</table>\n",
       "</div>"
      ],
      "text/plain": [
       "                    Пропуски (абс.)  Пропуски (%)\n",
       "network_username               9503     81.556814\n",
       "founded_at                     7047     60.478888\n",
       "country_code                   4599     39.469619\n",
       "domain                         4290     36.817714\n",
       "name                              3      0.025747\n",
       "id                                0      0.000000\n",
       "investment_rounds                 0      0.000000\n",
       "invested_companies                0      0.000000\n",
       "milestones                        0      0.000000"
      ]
     },
     "execution_count": 199,
     "metadata": {},
     "output_type": "execute_result"
    }
   ],
   "source": [
    "missing_data_fund_df = fund_df.isna().sum()\n",
    "missing_share_fund_df  = fund_df.isna().mean() * 100\n",
    "missing_all_fund_df = pd.DataFrame({f'Пропуски (абс.)': missing_data_fund_df, f'Пропуски (%)': missing_share_fund_df})\n",
    "missing_all_fund_df= missing_all_fund_df.sort_values(by='Пропуски (абс.)', ascending=False)\n",
    "missing_all_fund_df"
   ]
  },
  {
   "cell_type": "markdown",
   "id": "c6051598-d57a-465d-a0b3-26f07bfda317",
   "metadata": {},
   "source": [
    "**Датафрейм investment_df**\n",
    "\n",
    "Из первичного знакомства нам уже известно что пропуски в этом датафрейме отсутсвуют "
   ]
  },
  {
   "cell_type": "markdown",
   "id": "2154c427-7111-4b34-8f5b-f77f60ffbe15",
   "metadata": {},
   "source": [
    "**Первичные выводы**\n",
    "\n",
    "Основным источником пропусков, который требует особого внимания, является датафрейм `company_rounds_df`, содержащий информацию о компаниях и их раундах финансирования. Пропуски в этом датафрейме составляют значительную часть данных, причем многие ключевые столбцы имеют более 75% пропусков, такие как `closed_at`, `funded_at`, `is_first_round`, `funding_round_type`, `participants` и другие. Эти данные критически важны для анализа динамики развития стартапов, их привлечения в инвестиционные раунды и оценки готовности к покупке, поэтому пропуски в них могут существенно ограничить точность анализа.\n",
    "\n",
    "Так как восстановить отсутствующие данные не представляется возможным, необходимо будет работать с теми данными, которые есть. Для уменьшения влияния пропусков на результат анализа, можно использовать различные подходы к их заполнению. Например, заполнять недостающие значения центральными величинами, как мода, медиана или среднее в разрезе категорических данных (например, заполнять данные о сумме финансирования исходя из среднего по такой же категории и оценки стартапа). \n",
    "\n",
    "В случае с датами, например, для funded_at или closed_at, пропуски могут быть заполнены значением \"неизвестно\", если для анализа достаточно лишь наличия или отсутствия таких данных, или же пропуски могут быть оставлены без изменений, если это не повлияет на окончательные выводы."
   ]
  },
  {
   "cell_type": "markdown",
   "id": "2b9bf898-7ccb-4bd9-b461-4c4f2f116561",
   "metadata": {},
   "source": [
    "## Шаг 2. Предобработка данных, предварительное исследование"
   ]
  },
  {
   "cell_type": "markdown",
   "id": "dc75e2d2-7bbd-4906-bed7-7b5cfc498b97",
   "metadata": {},
   "source": [
    "### Раунды финансирования по годам"
   ]
  },
  {
   "cell_type": "markdown",
   "id": "bdfd884d-3a97-4d6d-90b9-46c07435ed4f",
   "metadata": {},
   "source": [
    "Давайте построим сводную таблицу с помощью метода `pivot_table`"
   ]
  },
  {
   "cell_type": "code",
   "execution_count": 74,
   "id": "a94fb0be-3906-4968-9d5b-a54312621eb5",
   "metadata": {},
   "outputs": [
    {
     "data": {
      "text/html": [
       "<div>\n",
       "<style scoped>\n",
       "    .dataframe tbody tr th:only-of-type {\n",
       "        vertical-align: middle;\n",
       "    }\n",
       "\n",
       "    .dataframe tbody tr th {\n",
       "        vertical-align: top;\n",
       "    }\n",
       "\n",
       "    .dataframe thead th {\n",
       "        text-align: right;\n",
       "    }\n",
       "</style>\n",
       "<table border=\"1\" class=\"dataframe\">\n",
       "  <thead>\n",
       "    <tr style=\"text-align: right;\">\n",
       "      <th></th>\n",
       "      <th>median_funding</th>\n",
       "      <th>total_rounds</th>\n",
       "    </tr>\n",
       "    <tr>\n",
       "      <th>funded_at</th>\n",
       "      <th></th>\n",
       "      <th></th>\n",
       "    </tr>\n",
       "  </thead>\n",
       "  <tbody>\n",
       "    <tr>\n",
       "      <th>1999.0</th>\n",
       "      <td>2000000.0</td>\n",
       "      <td>76</td>\n",
       "    </tr>\n",
       "    <tr>\n",
       "      <th>2000.0</th>\n",
       "      <td>4200000.0</td>\n",
       "      <td>125</td>\n",
       "    </tr>\n",
       "    <tr>\n",
       "      <th>2001.0</th>\n",
       "      <td>3000000.0</td>\n",
       "      <td>96</td>\n",
       "    </tr>\n",
       "    <tr>\n",
       "      <th>2002.0</th>\n",
       "      <td>4200000.0</td>\n",
       "      <td>116</td>\n",
       "    </tr>\n",
       "    <tr>\n",
       "      <th>2003.0</th>\n",
       "      <td>3000000.0</td>\n",
       "      <td>159</td>\n",
       "    </tr>\n",
       "    <tr>\n",
       "      <th>2004.0</th>\n",
       "      <td>5000000.0</td>\n",
       "      <td>291</td>\n",
       "    </tr>\n",
       "    <tr>\n",
       "      <th>2005.0</th>\n",
       "      <td>5500000.0</td>\n",
       "      <td>1633</td>\n",
       "    </tr>\n",
       "    <tr>\n",
       "      <th>2006.0</th>\n",
       "      <td>5000000.0</td>\n",
       "      <td>2436</td>\n",
       "    </tr>\n",
       "    <tr>\n",
       "      <th>2007.0</th>\n",
       "      <td>3973320.0</td>\n",
       "      <td>3279</td>\n",
       "    </tr>\n",
       "    <tr>\n",
       "      <th>2008.0</th>\n",
       "      <td>3110000.0</td>\n",
       "      <td>3774</td>\n",
       "    </tr>\n",
       "    <tr>\n",
       "      <th>2009.0</th>\n",
       "      <td>2000000.0</td>\n",
       "      <td>4151</td>\n",
       "    </tr>\n",
       "    <tr>\n",
       "      <th>2010.0</th>\n",
       "      <td>1602500.0</td>\n",
       "      <td>6221</td>\n",
       "    </tr>\n",
       "    <tr>\n",
       "      <th>2011.0</th>\n",
       "      <td>1200000.0</td>\n",
       "      <td>9204</td>\n",
       "    </tr>\n",
       "    <tr>\n",
       "      <th>2012.0</th>\n",
       "      <td>1000000.0</td>\n",
       "      <td>9970</td>\n",
       "    </tr>\n",
       "    <tr>\n",
       "      <th>2013.0</th>\n",
       "      <td>1200000.0</td>\n",
       "      <td>11072</td>\n",
       "    </tr>\n",
       "  </tbody>\n",
       "</table>\n",
       "</div>"
      ],
      "text/plain": [
       "           median_funding  total_rounds\n",
       "funded_at                              \n",
       "1999.0          2000000.0            76\n",
       "2000.0          4200000.0           125\n",
       "2001.0          3000000.0            96\n",
       "2002.0          4200000.0           116\n",
       "2003.0          3000000.0           159\n",
       "2004.0          5000000.0           291\n",
       "2005.0          5500000.0          1633\n",
       "2006.0          5000000.0          2436\n",
       "2007.0          3973320.0          3279\n",
       "2008.0          3110000.0          3774\n",
       "2009.0          2000000.0          4151\n",
       "2010.0          1602500.0          6221\n",
       "2011.0          1200000.0          9204\n",
       "2012.0          1000000.0          9970\n",
       "2013.0          1200000.0         11072"
      ]
     },
     "execution_count": 74,
     "metadata": {},
     "output_type": "execute_result"
    }
   ],
   "source": [
    "# Строим сводную таблицу\n",
    "funding_pivot = pd.pivot_table(\n",
    "    company_rounds_df,\n",
    "    values = 'raised_amount',\n",
    "    index = company_rounds_df['funded_at'].dt.year,\n",
    "    aggfunc = ['median', 'count']\n",
    ")\n",
    "\n",
    "# Переименовываем столбцы\n",
    "funding_pivot.columns = ['median_funding', 'total_rounds']\n",
    "\n",
    "#Фильтруем по условию задачи\n",
    "filtered_funding_pivot = funding_pivot[funding_pivot['total_rounds'] > 50]\n",
    "filtered_funding_pivot"
   ]
  },
  {
   "cell_type": "markdown",
   "id": "f9efb47f-1f68-45cb-b570-6228dd4a14a4",
   "metadata": {},
   "source": [
    "Давайте посмотри наглядно и построим линейный график для наглядного изменения цены по годам"
   ]
  },
  {
   "cell_type": "code",
   "execution_count": 76,
   "id": "2d407731-523d-46ed-a64d-b014abff59b3",
   "metadata": {},
   "outputs": [
    {
     "data": {
      "image/png": "[encoded data removed]",
      "text/plain": [
       "<Figure size 1000x500 with 1 Axes>"
      ]
     },
     "metadata": {},
     "output_type": "display_data"
    }
   ],
   "source": [
    "# Создаём контейнер графика matplotlib и задаём его размер\n",
    "plt.figure(figsize=(10, 5))\n",
    "\n",
    "#Строим график\n",
    "sns.lineplot(\n",
    "    data=filtered_funding_pivot, \n",
    "    x=filtered_funding_pivot.index, \n",
    "    y='median_funding', \n",
    "    marker='o')\n",
    "\n",
    "plt.xlabel(\"Год\")\n",
    "plt.ylabel(\"Медианный размер финансирования в млн.\")\n",
    "plt.title(\"Динамика типичного размера финансирования стартапов по годам\")\n",
    "plt.grid(True)\n",
    "\n",
    "#Выводим график\n",
    "plt.show()"
   ]
  },
  {
   "cell_type": "markdown",
   "id": "329cf87d-d04e-4edb-9d7a-47306fb88416",
   "metadata": {},
   "source": [
    "Как мы видим, в 2005 году был максимальный типичный размер финансирования в разрезе раунда - 5500000.0.\n",
    "Минимальный - в 2012 году. С 2005 года наблюдается общий спад в типичном размере финансирования на один раунд, что может свидетельствовать о снижении объемов инвестиций в стартапы.\n",
    "\n",
    "Как мы видим, за 2013 год типичный размер финансирования немного вырос и дошел до размеров 2011 года, однако общее количество раундов за 2013 год - максимальное. \n",
    "\n",
    "Несмотря на рост числа раундов с 2005 по 2013 годы, размер финансирования в одном раунде снижается, особенно после пика в 2005 году. Это может свидетельствовать о большем количестве стартапов, получающих более мелкие инвестиции, а также об изменении инвестиционных стратегий на более осторожные. В 2013 году наблюдается увеличение числа раундов до рекорда, но при этом размер типичных раундов вырос немного, что может быть связано с увеличением конкуренции за инвестиции и увеличении количества стартапов."
   ]
  },
  {
   "cell_type": "markdown",
   "id": "117ddccd-f86d-4aa3-b826-92839a0cb1d2",
   "metadata": {},
   "source": [
    "### Люди и их образование"
   ]
  },
  {
   "cell_type": "markdown",
   "id": "739f1830-d1a4-4ee3-9dd7-4c52acf2f7d6",
   "metadata": {},
   "source": [
    "Давайте рассмотрим долю людей у которых указано образование в зависимости от размера компании, для этого нам необходимо присоедениеть датафреймы `people_df` и `education_df`"
   ]
  },
  {
   "cell_type": "code",
   "execution_count": 81,
   "id": "71a36f2a-3169-4bde-96dc-9bec6935ac8f",
   "metadata": {},
   "outputs": [
    {
     "data": {
      "text/html": [
       "<div>\n",
       "<style scoped>\n",
       "    .dataframe tbody tr th:only-of-type {\n",
       "        vertical-align: middle;\n",
       "    }\n",
       "\n",
       "    .dataframe tbody tr th {\n",
       "        vertical-align: top;\n",
       "    }\n",
       "\n",
       "    .dataframe thead th {\n",
       "        text-align: right;\n",
       "    }\n",
       "</style>\n",
       "<table border=\"1\" class=\"dataframe\">\n",
       "  <thead>\n",
       "    <tr style=\"text-align: right;\">\n",
       "      <th></th>\n",
       "      <th>id_x</th>\n",
       "      <th>first_name</th>\n",
       "      <th>last_name</th>\n",
       "      <th>company_id</th>\n",
       "      <th>network_username</th>\n",
       "      <th>id_y</th>\n",
       "      <th>person_id</th>\n",
       "      <th>instituition</th>\n",
       "      <th>graduated_at</th>\n",
       "    </tr>\n",
       "  </thead>\n",
       "  <tbody>\n",
       "    <tr>\n",
       "      <th>0</th>\n",
       "      <td>10</td>\n",
       "      <td>Mark</td>\n",
       "      <td>Zuckerberg</td>\n",
       "      <td>5</td>\n",
       "      <td>NaN</td>\n",
       "      <td>2415.0</td>\n",
       "      <td>10.0</td>\n",
       "      <td>Harvard University</td>\n",
       "      <td>NaT</td>\n",
       "    </tr>\n",
       "    <tr>\n",
       "      <th>1</th>\n",
       "      <td>100</td>\n",
       "      <td>Peter</td>\n",
       "      <td>Lester</td>\n",
       "      <td>27</td>\n",
       "      <td>NaN</td>\n",
       "      <td>NaN</td>\n",
       "      <td>NaN</td>\n",
       "      <td>NaN</td>\n",
       "      <td>NaT</td>\n",
       "    </tr>\n",
       "    <tr>\n",
       "      <th>2</th>\n",
       "      <td>1000</td>\n",
       "      <td>Dr. Steven</td>\n",
       "      <td>E. Saunders</td>\n",
       "      <td>292</td>\n",
       "      <td>NaN</td>\n",
       "      <td>NaN</td>\n",
       "      <td>NaN</td>\n",
       "      <td>NaN</td>\n",
       "      <td>NaT</td>\n",
       "    </tr>\n",
       "    <tr>\n",
       "      <th>3</th>\n",
       "      <td>10000</td>\n",
       "      <td>Neil</td>\n",
       "      <td>Capel</td>\n",
       "      <td>2526</td>\n",
       "      <td>NaN</td>\n",
       "      <td>NaN</td>\n",
       "      <td>NaN</td>\n",
       "      <td>NaN</td>\n",
       "      <td>NaT</td>\n",
       "    </tr>\n",
       "    <tr>\n",
       "      <th>4</th>\n",
       "      <td>100000</td>\n",
       "      <td>Sue</td>\n",
       "      <td>Pilsch</td>\n",
       "      <td>&lt;NA&gt;</td>\n",
       "      <td>NaN</td>\n",
       "      <td>NaN</td>\n",
       "      <td>NaN</td>\n",
       "      <td>NaN</td>\n",
       "      <td>NaT</td>\n",
       "    </tr>\n",
       "  </tbody>\n",
       "</table>\n",
       "</div>"
      ],
      "text/plain": [
       "     id_x  first_name    last_name  company_id network_username    id_y  \\\n",
       "0      10        Mark   Zuckerberg           5              NaN  2415.0   \n",
       "1     100       Peter       Lester          27              NaN     NaN   \n",
       "2    1000  Dr. Steven  E. Saunders         292              NaN     NaN   \n",
       "3   10000        Neil        Capel        2526              NaN     NaN   \n",
       "4  100000         Sue       Pilsch        <NA>              NaN     NaN   \n",
       "\n",
       "   person_id        instituition graduated_at  \n",
       "0       10.0  Harvard University          NaT  \n",
       "1        NaN                 NaN          NaT  \n",
       "2        NaN                 NaN          NaT  \n",
       "3        NaN                 NaN          NaT  \n",
       "4        NaN                 NaN          NaT  "
      ]
     },
     "execution_count": 81,
     "metadata": {},
     "output_type": "execute_result"
    }
   ],
   "source": [
    "# Объединяем таблицы\n",
    "merged_df = people_df.merge(education_df, left_on = 'id', right_on = 'person_id', how = 'left')\n",
    "\n",
    "# Проверим присоединение таблиц\n",
    "merged_df.head()"
   ]
  },
  {
   "cell_type": "markdown",
   "id": "eb2ccd64-ed62-4c71-99c3-1ee2034b92ca",
   "metadata": {},
   "source": [
    "Давайте разделим компании по категориям в зависимости от количества сотрудников. Чтобы это сделать мы должны узнать максимальное и минимальное значение а также статистические велечины для количества сотрудников"
   ]
  },
  {
   "cell_type": "code",
   "execution_count": 84,
   "id": "8e22494d-6b4a-4d09-a3f7-9dd7fa7e6653",
   "metadata": {},
   "outputs": [
    {
     "data": {
      "text/plain": [
       "count    22922.000000\n",
       "mean         1.953974\n",
       "std          4.087373\n",
       "min          1.000000\n",
       "25%          1.000000\n",
       "50%          1.000000\n",
       "75%          2.000000\n",
       "max        376.000000\n",
       "Name: id_x, dtype: float64"
      ]
     },
     "execution_count": 84,
     "metadata": {},
     "output_type": "execute_result"
    }
   ],
   "source": [
    "# создаем таблицу с общим количеством сотрудников по компаниям\n",
    "total_employees = merged_df.groupby('company_id')['id_x'].count()\n",
    "total_employees_df = total_employees.reset_index()\n",
    "\n",
    "# Посмотрим статистические велечины\n",
    "total_employees_df['id_x'].describe()"
   ]
  },
  {
   "cell_type": "markdown",
   "id": "a429a009-73ed-42a7-a3ce-a4c5c621ac23",
   "metadata": {},
   "source": [
    "Насколько мы видим, максимально кол-во сотрудников - 376. Минимальное - 1. \n",
    "\n",
    "В наших данных распределение со смещением, 75-й процентиль и максимальное значение сильно отличаются, но мы не можем говорить о выбросах. Медиана тут - 1, что могло бы вызвать подозрения, но поскольку все компании представленные здесь - маленькие стартапы (и некоторые еще и без финансирования) то мы будем считать это нормальным в рамках анализа.\n",
    "\n",
    "Поскольку максимальное число сотрудников это 376, а 75% компаний имеют 2 и меньше сотрудников. Мы будем использовать следующие границы для категоризации:\n",
    "* Маленькие стартапы: 1-2 сотрудника\n",
    "* Средние стартапы: от 2 до 10 сотрудников\n",
    "* Большие стартапы: от 10 до 50 сотрудников\n",
    "* Очень большие стартапы: более 50 сотрудников"
   ]
  },
  {
   "cell_type": "code",
   "execution_count": 87,
   "id": "ceeb50b7-6899-4825-9056-9ce164110180",
   "metadata": {},
   "outputs": [
    {
     "data": {
      "text/html": [
       "<div>\n",
       "<style scoped>\n",
       "    .dataframe tbody tr th:only-of-type {\n",
       "        vertical-align: middle;\n",
       "    }\n",
       "\n",
       "    .dataframe tbody tr th {\n",
       "        vertical-align: top;\n",
       "    }\n",
       "\n",
       "    .dataframe thead th {\n",
       "        text-align: right;\n",
       "    }\n",
       "</style>\n",
       "<table border=\"1\" class=\"dataframe\">\n",
       "  <thead>\n",
       "    <tr style=\"text-align: right;\">\n",
       "      <th></th>\n",
       "      <th>company_id</th>\n",
       "      <th>id_x</th>\n",
       "      <th>company_category</th>\n",
       "    </tr>\n",
       "  </thead>\n",
       "  <tbody>\n",
       "    <tr>\n",
       "      <th>0</th>\n",
       "      <td>1</td>\n",
       "      <td>3</td>\n",
       "      <td>Средние стартапы</td>\n",
       "    </tr>\n",
       "    <tr>\n",
       "      <th>1</th>\n",
       "      <td>2</td>\n",
       "      <td>1</td>\n",
       "      <td>Маленькие стартапы</td>\n",
       "    </tr>\n",
       "    <tr>\n",
       "      <th>2</th>\n",
       "      <td>3</td>\n",
       "      <td>5</td>\n",
       "      <td>Средние стартапы</td>\n",
       "    </tr>\n",
       "    <tr>\n",
       "      <th>3</th>\n",
       "      <td>4</td>\n",
       "      <td>18</td>\n",
       "      <td>Большие стартапы</td>\n",
       "    </tr>\n",
       "    <tr>\n",
       "      <th>4</th>\n",
       "      <td>5</td>\n",
       "      <td>84</td>\n",
       "      <td>Очень большие стартапы</td>\n",
       "    </tr>\n",
       "  </tbody>\n",
       "</table>\n",
       "</div>"
      ],
      "text/plain": [
       "   company_id  id_x        company_category\n",
       "0           1     3        Средние стартапы\n",
       "1           2     1      Маленькие стартапы\n",
       "2           3     5        Средние стартапы\n",
       "3           4    18        Большие стартапы\n",
       "4           5    84  Очень большие стартапы"
      ]
     },
     "execution_count": 87,
     "metadata": {},
     "output_type": "execute_result"
    }
   ],
   "source": [
    "# Делим компании по категориям\n",
    "total_employees_df['company_category'] = pd.cut(total_employees_df['id_x'], bins = [0, 2, 10, 50, 376], labels = ['Маленькие стартапы', 'Средние стартапы', 'Большие стартапы', 'Очень большие стартапы'], right=True)\n",
    "total_employees_df.head()"
   ]
  },
  {
   "cell_type": "code",
   "execution_count": 88,
   "id": "18c8c85b-e258-4026-a617-028c38a62b96",
   "metadata": {},
   "outputs": [
    {
     "data": {
      "text/html": [
       "<div>\n",
       "<style scoped>\n",
       "    .dataframe tbody tr th:only-of-type {\n",
       "        vertical-align: middle;\n",
       "    }\n",
       "\n",
       "    .dataframe tbody tr th {\n",
       "        vertical-align: top;\n",
       "    }\n",
       "\n",
       "    .dataframe thead th {\n",
       "        text-align: right;\n",
       "    }\n",
       "</style>\n",
       "<table border=\"1\" class=\"dataframe\">\n",
       "  <thead>\n",
       "    <tr style=\"text-align: right;\">\n",
       "      <th></th>\n",
       "      <th>company_id</th>\n",
       "      <th>id_x</th>\n",
       "      <th>company_category</th>\n",
       "      <th>education_share</th>\n",
       "      <th>missing_education_share</th>\n",
       "    </tr>\n",
       "  </thead>\n",
       "  <tbody>\n",
       "    <tr>\n",
       "      <th>0</th>\n",
       "      <td>1</td>\n",
       "      <td>3</td>\n",
       "      <td>Средние стартапы</td>\n",
       "      <td>NaN</td>\n",
       "      <td>NaN</td>\n",
       "    </tr>\n",
       "    <tr>\n",
       "      <th>1</th>\n",
       "      <td>2</td>\n",
       "      <td>1</td>\n",
       "      <td>Маленькие стартапы</td>\n",
       "      <td>0.00</td>\n",
       "      <td>100.00</td>\n",
       "    </tr>\n",
       "    <tr>\n",
       "      <th>2</th>\n",
       "      <td>3</td>\n",
       "      <td>5</td>\n",
       "      <td>Средние стартапы</td>\n",
       "      <td>20.00</td>\n",
       "      <td>80.00</td>\n",
       "    </tr>\n",
       "    <tr>\n",
       "      <th>3</th>\n",
       "      <td>4</td>\n",
       "      <td>18</td>\n",
       "      <td>Большие стартапы</td>\n",
       "      <td>16.67</td>\n",
       "      <td>83.33</td>\n",
       "    </tr>\n",
       "    <tr>\n",
       "      <th>4</th>\n",
       "      <td>5</td>\n",
       "      <td>84</td>\n",
       "      <td>Очень большие стартапы</td>\n",
       "      <td>16.67</td>\n",
       "      <td>83.33</td>\n",
       "    </tr>\n",
       "  </tbody>\n",
       "</table>\n",
       "</div>"
      ],
      "text/plain": [
       "   company_id  id_x        company_category  education_share  \\\n",
       "0           1     3        Средние стартапы              NaN   \n",
       "1           2     1      Маленькие стартапы             0.00   \n",
       "2           3     5        Средние стартапы            20.00   \n",
       "3           4    18        Большие стартапы            16.67   \n",
       "4           5    84  Очень большие стартапы            16.67   \n",
       "\n",
       "   missing_education_share  \n",
       "0                      NaN  \n",
       "1                   100.00  \n",
       "2                    80.00  \n",
       "3                    83.33  \n",
       "4                    83.33  "
      ]
     },
     "execution_count": 88,
     "metadata": {},
     "output_type": "execute_result"
    }
   ],
   "source": [
    "# Добавим долю людей с указанным и не указанным образованием:\n",
    "total_employees_df['education_share'] = round((merged_df.groupby('company_id')['graduated_at'].count() / total_employees_df['id_x']) * 100, 2)\n",
    "total_employees_df['missing_education_share'] = 100 - total_employees_df['education_share']\n",
    "total_employees_df.head()"
   ]
  },
  {
   "cell_type": "code",
   "execution_count": 89,
   "id": "f675045f-160a-4bcb-87c3-08792456445f",
   "metadata": {
    "scrolled": true
   },
   "outputs": [
    {
     "data": {
      "text/html": [
       "<div>\n",
       "<style scoped>\n",
       "    .dataframe tbody tr th:only-of-type {\n",
       "        vertical-align: middle;\n",
       "    }\n",
       "\n",
       "    .dataframe tbody tr th {\n",
       "        vertical-align: top;\n",
       "    }\n",
       "\n",
       "    .dataframe thead th {\n",
       "        text-align: right;\n",
       "    }\n",
       "</style>\n",
       "<table border=\"1\" class=\"dataframe\">\n",
       "  <thead>\n",
       "    <tr style=\"text-align: right;\">\n",
       "      <th></th>\n",
       "      <th>missing_education_share</th>\n",
       "      <th>company_id</th>\n",
       "    </tr>\n",
       "    <tr>\n",
       "      <th>company_category</th>\n",
       "      <th></th>\n",
       "      <th></th>\n",
       "    </tr>\n",
       "  </thead>\n",
       "  <tbody>\n",
       "    <tr>\n",
       "      <th>Маленькие стартапы</th>\n",
       "      <td>0.717267</td>\n",
       "      <td>18885</td>\n",
       "    </tr>\n",
       "    <tr>\n",
       "      <th>Средние стартапы</th>\n",
       "      <td>59.910159</td>\n",
       "      <td>3807</td>\n",
       "    </tr>\n",
       "    <tr>\n",
       "      <th>Большие стартапы</th>\n",
       "      <td>71.670000</td>\n",
       "      <td>216</td>\n",
       "    </tr>\n",
       "    <tr>\n",
       "      <th>Очень большие стартапы</th>\n",
       "      <td>96.441111</td>\n",
       "      <td>14</td>\n",
       "    </tr>\n",
       "  </tbody>\n",
       "</table>\n",
       "</div>"
      ],
      "text/plain": [
       "                        missing_education_share  company_id\n",
       "company_category                                           \n",
       "Маленькие стартапы                     0.717267       18885\n",
       "Средние стартапы                      59.910159        3807\n",
       "Большие стартапы                      71.670000         216\n",
       "Очень большие стартапы                96.441111          14"
      ]
     },
     "execution_count": 89,
     "metadata": {},
     "output_type": "execute_result"
    }
   ],
   "source": [
    "# Посмотрим средний % сотрудников без данных об образовании\n",
    "total_employees_df.groupby('company_category', observed=False).agg({'missing_education_share' : 'mean', 'company_id' : 'count'})"
   ]
  },
  {
   "cell_type": "code",
   "execution_count": 90,
   "id": "0736e80d-9f13-48b6-94e0-139015d9b02c",
   "metadata": {},
   "outputs": [
    {
     "data": {
      "image/png": "[encoded data removed]",
      "text/plain": [
       "<Figure size 1000x500 with 1 Axes>"
      ]
     },
     "metadata": {},
     "output_type": "display_data"
    }
   ],
   "source": [
    "# Создаём контейнер графика matplotlib и задаём его размер\n",
    "plt.figure(figsize=(10, 5))\n",
    "\n",
    "# Построим график \n",
    "total_employees_df.groupby('company_category', observed=False)['missing_education_share'].mean().sort_values().plot(\n",
    "    kind='barh',\n",
    "    title='Средняя доля сотрудников без информации об образовании по категориям компании',\n",
    "    xlabel='Доля сотрудников без информации об образовании (%)',\n",
    "    ylabel='Категория',\n",
    "    grid=True\n",
    ")\n",
    "\n",
    "# Отображаем график\n",
    "plt.show()"
   ]
  },
  {
   "cell_type": "markdown",
   "id": "ec14e24c-bbcd-4a0b-a12f-58a8a171b7c9",
   "metadata": {},
   "source": [
    "На основании рассчитанных данных, видно, что доля сотрудников с неуказанным образованием значительно варьируется в зависимости от категории компании. Например, для \"Маленьких стартапов\" средняя доля сотрудников с отсутствующей информацией об образовании составляет всего 0.72%. Это может говорить о том, что такие компании, скорее всего, имеют более компактные коллективы, где сотрудники, возможно, более разнообразны по уровню образования, и, следовательно, меньше информации теряется.\n",
    "\n",
    "Однако для более крупных категорий, таких как \"Средние стартапы\" (59.91%) и \"Большие стартапы\" (71.67%), доля сотрудников с отсутствующими данными значительно выше. Это может быть связано с тем, что в этих компаниях число сотрудников намного больше, и с увеличением размера компании возрастает вероятность неполноты данных по сотрудникам, а также может быть сложнее поддерживать актуальность такой информации для всех сотрудников.\n",
    "\n",
    "Самая высокая доля отсутствующих данных наблюдается в категории \"Очень большие стартапы\" — 96.44%. Это может свидетельствовать о том, что такие компании имеют огромные и сложные структуры с большим количеством сотрудников, а также, возможно, с большей текучестью кадров, что затрудняет сбор и поддержание информации об образовании."
   ]
  },
  {
   "cell_type": "markdown",
   "id": "be402eeb-7b52-4dd2-ad97-d58d34aa3edd",
   "metadata": {},
   "source": [
    "Также, к этому набору данных можно было бы присоеденить таблицу `degrees_df` по идентификатору сотрудника `object_id`. Возможно путем присоединения мы могли бы получить больше информации о незаконченном образовании сотрудников."
   ]
  },
  {
   "cell_type": "markdown",
   "id": "2ae4c166-773b-4553-af80-5f16034ab160",
   "metadata": {},
   "source": [
    "### Объединять или не объединять — вот в чём вопроc"
   ]
  },
  {
   "cell_type": "markdown",
   "id": "74685b5a-38f6-4411-91a8-2885d314dce3",
   "metadata": {},
   "source": [
    "Нам нужно выяснить, подходит ли для объединения столбец `network_username`, давайте проверим в каких датасетах он встречается, сколько раз и его уникальные значения.\n",
    "\n",
    "После знакомства с данными мы узнали что `network_username` присутствует в данных `company_rounds_df`, `people_df` и `fund_df`. Из описания данных нам известно что \n",
    "* В таблице `company_rounds_df` - `network username` это ник компании в сети.\n",
    "* В таблице `people_df`- `network_username` это ник (предполагаемо, сотрудника) в социальных сетях.\n",
    "* В таблице `fund_df` -`network_username` это ник фонда в сети.\n",
    "\n",
    "По описанию данных можно предположить что данные в этих столбах не должны быть ключами, то есть это разные столбцы. Давайте проверим"
   ]
  },
  {
   "cell_type": "code",
   "execution_count": 96,
   "id": "2880873a-751a-43d9-ac9a-d93eb8a9f3b6",
   "metadata": {},
   "outputs": [
    {
     "data": {
      "text/plain": [
       "count          95534\n",
       "unique         79571\n",
       "top       Goodman_UK\n",
       "freq              20\n",
       "Name: network_username, dtype: object"
      ]
     },
     "execution_count": 96,
     "metadata": {},
     "output_type": "execute_result"
    }
   ],
   "source": [
    "# Посмотрим описательную статистику по столбцу network_username в company_rounds_df\n",
    "company_rounds_df['network_username'].describe()"
   ]
  },
  {
   "cell_type": "code",
   "execution_count": 97,
   "id": "f979d577-8f92-46c0-911d-e2b871074389",
   "metadata": {},
   "outputs": [
    {
     "data": {
      "text/plain": [
       "count          38867\n",
       "unique         38421\n",
       "top       iWatchLife\n",
       "freq               6\n",
       "Name: network_username, dtype: object"
      ]
     },
     "execution_count": 97,
     "metadata": {},
     "output_type": "execute_result"
    }
   ],
   "source": [
    "# Аналогично смотрим по таблице people_df\n",
    "people_df['network_username'].describe()"
   ]
  },
  {
   "cell_type": "code",
   "execution_count": 98,
   "id": "7e18e9a7-761e-4916-9f2c-ce68e6d4ad8c",
   "metadata": {},
   "outputs": [
    {
     "data": {
      "text/plain": [
       "count              2149\n",
       "unique             2098\n",
       "top       SVB_Financial\n",
       "freq                  4\n",
       "Name: network_username, dtype: object"
      ]
     },
     "execution_count": 98,
     "metadata": {},
     "output_type": "execute_result"
    }
   ],
   "source": [
    "# Проделываем тоже самое с fund_df\n",
    "fund_df['network_username'].describe()"
   ]
  },
  {
   "cell_type": "markdown",
   "id": "b5b9510b-69ba-4fad-9362-a9fca381cb31",
   "metadata": {},
   "source": [
    "В каждой из таблиц столбец `network_username` имеет значительное количество повторений. Это означает, что один и тот же ник может принадлежать разным компаниям, сотрудникам или фондам. Например, `Goodman_UK` может относиться к разным компаниям, что делает объединение по этому столбцу проблематичным, так как одно и то же значение может относиться к разным сущностям."
   ]
  },
  {
   "cell_type": "code",
   "execution_count": 100,
   "id": "79b10113-455f-4f6b-a684-0fc1e2e6555e",
   "metadata": {},
   "outputs": [
    {
     "data": {
      "text/plain": [
       "7243      01konceptz\n",
       "18967       03199618\n",
       "16543    077football\n",
       "27559       0harley0\n",
       "13816        0liverQ\n",
       "dtype: object"
      ]
     },
     "execution_count": 100,
     "metadata": {},
     "output_type": "execute_result"
    }
   ],
   "source": [
    "# Посмотрим на первые 5 строк таблицы network_username в алфавитном порядке таблицы people_df\n",
    "pd.Series(people_df['network_username'].unique()).sort_values().head(5)"
   ]
  },
  {
   "cell_type": "code",
   "execution_count": 101,
   "id": "41511459-0d6d-42a7-86ce-51afe0cece34",
   "metadata": {},
   "outputs": [
    {
     "data": {
      "text/plain": [
       "61712    01communique\n",
       "63581      040hosting\n",
       "34310     077football\n",
       "50492    088088000100\n",
       "38988       0com_info\n",
       "dtype: object"
      ]
     },
     "execution_count": 101,
     "metadata": {},
     "output_type": "execute_result"
    }
   ],
   "source": [
    "# Аналогично, в таблице company_rounds_df\n",
    "pd.Series(company_rounds_df['network_username'].unique()).sort_values().head(5)"
   ]
  },
  {
   "cell_type": "code",
   "execution_count": 102,
   "id": "6002d53b-9532-4f6e-a90c-99826a4f19ea",
   "metadata": {},
   "outputs": [
    {
     "data": {
      "text/plain": [
       "2051             10xvp\n",
       "541         123Venture\n",
       "223     1BUSDWORLDWIDE\n",
       "1275            2020vc\n",
       "1751            212ltd\n",
       "dtype: object"
      ]
     },
     "execution_count": 102,
     "metadata": {},
     "output_type": "execute_result"
    }
   ],
   "source": [
    "# И в таблице fund_df\n",
    "pd.Series(fund_df['network_username'].unique()).sort_values().head(5)"
   ]
  },
  {
   "cell_type": "markdown",
   "id": "97c5c232-7407-49f3-9f44-c3ea4d25f22e",
   "metadata": {},
   "source": [
    "Теперь проверим какие значения делят все три столбца из наших трех таблиц, будем преобразовывать их в список и проверим методом `.isin`"
   ]
  },
  {
   "cell_type": "code",
   "execution_count": 104,
   "id": "1f512957-bf6f-4b56-9a11-c4a628641185",
   "metadata": {},
   "outputs": [
    {
     "data": {
      "text/plain": [
       "array([nan, 'switchcommerce', 'tefdigital', 'yumedeals3',\n",
       "       'taniablackalln', 'priceride', 'dgillesfr', 'boonseo'],\n",
       "      dtype=object)"
      ]
     },
     "execution_count": 104,
     "metadata": {},
     "output_type": "execute_result"
    }
   ],
   "source": [
    "# Преобразуем данные в список и посмотрим, сколько значений встречаются во всех трех датасетах\n",
    "shared_company_people = company_rounds_df[company_rounds_df['network_username'].isin(people_df['network_username'])]\n",
    "shared_people_fund = people_df[people_df['network_username'].isin(fund_df['network_username'])]\n",
    "shared_company_fund = company_rounds_df[company_rounds_df['network_username'].isin(fund_df['network_username'])]\n",
    "shared_all_three = company_rounds_df[company_rounds_df['network_username'].isin(people_df['network_username']) & \n",
    "                                          company_rounds_df['network_username'].isin(fund_df['network_username'])]\n",
    "shared_all_three = shared_all_three['network_username'].unique()\n",
    "shared_all_three"
   ]
  },
  {
   "cell_type": "markdown",
   "id": "29e65028-8c57-4c1b-8a61-ae42ba585836",
   "metadata": {},
   "source": [
    "Столбец `network_username` не подходит для объединения данных.\n",
    "\n",
    "Во-первых, только 7 значений повторяются во всех трех датафреймах. Также в данных много пропусков и это негативно скажется на результате объединения\n",
    "\n",
    "Также, насколько мы можем судить, данные действительно соответствуют описанию, то есть в этих столбцах действительно хранятся разные данные - сотрудников, для таблицы `people_df`, для компаний в таблице `company_rounds_df` и для аккаунтов фондов в `fund_df`. \n",
    "\n",
    "Это можно проверить, например аккаунт `123Venture` - название отсылает к венчурному фонду - то есть это аккаунт компании - инвестора. \n",
    "\n",
    "После несложных манипуляций можно выяснить что аккаунт принадлежит фонду <a href=\"https://www.123-im.com/\">123 Investment Managers</a>\n",
    "также как и `10xvp` (первая строка `network_username` в таблице fund_df) это - <a href=\"https://www.10xvp.com/\">10x Venture Partners</a>, и аккаунт `2020vc` это <a href=\"https://www.thetwentyminutevc.com/\">20VC | The Intersection of Venture Capital and Media</a>, и аналогично <a href=\"https://212.vc/\">212ltd</a>\n",
    "\n",
    "Точно также можно проверить и аккаунты стартапов, как например <a href=\"https://www.01com.com/\">01communique</a> или <a href=\"https://040hosting.eu/\">040hosting</a> из таблицы `company_rounds_df`"
   ]
  },
  {
   "cell_type": "markdown",
   "id": "56bd2c3a-8def-4d02-b341-ab942344d868",
   "metadata": {},
   "source": [
    "### Проблемный датасет и причина возникновения пропусков"
   ]
  },
  {
   "cell_type": "markdown",
   "id": "39200fac-66f4-48ac-aa29-db045ad9851d",
   "metadata": {},
   "source": [
    "Во время собственного анализа данных у заказчика больше всего вопросов возникло к датасету `company_and_rounds.csv`. В нём много пропусков как раз в информации о раундах, которая заказчику важна. \n",
    "Давайте еще раз взглянем на кол-во пропусков в этом датасете и решим что делать с пропусками дальше"
   ]
  },
  {
   "cell_type": "code",
   "execution_count": 109,
   "id": "895f13e3-80af-4b12-9800-f62bfafe563f",
   "metadata": {},
   "outputs": [
    {
     "data": {
      "text/html": [
       "<div>\n",
       "<style scoped>\n",
       "    .dataframe tbody tr th:only-of-type {\n",
       "        vertical-align: middle;\n",
       "    }\n",
       "\n",
       "    .dataframe tbody tr th {\n",
       "        vertical-align: top;\n",
       "    }\n",
       "\n",
       "    .dataframe thead th {\n",
       "        text-align: right;\n",
       "    }\n",
       "</style>\n",
       "<table border=\"1\" class=\"dataframe\">\n",
       "  <thead>\n",
       "    <tr style=\"text-align: right;\">\n",
       "      <th></th>\n",
       "      <th>Пропуски (абс.)</th>\n",
       "      <th>Пропуски (%)</th>\n",
       "    </tr>\n",
       "  </thead>\n",
       "  <tbody>\n",
       "    <tr>\n",
       "      <th>closed_at</th>\n",
       "      <td>214325</td>\n",
       "      <td>98.416248</td>\n",
       "    </tr>\n",
       "    <tr>\n",
       "      <th>funded_at</th>\n",
       "      <td>165094</td>\n",
       "      <td>75.809784</td>\n",
       "    </tr>\n",
       "    <tr>\n",
       "      <th>is_last_round</th>\n",
       "      <td>164846</td>\n",
       "      <td>75.695905</td>\n",
       "    </tr>\n",
       "    <tr>\n",
       "      <th>funding_round_type</th>\n",
       "      <td>164846</td>\n",
       "      <td>75.695905</td>\n",
       "    </tr>\n",
       "    <tr>\n",
       "      <th>is_first_round</th>\n",
       "      <td>164846</td>\n",
       "      <td>75.695905</td>\n",
       "    </tr>\n",
       "    <tr>\n",
       "      <th>participants</th>\n",
       "      <td>164846</td>\n",
       "      <td>75.695905</td>\n",
       "    </tr>\n",
       "    <tr>\n",
       "      <th>pre_money_valuation</th>\n",
       "      <td>164846</td>\n",
       "      <td>75.695905</td>\n",
       "    </tr>\n",
       "    <tr>\n",
       "      <th>raised_amount</th>\n",
       "      <td>164846</td>\n",
       "      <td>75.695905</td>\n",
       "    </tr>\n",
       "    <tr>\n",
       "      <th>funding_round_id</th>\n",
       "      <td>164846</td>\n",
       "      <td>75.695905</td>\n",
       "    </tr>\n",
       "    <tr>\n",
       "      <th>company_id</th>\n",
       "      <td>164846</td>\n",
       "      <td>75.695905</td>\n",
       "    </tr>\n",
       "    <tr>\n",
       "      <th>network_username</th>\n",
       "      <td>122240</td>\n",
       "      <td>56.131586</td>\n",
       "    </tr>\n",
       "    <tr>\n",
       "      <th>country_code</th>\n",
       "      <td>109167</td>\n",
       "      <td>50.128574</td>\n",
       "    </tr>\n",
       "    <tr>\n",
       "      <th>founded_at</th>\n",
       "      <td>107818</td>\n",
       "      <td>49.509124</td>\n",
       "    </tr>\n",
       "    <tr>\n",
       "      <th>category_code</th>\n",
       "      <td>73888</td>\n",
       "      <td>33.928752</td>\n",
       "    </tr>\n",
       "    <tr>\n",
       "      <th>domain</th>\n",
       "      <td>70615</td>\n",
       "      <td>32.425818</td>\n",
       "    </tr>\n",
       "    <tr>\n",
       "      <th>name</th>\n",
       "      <td>303</td>\n",
       "      <td>0.139135</td>\n",
       "    </tr>\n",
       "    <tr>\n",
       "      <th>company_id_1</th>\n",
       "      <td>302</td>\n",
       "      <td>0.138676</td>\n",
       "    </tr>\n",
       "    <tr>\n",
       "      <th>milestones</th>\n",
       "      <td>302</td>\n",
       "      <td>0.138676</td>\n",
       "    </tr>\n",
       "    <tr>\n",
       "      <th>funding_rounds</th>\n",
       "      <td>302</td>\n",
       "      <td>0.138676</td>\n",
       "    </tr>\n",
       "    <tr>\n",
       "      <th>investment_rounds</th>\n",
       "      <td>302</td>\n",
       "      <td>0.138676</td>\n",
       "    </tr>\n",
       "    <tr>\n",
       "      <th>status</th>\n",
       "      <td>302</td>\n",
       "      <td>0.138676</td>\n",
       "    </tr>\n",
       "    <tr>\n",
       "      <th>funding_total</th>\n",
       "      <td>302</td>\n",
       "      <td>0.138676</td>\n",
       "    </tr>\n",
       "  </tbody>\n",
       "</table>\n",
       "</div>"
      ],
      "text/plain": [
       "                     Пропуски (абс.)  Пропуски (%)\n",
       "closed_at                     214325     98.416248\n",
       "funded_at                     165094     75.809784\n",
       "is_last_round                 164846     75.695905\n",
       "funding_round_type            164846     75.695905\n",
       "is_first_round                164846     75.695905\n",
       "participants                  164846     75.695905\n",
       "pre_money_valuation           164846     75.695905\n",
       "raised_amount                 164846     75.695905\n",
       "funding_round_id              164846     75.695905\n",
       "company_id                    164846     75.695905\n",
       "network_username              122240     56.131586\n",
       "country_code                  109167     50.128574\n",
       "founded_at                    107818     49.509124\n",
       "category_code                  73888     33.928752\n",
       "domain                         70615     32.425818\n",
       "name                             303      0.139135\n",
       "company_id_1                     302      0.138676\n",
       "milestones                       302      0.138676\n",
       "funding_rounds                   302      0.138676\n",
       "investment_rounds                302      0.138676\n",
       "status                           302      0.138676\n",
       "funding_total                    302      0.138676"
      ]
     },
     "execution_count": 109,
     "metadata": {},
     "output_type": "execute_result"
    }
   ],
   "source": [
    "missing_data_company_rounds_df = company_rounds_df.isna().sum()\n",
    "missing_share_company_rounds_df  = company_rounds_df.isna().sum() / len(company_rounds_df) * 100\n",
    "missing_all_company_rounds_df = pd.DataFrame({f'Пропуски (абс.)': missing_data_company_rounds_df, f'Пропуски (%)': missing_share_company_rounds_df})\n",
    "missing_all_company_rounds_df = missing_all_company_rounds_df.sort_values(by='Пропуски (абс.)', ascending=False)\n",
    "missing_all_company_rounds_df"
   ]
  },
  {
   "cell_type": "code",
   "execution_count": 110,
   "id": "917b47fb-405c-41ce-a518-28a96fe86af3",
   "metadata": {},
   "outputs": [
    {
     "data": {
      "text/html": [
       "<div>\n",
       "<style scoped>\n",
       "    .dataframe tbody tr th:only-of-type {\n",
       "        vertical-align: middle;\n",
       "    }\n",
       "\n",
       "    .dataframe tbody tr th {\n",
       "        vertical-align: top;\n",
       "    }\n",
       "\n",
       "    .dataframe thead th {\n",
       "        text-align: right;\n",
       "    }\n",
       "</style>\n",
       "<table border=\"1\" class=\"dataframe\">\n",
       "  <thead>\n",
       "    <tr style=\"text-align: right;\">\n",
       "      <th></th>\n",
       "      <th>company_id_1</th>\n",
       "      <th>name</th>\n",
       "      <th>category_code</th>\n",
       "      <th>status</th>\n",
       "      <th>founded_at</th>\n",
       "      <th>closed_at</th>\n",
       "      <th>domain</th>\n",
       "      <th>network_username</th>\n",
       "      <th>country_code</th>\n",
       "      <th>investment_rounds</th>\n",
       "      <th>...</th>\n",
       "      <th>milestones</th>\n",
       "      <th>funding_round_id</th>\n",
       "      <th>company_id</th>\n",
       "      <th>funded_at</th>\n",
       "      <th>funding_round_type</th>\n",
       "      <th>raised_amount</th>\n",
       "      <th>pre_money_valuation</th>\n",
       "      <th>participants</th>\n",
       "      <th>is_first_round</th>\n",
       "      <th>is_last_round</th>\n",
       "    </tr>\n",
       "  </thead>\n",
       "  <tbody>\n",
       "    <tr>\n",
       "      <th>0</th>\n",
       "      <td>1.0</td>\n",
       "      <td>Wetpaint</td>\n",
       "      <td>web</td>\n",
       "      <td>operating</td>\n",
       "      <td>2005-10-17</td>\n",
       "      <td>NaT</td>\n",
       "      <td>wetpaint-inc.com</td>\n",
       "      <td>BachelrWetpaint</td>\n",
       "      <td>USA</td>\n",
       "      <td>0</td>\n",
       "      <td>...</td>\n",
       "      <td>5</td>\n",
       "      <td>888</td>\n",
       "      <td>1</td>\n",
       "      <td>2005-10-01</td>\n",
       "      <td>series-a</td>\n",
       "      <td>5250000.0</td>\n",
       "      <td>0.0</td>\n",
       "      <td>2</td>\n",
       "      <td>0.0</td>\n",
       "      <td>1.0</td>\n",
       "    </tr>\n",
       "    <tr>\n",
       "      <th>1</th>\n",
       "      <td>1.0</td>\n",
       "      <td>Wetpaint</td>\n",
       "      <td>web</td>\n",
       "      <td>operating</td>\n",
       "      <td>2005-10-17</td>\n",
       "      <td>NaT</td>\n",
       "      <td>wetpaint-inc.com</td>\n",
       "      <td>BachelrWetpaint</td>\n",
       "      <td>USA</td>\n",
       "      <td>0</td>\n",
       "      <td>...</td>\n",
       "      <td>5</td>\n",
       "      <td>889</td>\n",
       "      <td>1</td>\n",
       "      <td>2007-01-01</td>\n",
       "      <td>series-b</td>\n",
       "      <td>9500000.0</td>\n",
       "      <td>0.0</td>\n",
       "      <td>3</td>\n",
       "      <td>0.0</td>\n",
       "      <td>0.0</td>\n",
       "    </tr>\n",
       "    <tr>\n",
       "      <th>2</th>\n",
       "      <td>1.0</td>\n",
       "      <td>Wetpaint</td>\n",
       "      <td>web</td>\n",
       "      <td>operating</td>\n",
       "      <td>2005-10-17</td>\n",
       "      <td>NaT</td>\n",
       "      <td>wetpaint-inc.com</td>\n",
       "      <td>BachelrWetpaint</td>\n",
       "      <td>USA</td>\n",
       "      <td>0</td>\n",
       "      <td>...</td>\n",
       "      <td>5</td>\n",
       "      <td>2312</td>\n",
       "      <td>1</td>\n",
       "      <td>2008-05-19</td>\n",
       "      <td>series-c+</td>\n",
       "      <td>25000000.0</td>\n",
       "      <td>0.0</td>\n",
       "      <td>4</td>\n",
       "      <td>1.0</td>\n",
       "      <td>0.0</td>\n",
       "    </tr>\n",
       "    <tr>\n",
       "      <th>3</th>\n",
       "      <td>10.0</td>\n",
       "      <td>Flektor</td>\n",
       "      <td>games_video</td>\n",
       "      <td>acquired</td>\n",
       "      <td>NaT</td>\n",
       "      <td>NaT</td>\n",
       "      <td>flektor.com</td>\n",
       "      <td>NaN</td>\n",
       "      <td>USA</td>\n",
       "      <td>0</td>\n",
       "      <td>...</td>\n",
       "      <td>0</td>\n",
       "      <td>&lt;NA&gt;</td>\n",
       "      <td>&lt;NA&gt;</td>\n",
       "      <td>NaT</td>\n",
       "      <td>NaN</td>\n",
       "      <td>NaN</td>\n",
       "      <td>NaN</td>\n",
       "      <td>&lt;NA&gt;</td>\n",
       "      <td>NaN</td>\n",
       "      <td>NaN</td>\n",
       "    </tr>\n",
       "    <tr>\n",
       "      <th>4</th>\n",
       "      <td>100.0</td>\n",
       "      <td>There</td>\n",
       "      <td>games_video</td>\n",
       "      <td>acquired</td>\n",
       "      <td>NaT</td>\n",
       "      <td>NaT</td>\n",
       "      <td>there.com</td>\n",
       "      <td>NaN</td>\n",
       "      <td>USA</td>\n",
       "      <td>0</td>\n",
       "      <td>...</td>\n",
       "      <td>4</td>\n",
       "      <td>&lt;NA&gt;</td>\n",
       "      <td>&lt;NA&gt;</td>\n",
       "      <td>NaT</td>\n",
       "      <td>NaN</td>\n",
       "      <td>NaN</td>\n",
       "      <td>NaN</td>\n",
       "      <td>&lt;NA&gt;</td>\n",
       "      <td>NaN</td>\n",
       "      <td>NaN</td>\n",
       "    </tr>\n",
       "  </tbody>\n",
       "</table>\n",
       "<p>5 rows × 22 columns</p>\n",
       "</div>"
      ],
      "text/plain": [
       "   company_id_1      name category_code     status founded_at closed_at  \\\n",
       "0           1.0  Wetpaint           web  operating 2005-10-17       NaT   \n",
       "1           1.0  Wetpaint           web  operating 2005-10-17       NaT   \n",
       "2           1.0  Wetpaint           web  operating 2005-10-17       NaT   \n",
       "3          10.0   Flektor   games_video   acquired        NaT       NaT   \n",
       "4         100.0     There   games_video   acquired        NaT       NaT   \n",
       "\n",
       "             domain network_username country_code  investment_rounds  ...  \\\n",
       "0  wetpaint-inc.com  BachelrWetpaint          USA                  0  ...   \n",
       "1  wetpaint-inc.com  BachelrWetpaint          USA                  0  ...   \n",
       "2  wetpaint-inc.com  BachelrWetpaint          USA                  0  ...   \n",
       "3       flektor.com              NaN          USA                  0  ...   \n",
       "4         there.com              NaN          USA                  0  ...   \n",
       "\n",
       "   milestones  funding_round_id  company_id  funded_at  funding_round_type  \\\n",
       "0           5               888           1 2005-10-01            series-a   \n",
       "1           5               889           1 2007-01-01            series-b   \n",
       "2           5              2312           1 2008-05-19           series-c+   \n",
       "3           0              <NA>        <NA>        NaT                 NaN   \n",
       "4           4              <NA>        <NA>        NaT                 NaN   \n",
       "\n",
       "  raised_amount pre_money_valuation  participants  is_first_round  \\\n",
       "0     5250000.0                 0.0             2             0.0   \n",
       "1     9500000.0                 0.0             3             0.0   \n",
       "2    25000000.0                 0.0             4             1.0   \n",
       "3           NaN                 NaN          <NA>             NaN   \n",
       "4           NaN                 NaN          <NA>             NaN   \n",
       "\n",
       "   is_last_round  \n",
       "0            1.0  \n",
       "1            0.0  \n",
       "2            0.0  \n",
       "3            NaN  \n",
       "4            NaN  \n",
       "\n",
       "[5 rows x 22 columns]"
      ]
     },
     "execution_count": 110,
     "metadata": {},
     "output_type": "execute_result"
    }
   ],
   "source": [
    "company_rounds_df.head()"
   ]
  },
  {
   "cell_type": "markdown",
   "id": "2f9d907a-9177-4cfc-8771-9ab2b71678d8",
   "metadata": {},
   "source": [
    "Для начала нам стоит понять, какие данные нам нужны в итоговой таблице, так как в наших данных представлена информация о раундах финансирования, а группировка будет происходить по компаниям. В итоговых данных будет:\n",
    "\n",
    "* `company_id` - идентификатор компании\n",
    "* `name` - название компании\n",
    "* `category_code`- категория области деятельности компании\n",
    "* `status` - статус компании\n",
    "* `founded_at` - дата инвестирования\n",
    "* `closed_at` - дата закрытия компании\n",
    "* `domain` - официальный сайт компании\n",
    "* `network_username` - ник компании в сети\n",
    "* `country_code` - код страны компании\n",
    "* `investment_rounds` - число инвестиционных раундов\n",
    "* `funding_rounds` - число раундов финансирования\n",
    "* `funding_total` - сумма финансирования\n",
    "* `milestones` - вехи финансирования\n",
    "* `pre_money_valuation` - предварительная денежная оценка\n",
    "\n",
    "14 колонок из 22\n",
    "\n",
    "Поскольку в данных присутствует значительное кол-во пропусков (даже в названиях компаний) мы пока не можем выполнить группировку. \n",
    "\n",
    "Давайте рассмотрим пропуски в столбце про сумму финансирования, так как эти данные ключевые для дальнейшего анализа и нашего заказчика. Возможно, мы сможем заполнить их центральной мерой или удалим их если это будет не критично для анализа"
   ]
  },
  {
   "cell_type": "markdown",
   "id": "9b45868a-d830-4e2b-bcb0-e0ed51fbce76",
   "metadata": {},
   "source": [
    "#### Пропуски в `funding_total`"
   ]
  },
  {
   "cell_type": "markdown",
   "id": "34a0897a-e231-46fe-ae6c-251b2945cf04",
   "metadata": {},
   "source": [
    "Давайте посмотрим на строки где сумма финансирования нам неизвестна, чтобы узнать, можем ли мы заполнить пропуски в этом столбце, например, медианой по категориям"
   ]
  },
  {
   "cell_type": "code",
   "execution_count": 114,
   "id": "fde394ef-abc3-4912-b8c6-b3269a44bad5",
   "metadata": {
    "scrolled": true
   },
   "outputs": [
    {
     "data": {
      "text/html": [
       "<div>\n",
       "<style scoped>\n",
       "    .dataframe tbody tr th:only-of-type {\n",
       "        vertical-align: middle;\n",
       "    }\n",
       "\n",
       "    .dataframe tbody tr th {\n",
       "        vertical-align: top;\n",
       "    }\n",
       "\n",
       "    .dataframe thead th {\n",
       "        text-align: right;\n",
       "    }\n",
       "</style>\n",
       "<table border=\"1\" class=\"dataframe\">\n",
       "  <thead>\n",
       "    <tr style=\"text-align: right;\">\n",
       "      <th></th>\n",
       "      <th>company_id_1</th>\n",
       "      <th>name</th>\n",
       "      <th>category_code</th>\n",
       "      <th>status</th>\n",
       "      <th>founded_at</th>\n",
       "      <th>closed_at</th>\n",
       "      <th>domain</th>\n",
       "      <th>network_username</th>\n",
       "      <th>country_code</th>\n",
       "      <th>investment_rounds</th>\n",
       "      <th>...</th>\n",
       "      <th>milestones</th>\n",
       "      <th>funding_round_id</th>\n",
       "      <th>company_id</th>\n",
       "      <th>funded_at</th>\n",
       "      <th>funding_round_type</th>\n",
       "      <th>raised_amount</th>\n",
       "      <th>pre_money_valuation</th>\n",
       "      <th>participants</th>\n",
       "      <th>is_first_round</th>\n",
       "      <th>is_last_round</th>\n",
       "    </tr>\n",
       "  </thead>\n",
       "  <tbody>\n",
       "    <tr>\n",
       "      <th>217472</th>\n",
       "      <td>NaN</td>\n",
       "      <td>NaN</td>\n",
       "      <td>NaN</td>\n",
       "      <td>NaN</td>\n",
       "      <td>NaT</td>\n",
       "      <td>NaT</td>\n",
       "      <td>NaN</td>\n",
       "      <td>NaN</td>\n",
       "      <td>NaN</td>\n",
       "      <td>&lt;NA&gt;</td>\n",
       "      <td>...</td>\n",
       "      <td>&lt;NA&gt;</td>\n",
       "      <td>457</td>\n",
       "      <td>1267</td>\n",
       "      <td>2005-01-01</td>\n",
       "      <td>series-a</td>\n",
       "      <td>48000000.0</td>\n",
       "      <td>0.0</td>\n",
       "      <td>2</td>\n",
       "      <td>1.0</td>\n",
       "      <td>1.0</td>\n",
       "    </tr>\n",
       "    <tr>\n",
       "      <th>217473</th>\n",
       "      <td>NaN</td>\n",
       "      <td>NaN</td>\n",
       "      <td>NaN</td>\n",
       "      <td>NaN</td>\n",
       "      <td>NaT</td>\n",
       "      <td>NaT</td>\n",
       "      <td>NaN</td>\n",
       "      <td>NaN</td>\n",
       "      <td>NaN</td>\n",
       "      <td>&lt;NA&gt;</td>\n",
       "      <td>...</td>\n",
       "      <td>&lt;NA&gt;</td>\n",
       "      <td>471</td>\n",
       "      <td>558</td>\n",
       "      <td>2007-01-01</td>\n",
       "      <td>angel</td>\n",
       "      <td>300000.0</td>\n",
       "      <td>0.0</td>\n",
       "      <td>1</td>\n",
       "      <td>1.0</td>\n",
       "      <td>1.0</td>\n",
       "    </tr>\n",
       "    <tr>\n",
       "      <th>217474</th>\n",
       "      <td>NaN</td>\n",
       "      <td>NaN</td>\n",
       "      <td>NaN</td>\n",
       "      <td>NaN</td>\n",
       "      <td>NaT</td>\n",
       "      <td>NaT</td>\n",
       "      <td>NaN</td>\n",
       "      <td>NaN</td>\n",
       "      <td>NaN</td>\n",
       "      <td>&lt;NA&gt;</td>\n",
       "      <td>...</td>\n",
       "      <td>&lt;NA&gt;</td>\n",
       "      <td>575</td>\n",
       "      <td>746</td>\n",
       "      <td>2004-09-01</td>\n",
       "      <td>angel</td>\n",
       "      <td>0.0</td>\n",
       "      <td>0.0</td>\n",
       "      <td>0</td>\n",
       "      <td>1.0</td>\n",
       "      <td>1.0</td>\n",
       "    </tr>\n",
       "    <tr>\n",
       "      <th>217475</th>\n",
       "      <td>NaN</td>\n",
       "      <td>NaN</td>\n",
       "      <td>NaN</td>\n",
       "      <td>NaN</td>\n",
       "      <td>NaT</td>\n",
       "      <td>NaT</td>\n",
       "      <td>NaN</td>\n",
       "      <td>NaN</td>\n",
       "      <td>NaN</td>\n",
       "      <td>&lt;NA&gt;</td>\n",
       "      <td>...</td>\n",
       "      <td>&lt;NA&gt;</td>\n",
       "      <td>577</td>\n",
       "      <td>748</td>\n",
       "      <td>2007-01-01</td>\n",
       "      <td>series-a</td>\n",
       "      <td>1500000.0</td>\n",
       "      <td>2250000.0</td>\n",
       "      <td>0</td>\n",
       "      <td>1.0</td>\n",
       "      <td>1.0</td>\n",
       "    </tr>\n",
       "    <tr>\n",
       "      <th>217476</th>\n",
       "      <td>NaN</td>\n",
       "      <td>NaN</td>\n",
       "      <td>NaN</td>\n",
       "      <td>NaN</td>\n",
       "      <td>NaT</td>\n",
       "      <td>NaT</td>\n",
       "      <td>NaN</td>\n",
       "      <td>NaN</td>\n",
       "      <td>NaN</td>\n",
       "      <td>&lt;NA&gt;</td>\n",
       "      <td>...</td>\n",
       "      <td>&lt;NA&gt;</td>\n",
       "      <td>597</td>\n",
       "      <td>804</td>\n",
       "      <td>2007-06-01</td>\n",
       "      <td>series-a</td>\n",
       "      <td>6000000.0</td>\n",
       "      <td>0.0</td>\n",
       "      <td>2</td>\n",
       "      <td>1.0</td>\n",
       "      <td>1.0</td>\n",
       "    </tr>\n",
       "  </tbody>\n",
       "</table>\n",
       "<p>5 rows × 22 columns</p>\n",
       "</div>"
      ],
      "text/plain": [
       "        company_id_1 name category_code status founded_at closed_at domain  \\\n",
       "217472           NaN  NaN           NaN    NaN        NaT       NaT    NaN   \n",
       "217473           NaN  NaN           NaN    NaN        NaT       NaT    NaN   \n",
       "217474           NaN  NaN           NaN    NaN        NaT       NaT    NaN   \n",
       "217475           NaN  NaN           NaN    NaN        NaT       NaT    NaN   \n",
       "217476           NaN  NaN           NaN    NaN        NaT       NaT    NaN   \n",
       "\n",
       "       network_username country_code  investment_rounds  ...  milestones  \\\n",
       "217472              NaN          NaN               <NA>  ...        <NA>   \n",
       "217473              NaN          NaN               <NA>  ...        <NA>   \n",
       "217474              NaN          NaN               <NA>  ...        <NA>   \n",
       "217475              NaN          NaN               <NA>  ...        <NA>   \n",
       "217476              NaN          NaN               <NA>  ...        <NA>   \n",
       "\n",
       "        funding_round_id  company_id  funded_at  funding_round_type  \\\n",
       "217472               457        1267 2005-01-01            series-a   \n",
       "217473               471         558 2007-01-01               angel   \n",
       "217474               575         746 2004-09-01               angel   \n",
       "217475               577         748 2007-01-01            series-a   \n",
       "217476               597         804 2007-06-01            series-a   \n",
       "\n",
       "       raised_amount pre_money_valuation  participants  is_first_round  \\\n",
       "217472    48000000.0                 0.0             2             1.0   \n",
       "217473      300000.0                 0.0             1             1.0   \n",
       "217474           0.0                 0.0             0             1.0   \n",
       "217475     1500000.0           2250000.0             0             1.0   \n",
       "217476     6000000.0                 0.0             2             1.0   \n",
       "\n",
       "        is_last_round  \n",
       "217472            1.0  \n",
       "217473            1.0  \n",
       "217474            1.0  \n",
       "217475            1.0  \n",
       "217476            1.0  \n",
       "\n",
       "[5 rows x 22 columns]"
      ]
     },
     "execution_count": 114,
     "metadata": {},
     "output_type": "execute_result"
    }
   ],
   "source": [
    "#Посмотрим на первые 5 строк \n",
    "missing_funding = company_rounds_df[company_rounds_df['funding_total'].isna()]\n",
    "\n",
    "missing_funding.head()"
   ]
  },
  {
   "cell_type": "markdown",
   "id": "82c09ff5-d0db-4db3-958d-2a5363609a9a",
   "metadata": {},
   "source": [
    "Как мы можем заметить, почти все данные тут - неизвестны. Давайте проверим известны ли нам категории компаний и выясним есть ли смысл заполнять эти данные"
   ]
  },
  {
   "cell_type": "code",
   "execution_count": 116,
   "id": "69c71856-39ef-4e66-9ada-20731e87acaf",
   "metadata": {},
   "outputs": [
    {
     "data": {
      "text/plain": [
       "302"
      ]
     },
     "execution_count": 116,
     "metadata": {},
     "output_type": "execute_result"
    }
   ],
   "source": [
    "# Смотрим на кол-во пропусков категорий\n",
    "missing_funding['category_code'].isna().sum() "
   ]
  },
  {
   "cell_type": "code",
   "execution_count": 117,
   "id": "87145bc7-7ea6-429a-a728-7cce094cddfb",
   "metadata": {},
   "outputs": [
    {
     "data": {
      "text/plain": [
       "302"
      ]
     },
     "execution_count": 117,
     "metadata": {},
     "output_type": "execute_result"
    }
   ],
   "source": [
    "# Аналогично проанализируем названия компаний\n",
    "missing_funding['name'].isna().sum() "
   ]
  },
  {
   "cell_type": "code",
   "execution_count": 118,
   "id": "7fb6716e-dadd-4447-9516-65011aee57bd",
   "metadata": {},
   "outputs": [
    {
     "data": {
      "text/plain": [
       "302"
      ]
     },
     "execution_count": 118,
     "metadata": {},
     "output_type": "execute_result"
    }
   ],
   "source": [
    "# Смотрим пропуски в айди компания\n",
    "missing_funding['company_id_1'].isna().sum() "
   ]
  },
  {
   "cell_type": "code",
   "execution_count": 119,
   "id": "e748bd3c-1956-4813-8f27-fd7f4874da95",
   "metadata": {},
   "outputs": [
    {
     "data": {
      "text/plain": [
       "0"
      ]
     },
     "execution_count": 119,
     "metadata": {},
     "output_type": "execute_result"
    }
   ],
   "source": [
    "missing_funding['company_id'].isna().sum() "
   ]
  },
  {
   "cell_type": "markdown",
   "id": "6a84e1ae-e537-4ae5-918d-43fd31bae62b",
   "metadata": {},
   "source": [
    "К сожалению мы не можем заменить недостающие значения медианой, поскольку нам неизвестна категория компаний. Также в этом датасете стоит значение 1 как и для первого раунда так и для последнего. Возможно эти 302 строки - ошибка при разделении данных.\n",
    "\n",
    "Мы можем их удалить."
   ]
  },
  {
   "cell_type": "code",
   "execution_count": 121,
   "id": "018e9940-d3dd-406e-a59d-e0deb1a78e76",
   "metadata": {},
   "outputs": [
    {
     "data": {
      "text/plain": [
       "0"
      ]
     },
     "execution_count": 121,
     "metadata": {},
     "output_type": "execute_result"
    }
   ],
   "source": [
    "#Удаляем все строки с пропусками\n",
    "company_rounds_filtered = company_rounds_df.dropna(subset=['funding_total'])\n",
    "\n",
    "company_rounds_filtered['funding_total'].isna().sum()"
   ]
  },
  {
   "cell_type": "markdown",
   "id": "b8a8b627-f209-4331-97ca-0300abe7971d",
   "metadata": {},
   "source": [
    "Готово! Пропусков в данных о сумме финансирования не осталось. Давайте посмотрим столбец `name` чтобы убрать пропуски для группировки данных"
   ]
  },
  {
   "cell_type": "code",
   "execution_count": 123,
   "id": "07e237c9-f418-41bc-8f4d-35c95d346a87",
   "metadata": {},
   "outputs": [
    {
     "data": {
      "text/html": [
       "<div>\n",
       "<style scoped>\n",
       "    .dataframe tbody tr th:only-of-type {\n",
       "        vertical-align: middle;\n",
       "    }\n",
       "\n",
       "    .dataframe tbody tr th {\n",
       "        vertical-align: top;\n",
       "    }\n",
       "\n",
       "    .dataframe thead th {\n",
       "        text-align: right;\n",
       "    }\n",
       "</style>\n",
       "<table border=\"1\" class=\"dataframe\">\n",
       "  <thead>\n",
       "    <tr style=\"text-align: right;\">\n",
       "      <th></th>\n",
       "      <th>company_id_1</th>\n",
       "      <th>name</th>\n",
       "      <th>category_code</th>\n",
       "      <th>status</th>\n",
       "      <th>founded_at</th>\n",
       "      <th>closed_at</th>\n",
       "      <th>domain</th>\n",
       "      <th>network_username</th>\n",
       "      <th>country_code</th>\n",
       "      <th>investment_rounds</th>\n",
       "      <th>...</th>\n",
       "      <th>milestones</th>\n",
       "      <th>funding_round_id</th>\n",
       "      <th>company_id</th>\n",
       "      <th>funded_at</th>\n",
       "      <th>funding_round_type</th>\n",
       "      <th>raised_amount</th>\n",
       "      <th>pre_money_valuation</th>\n",
       "      <th>participants</th>\n",
       "      <th>is_first_round</th>\n",
       "      <th>is_last_round</th>\n",
       "    </tr>\n",
       "  </thead>\n",
       "  <tbody>\n",
       "    <tr>\n",
       "      <th>6492</th>\n",
       "      <td>137018.0</td>\n",
       "      <td>NaN</td>\n",
       "      <td>NaN</td>\n",
       "      <td>closed</td>\n",
       "      <td>2009-01-01</td>\n",
       "      <td>2010-07-01</td>\n",
       "      <td>NaN</td>\n",
       "      <td>NaN</td>\n",
       "      <td>NaN</td>\n",
       "      <td>0</td>\n",
       "      <td>...</td>\n",
       "      <td>1</td>\n",
       "      <td>&lt;NA&gt;</td>\n",
       "      <td>&lt;NA&gt;</td>\n",
       "      <td>NaT</td>\n",
       "      <td>NaN</td>\n",
       "      <td>NaN</td>\n",
       "      <td>NaN</td>\n",
       "      <td>&lt;NA&gt;</td>\n",
       "      <td>NaN</td>\n",
       "      <td>NaN</td>\n",
       "    </tr>\n",
       "  </tbody>\n",
       "</table>\n",
       "<p>1 rows × 22 columns</p>\n",
       "</div>"
      ],
      "text/plain": [
       "      company_id_1 name category_code  status founded_at  closed_at domain  \\\n",
       "6492      137018.0  NaN           NaN  closed 2009-01-01 2010-07-01    NaN   \n",
       "\n",
       "     network_username country_code  investment_rounds  ...  milestones  \\\n",
       "6492              NaN          NaN                  0  ...           1   \n",
       "\n",
       "      funding_round_id  company_id  funded_at  funding_round_type  \\\n",
       "6492              <NA>        <NA>        NaT                 NaN   \n",
       "\n",
       "     raised_amount pre_money_valuation  participants  is_first_round  \\\n",
       "6492           NaN                 NaN          <NA>             NaN   \n",
       "\n",
       "      is_last_round  \n",
       "6492            NaN  \n",
       "\n",
       "[1 rows x 22 columns]"
      ]
     },
     "execution_count": 123,
     "metadata": {},
     "output_type": "execute_result"
    }
   ],
   "source": [
    "# Проверяем, есть ли важные данные в строке где пропущенно название компании\n",
    "missing_name = company_rounds_filtered[company_rounds_filtered['name'].isna()]\n",
    "missing_name"
   ]
  },
  {
   "cell_type": "markdown",
   "id": "80c30479-c228-4dec-a425-dee9e25afbac",
   "metadata": {},
   "source": [
    "Эту строку тоже можно удалять. Она не хранит в себе важной информации по компаниям или финансированию"
   ]
  },
  {
   "cell_type": "code",
   "execution_count": 125,
   "id": "819ee014-b19a-49e5-9776-c62b5dbf3eb4",
   "metadata": {},
   "outputs": [
    {
     "data": {
      "text/plain": [
       "0"
      ]
     },
     "execution_count": 125,
     "metadata": {},
     "output_type": "execute_result"
    }
   ],
   "source": [
    "# Удаляем дубликаты в имени \n",
    "company_rounds_filtered = company_rounds_df.dropna(subset=['name'])\n",
    "\n",
    "# Приверим\n",
    "company_rounds_filtered['name'].isna().sum()"
   ]
  },
  {
   "cell_type": "markdown",
   "id": "d591a7dd-d107-4308-9c99-377675c6fb0d",
   "metadata": {},
   "source": [
    "Поскольку мы разобрались с пропусками в названии компаний, статусе компаний и суммой финансирования, можно приступать к группировке по компаниям."
   ]
  },
  {
   "cell_type": "code",
   "execution_count": 127,
   "id": "7a5e4886-86f2-4503-b4c0-1d2b037215be",
   "metadata": {},
   "outputs": [
    {
     "data": {
      "text/html": [
       "<div>\n",
       "<style scoped>\n",
       "    .dataframe tbody tr th:only-of-type {\n",
       "        vertical-align: middle;\n",
       "    }\n",
       "\n",
       "    .dataframe tbody tr th {\n",
       "        vertical-align: top;\n",
       "    }\n",
       "\n",
       "    .dataframe thead th {\n",
       "        text-align: right;\n",
       "    }\n",
       "</style>\n",
       "<table border=\"1\" class=\"dataframe\">\n",
       "  <thead>\n",
       "    <tr style=\"text-align: right;\">\n",
       "      <th></th>\n",
       "      <th>name</th>\n",
       "      <th>company_id</th>\n",
       "      <th>category_code</th>\n",
       "      <th>status</th>\n",
       "      <th>founded_at</th>\n",
       "      <th>closed_at</th>\n",
       "      <th>domain</th>\n",
       "      <th>network_username</th>\n",
       "      <th>country_code</th>\n",
       "      <th>investment_rounds</th>\n",
       "      <th>funding_rounds</th>\n",
       "      <th>funding_total</th>\n",
       "      <th>pre_money_valuation</th>\n",
       "    </tr>\n",
       "  </thead>\n",
       "  <tbody>\n",
       "    <tr>\n",
       "      <th>0</th>\n",
       "      <td>! Haz Life</td>\n",
       "      <td>&lt;NA&gt;</td>\n",
       "      <td>web</td>\n",
       "      <td>operating</td>\n",
       "      <td>2011-06-09</td>\n",
       "      <td>NaT</td>\n",
       "      <td>wizters.com</td>\n",
       "      <td>wizters</td>\n",
       "      <td>IND</td>\n",
       "      <td>0</td>\n",
       "      <td>0</td>\n",
       "      <td>0</td>\n",
       "      <td>NaN</td>\n",
       "    </tr>\n",
       "    <tr>\n",
       "      <th>1</th>\n",
       "      <td>!mpossible</td>\n",
       "      <td>&lt;NA&gt;</td>\n",
       "      <td>education</td>\n",
       "      <td>operating</td>\n",
       "      <td>NaT</td>\n",
       "      <td>NaT</td>\n",
       "      <td>impossiblevisions.com</td>\n",
       "      <td>None</td>\n",
       "      <td>None</td>\n",
       "      <td>0</td>\n",
       "      <td>0</td>\n",
       "      <td>0</td>\n",
       "      <td>NaN</td>\n",
       "    </tr>\n",
       "    <tr>\n",
       "      <th>2</th>\n",
       "      <td>!nterprise Network Services - US West Communic...</td>\n",
       "      <td>&lt;NA&gt;</td>\n",
       "      <td>None</td>\n",
       "      <td>operating</td>\n",
       "      <td>NaT</td>\n",
       "      <td>NaT</td>\n",
       "      <td>None</td>\n",
       "      <td>None</td>\n",
       "      <td>None</td>\n",
       "      <td>0</td>\n",
       "      <td>0</td>\n",
       "      <td>0</td>\n",
       "      <td>NaN</td>\n",
       "    </tr>\n",
       "    <tr>\n",
       "      <th>3</th>\n",
       "      <td>\"Bourse Magazine\"</td>\n",
       "      <td>&lt;NA&gt;</td>\n",
       "      <td>None</td>\n",
       "      <td>operating</td>\n",
       "      <td>NaT</td>\n",
       "      <td>NaT</td>\n",
       "      <td>None</td>\n",
       "      <td>None</td>\n",
       "      <td>None</td>\n",
       "      <td>0</td>\n",
       "      <td>0</td>\n",
       "      <td>0</td>\n",
       "      <td>NaN</td>\n",
       "    </tr>\n",
       "    <tr>\n",
       "      <th>4</th>\n",
       "      <td>\"Canal do Credito\"</td>\n",
       "      <td>200247</td>\n",
       "      <td>finance</td>\n",
       "      <td>operating</td>\n",
       "      <td>NaT</td>\n",
       "      <td>NaT</td>\n",
       "      <td>canaldocredito.com.br</td>\n",
       "      <td>CanaldoCredito</td>\n",
       "      <td>BRA</td>\n",
       "      <td>0</td>\n",
       "      <td>1</td>\n",
       "      <td>750000</td>\n",
       "      <td>0.0</td>\n",
       "    </tr>\n",
       "  </tbody>\n",
       "</table>\n",
       "</div>"
      ],
      "text/plain": [
       "                                                name  company_id  \\\n",
       "0                                         ! Haz Life        <NA>   \n",
       "1                                         !mpossible        <NA>   \n",
       "2  !nterprise Network Services - US West Communic...        <NA>   \n",
       "3                                  \"Bourse Magazine\"        <NA>   \n",
       "4                                 \"Canal do Credito\"      200247   \n",
       "\n",
       "  category_code     status founded_at closed_at                 domain  \\\n",
       "0           web  operating 2011-06-09       NaT            wizters.com   \n",
       "1     education  operating        NaT       NaT  impossiblevisions.com   \n",
       "2          None  operating        NaT       NaT                   None   \n",
       "3          None  operating        NaT       NaT                   None   \n",
       "4       finance  operating        NaT       NaT  canaldocredito.com.br   \n",
       "\n",
       "  network_username country_code  investment_rounds  funding_rounds  \\\n",
       "0          wizters          IND                  0               0   \n",
       "1             None         None                  0               0   \n",
       "2             None         None                  0               0   \n",
       "3             None         None                  0               0   \n",
       "4   CanaldoCredito          BRA                  0               1   \n",
       "\n",
       "   funding_total  pre_money_valuation  \n",
       "0              0                  NaN  \n",
       "1              0                  NaN  \n",
       "2              0                  NaN  \n",
       "3              0                  NaN  \n",
       "4         750000                  0.0  "
      ]
     },
     "execution_count": 127,
     "metadata": {},
     "output_type": "execute_result"
    }
   ],
   "source": [
    "# Группируем наш датасет по названию компании\n",
    "rounds_final_df = company_rounds_filtered.groupby('name').agg({\n",
    "    'company_id': 'first',\n",
    "    'category_code': 'first',\n",
    "    'status': 'first',\n",
    "    'founded_at': 'min',\n",
    "    'closed_at': 'max',\n",
    "    'domain': 'first',\n",
    "    'network_username': 'first',\n",
    "    'country_code': 'first',\n",
    "    'investment_rounds': 'sum',\n",
    "    'funding_rounds': 'sum',\n",
    "    'funding_total': 'max',\n",
    "    'pre_money_valuation': 'mean'\n",
    "}).reset_index()\n",
    "\n",
    "rounds_final_df.head()"
   ]
  },
  {
   "cell_type": "code",
   "execution_count": 128,
   "id": "2383f868-8fe0-485f-8818-be993d811749",
   "metadata": {},
   "outputs": [
    {
     "name": "stdout",
     "output_type": "stream",
     "text": [
      "<class 'pandas.core.frame.DataFrame'>\n",
      "RangeIndex: 196505 entries, 0 to 196504\n",
      "Data columns (total 13 columns):\n",
      " #   Column               Non-Null Count   Dtype         \n",
      "---  ------               --------------   -----         \n",
      " 0   name                 196505 non-null  object        \n",
      " 1   company_id           31707 non-null   Int64         \n",
      " 2   category_code        123176 non-null  object        \n",
      " 3   status               196505 non-null  object        \n",
      " 4   founded_at           91221 non-null   datetime64[ns]\n",
      " 5   closed_at            2619 non-null    datetime64[ns]\n",
      " 6   domain               126533 non-null  object        \n",
      " 7   network_username     80587 non-null   object        \n",
      " 8   country_code         87987 non-null   object        \n",
      " 9   investment_rounds    196505 non-null  Int64         \n",
      " 10  funding_rounds       196505 non-null  Int64         \n",
      " 11  funding_total        196505 non-null  Int64         \n",
      " 12  pre_money_valuation  31707 non-null   float64       \n",
      "dtypes: Int64(4), datetime64[ns](2), float64(1), object(6)\n",
      "memory usage: 20.2+ MB\n"
     ]
    }
   ],
   "source": [
    "rounds_final_df.info()"
   ]
  },
  {
   "cell_type": "markdown",
   "id": "5144f8a8-44d1-4471-a307-8239ffad805d",
   "metadata": {},
   "source": [
    "Готово! Мы сгруппировали таблицу и теперь мы можем отобрать нужную информацию по компаниям через датасет `rounds_final_df`\n",
    "Мы убрали значения которые отсутствуют в данных полностью и сгруппировали датасет по названиям компаний, также полностью сохранили информацию о суммах финансирования и постарались учесть все запросы заказчика.\n",
    "\n",
    "В данных все еще присутствуют пропуски, но мы постарались сохранить всю имеющуюся информацию"
   ]
  },
  {
   "cell_type": "markdown",
   "id": "493ba7c7-af0a-4716-94ba-1f50fd0cff00",
   "metadata": {},
   "source": [
    "## Шаг 3. Исследовательский анализ объединённых таблиц\n"
   ]
  },
  {
   "cell_type": "markdown",
   "id": "88e21445-954c-42f9-b982-06c16b135c97",
   "metadata": {},
   "source": [
    "#### Объединение данных"
   ]
  },
  {
   "cell_type": "markdown",
   "id": "d123730e-6d24-4fe8-82f3-5d174396c05d",
   "metadata": {},
   "source": [
    "Нам нужно отфильтровать наш финальный датасет. \n",
    "Заказчика прежде всего интересуют те компании, которые меняли или готовы менять владельцев. Получение инвестиций или финансирования, по мнению заказчика, означает интерес к покупке или продаже компании.\n",
    "\n",
    "В финальном датасете нам нужно отобрать только те компании, у которых указаны значения `funding_rounds` или `investment_rounds` больше нуля, или те, у которых в колонке `status` указано `acquired`\n",
    "\n",
    "Начнем с фильтров:\n"
   ]
  },
  {
   "cell_type": "code",
   "execution_count": 203,
   "id": "691d51fd-b2e0-433e-a988-c88834297bd6",
   "metadata": {},
   "outputs": [
    {
     "name": "stdout",
     "output_type": "stream",
     "text": [
      "<class 'pandas.core.frame.DataFrame'>\n",
      "Index: 40747 entries, 4 to 196502\n",
      "Data columns (total 13 columns):\n",
      " #   Column               Non-Null Count  Dtype         \n",
      "---  ------               --------------  -----         \n",
      " 0   name                 40747 non-null  object        \n",
      " 1   company_id           31707 non-null  Int64         \n",
      " 2   category_code        35315 non-null  object        \n",
      " 3   status               40747 non-null  object        \n",
      " 4   founded_at           27807 non-null  datetime64[ns]\n",
      " 5   closed_at            2128 non-null   datetime64[ns]\n",
      " 6   domain               35754 non-null  object        \n",
      " 7   network_username     20850 non-null  object        \n",
      " 8   country_code         34742 non-null  object        \n",
      " 9   investment_rounds    40747 non-null  Int64         \n",
      " 10  funding_rounds       40747 non-null  Int64         \n",
      " 11  funding_total        40747 non-null  Int64         \n",
      " 12  pre_money_valuation  31707 non-null  float64       \n",
      "dtypes: Int64(4), datetime64[ns](2), float64(1), object(6)\n",
      "memory usage: 4.5+ MB\n"
     ]
    }
   ],
   "source": [
    "# Фильтруем данные по условию\n",
    "filtered_companies = rounds_final_df[\n",
    "    (rounds_final_df['funding_rounds'] > 0) |\n",
    "    (rounds_final_df['investment_rounds'] > 0) |\n",
    "    (rounds_final_df['status'] == 'acquired')\n",
    "]\n",
    "filtered_companies.info()"
   ]
  },
  {
   "cell_type": "code",
   "execution_count": 207,
   "id": "f12b42fb-1d19-40da-8510-10488f64d99f",
   "metadata": {},
   "outputs": [
    {
     "data": {
      "text/html": [
       "<div>\n",
       "<style scoped>\n",
       "    .dataframe tbody tr th:only-of-type {\n",
       "        vertical-align: middle;\n",
       "    }\n",
       "\n",
       "    .dataframe tbody tr th {\n",
       "        vertical-align: top;\n",
       "    }\n",
       "\n",
       "    .dataframe thead th {\n",
       "        text-align: right;\n",
       "    }\n",
       "</style>\n",
       "<table border=\"1\" class=\"dataframe\">\n",
       "  <thead>\n",
       "    <tr style=\"text-align: right;\">\n",
       "      <th></th>\n",
       "      <th>name</th>\n",
       "      <th>company_id</th>\n",
       "      <th>category_code</th>\n",
       "      <th>status</th>\n",
       "      <th>founded_at</th>\n",
       "      <th>closed_at</th>\n",
       "      <th>domain</th>\n",
       "      <th>network_username</th>\n",
       "      <th>country_code</th>\n",
       "      <th>investment_rounds</th>\n",
       "      <th>funding_rounds</th>\n",
       "      <th>funding_total</th>\n",
       "      <th>pre_money_valuation</th>\n",
       "    </tr>\n",
       "  </thead>\n",
       "  <tbody>\n",
       "    <tr>\n",
       "      <th>4</th>\n",
       "      <td>\"Canal do Credito\"</td>\n",
       "      <td>200247</td>\n",
       "      <td>finance</td>\n",
       "      <td>operating</td>\n",
       "      <td>NaT</td>\n",
       "      <td>NaT</td>\n",
       "      <td>canaldocredito.com.br</td>\n",
       "      <td>CanaldoCredito</td>\n",
       "      <td>BRA</td>\n",
       "      <td>0</td>\n",
       "      <td>1</td>\n",
       "      <td>750000</td>\n",
       "      <td>0.0</td>\n",
       "    </tr>\n",
       "    <tr>\n",
       "      <th>16</th>\n",
       "      <td>#waywire</td>\n",
       "      <td>163104</td>\n",
       "      <td>news</td>\n",
       "      <td>acquired</td>\n",
       "      <td>2012-06-01</td>\n",
       "      <td>NaT</td>\n",
       "      <td>waywire.com</td>\n",
       "      <td>waywire</td>\n",
       "      <td>USA</td>\n",
       "      <td>0</td>\n",
       "      <td>1</td>\n",
       "      <td>1750000</td>\n",
       "      <td>0.0</td>\n",
       "    </tr>\n",
       "    <tr>\n",
       "      <th>25</th>\n",
       "      <td>(In)Touch Network</td>\n",
       "      <td>283078</td>\n",
       "      <td>ecommerce</td>\n",
       "      <td>operating</td>\n",
       "      <td>2011-04-01</td>\n",
       "      <td>NaT</td>\n",
       "      <td>intouchnetwork.com</td>\n",
       "      <td>None</td>\n",
       "      <td>GBR</td>\n",
       "      <td>0</td>\n",
       "      <td>1</td>\n",
       "      <td>1500000</td>\n",
       "      <td>0.0</td>\n",
       "    </tr>\n",
       "    <tr>\n",
       "      <th>30</th>\n",
       "      <td>(fluff)Friends</td>\n",
       "      <td>&lt;NA&gt;</td>\n",
       "      <td>None</td>\n",
       "      <td>acquired</td>\n",
       "      <td>NaT</td>\n",
       "      <td>NaT</td>\n",
       "      <td>None</td>\n",
       "      <td>None</td>\n",
       "      <td>None</td>\n",
       "      <td>0</td>\n",
       "      <td>0</td>\n",
       "      <td>0</td>\n",
       "      <td>NaN</td>\n",
       "    </tr>\n",
       "    <tr>\n",
       "      <th>41</th>\n",
       "      <td>+n (PlusN)</td>\n",
       "      <td>169812</td>\n",
       "      <td>software</td>\n",
       "      <td>operating</td>\n",
       "      <td>2012-01-01</td>\n",
       "      <td>NaT</td>\n",
       "      <td>plusn.com</td>\n",
       "      <td>None</td>\n",
       "      <td>USA</td>\n",
       "      <td>0</td>\n",
       "      <td>1</td>\n",
       "      <td>600000</td>\n",
       "      <td>0.0</td>\n",
       "    </tr>\n",
       "  </tbody>\n",
       "</table>\n",
       "</div>"
      ],
      "text/plain": [
       "                  name  company_id category_code     status founded_at  \\\n",
       "4   \"Canal do Credito\"      200247       finance  operating        NaT   \n",
       "16            #waywire      163104          news   acquired 2012-06-01   \n",
       "25   (In)Touch Network      283078     ecommerce  operating 2011-04-01   \n",
       "30      (fluff)Friends        <NA>          None   acquired        NaT   \n",
       "41          +n (PlusN)      169812      software  operating 2012-01-01   \n",
       "\n",
       "   closed_at                 domain network_username country_code  \\\n",
       "4        NaT  canaldocredito.com.br   CanaldoCredito          BRA   \n",
       "16       NaT            waywire.com          waywire          USA   \n",
       "25       NaT     intouchnetwork.com             None          GBR   \n",
       "30       NaT                   None             None         None   \n",
       "41       NaT              plusn.com             None          USA   \n",
       "\n",
       "    investment_rounds  funding_rounds  funding_total  pre_money_valuation  \n",
       "4                   0               1         750000                  0.0  \n",
       "16                  0               1        1750000                  0.0  \n",
       "25                  0               1        1500000                  0.0  \n",
       "30                  0               0              0                  NaN  \n",
       "41                  0               1         600000                  0.0  "
      ]
     },
     "execution_count": 207,
     "metadata": {},
     "output_type": "execute_result"
    }
   ],
   "source": [
    "filtered_companies.head()"
   ]
  },
  {
   "cell_type": "markdown",
   "id": "52adc9a7-0f2b-4434-b102-f3483ae2bb7a",
   "metadata": {},
   "source": [
    "Финализированный датасет содержит 40 747 компаний с ключевой информацией о финансировании и статусе. В нём представлены названия компаний, их уникальные идентификаторы, сфера деятельности (35 315 заполненных значений) и статус (например, действующая или приобретённая компания). Даты основания (27 807 значений) и закрытия (2 128 значений) позволяют анализировать жизненный цикл компаний. \n",
    "\n",
    "Также включены данные о стране, домене и сетевом имени компании (но они заполнены не полностью). Все компании прошли хотя бы один инвестиционный или финансовый раунд, а также имеют данные о сумме привлечённых инвестиций. В столбце pre_money_valuation (предварительная оценка стоимости) заполнено 31 707 значений."
   ]
  },
  {
   "cell_type": "markdown",
   "id": "9aee68bd-8051-4502-bc3b-41eb5e27326e",
   "metadata": {},
   "source": [
    "#### Анализ выбросов"
   ]
  },
  {
   "cell_type": "markdown",
   "id": "91bff10f-c1f3-455e-aae0-b5ff6f675097",
   "metadata": {},
   "source": [
    "Заказчика интересует обычный для рассматриваемого периода размер средств, который предоставлялся компаниям.\n",
    "\n",
    "Для этого мы возпользуемся помощью метода `.describe()` и графиком \"Ящик с усами\" или `boxplot`"
   ]
  },
  {
   "cell_type": "code",
   "execution_count": 228,
   "id": "10cb7ecc-538c-4dea-a38b-6719bab115ac",
   "metadata": {},
   "outputs": [
    {
     "data": {
      "text/plain": [
       "count            40747.0\n",
       "mean     10135609.636734\n",
       "std      56464359.977256\n",
       "min                  0.0\n",
       "25%                  0.0\n",
       "50%             600000.0\n",
       "75%            5650650.0\n",
       "max         5700000000.0\n",
       "Name: funding_total, dtype: Float64"
      ]
     },
     "execution_count": 228,
     "metadata": {},
     "output_type": "execute_result"
    }
   ],
   "source": [
    "# Посмотрим на общие статистические величины\n",
    "filtered_companies['funding_total'].describe()"
   ]
  },
  {
   "cell_type": "markdown",
   "id": "de26eb14-1e28-43c3-8438-71ee7ac173f0",
   "metadata": {},
   "source": [
    "Мы видим что в данных присутствует очень сильное отклонение, максимум и 75-й перцентиль также как и среднее и медиана очень сильно отличаются друг от друга. Стандартное отклонение - `56464359.97`.\n",
    "\n",
    "Давайте детально рассмотрим выбросы на графике:"
   ]
  },
  {
   "cell_type": "code",
   "execution_count": 224,
   "id": "5fc63ebb-f70f-43e4-b8e6-e71bbbbefc0e",
   "metadata": {},
   "outputs": [
    {
     "data": {
      "image/png": "[encoded data removed]",
      "text/plain": [
       "<Figure size 1000x500 with 1 Axes>"
      ]
     },
     "metadata": {},
     "output_type": "display_data"
    }
   ],
   "source": [
    "# Создаём контейнер графика matplotlib и задаём его размер\n",
    "plt.figure(figsize=(10, 5))\n",
    "\n",
    "# Построим график\n",
    "filtered_companies.boxplot(column = 'funding_total', vert = False)\n",
    "\n",
    "# Добавляем заголовок и метки оси\n",
    "plt.title('Распределение суммы финансирования')\n",
    "plt.xlabel('Сумма финансирования')\n",
    "\n",
    "# Выводим график\n",
    "plt.show()"
   ]
  },
  {
   "cell_type": "markdown",
   "id": "7065ecea-2c96-4def-8216-1a8502ddba6c",
   "metadata": {},
   "source": [
    "С тамик количеством выбросов и сильным отклонением читать график очень сложно. Давайте рассмотрим `boxplot` без выбросов"
   ]
  },
  {
   "cell_type": "code",
   "execution_count": 232,
   "id": "79d88a9d-ae17-4404-9804-b5fc32f17c8e",
   "metadata": {},
   "outputs": [
    {
     "data": {
      "image/png": "[encoded data removed]",
      "text/plain": [
       "<Figure size 1000x500 with 1 Axes>"
      ]
     },
     "metadata": {},
     "output_type": "display_data"
    }
   ],
   "source": [
    "# Создаём контейнер графика matplotlib и задаём его размер\n",
    "plt.figure(figsize=(10, 5))\n",
    "\n",
    "# Построим график\n",
    "filtered_companies.boxplot(column = 'funding_total', vert = False, showfliers=False)\n",
    "\n",
    "# Добавляем заголовок и метки оси\n",
    "plt.title('Распределение суммы финансирования')\n",
    "plt.xlabel('Сумма финансирования')\n",
    "\n",
    "# Выводим график\n",
    "plt.show()"
   ]
  },
  {
   "cell_type": "markdown",
   "id": "536820fb-ed13-4e52-88a9-c4bab30f68e0",
   "metadata": {},
   "source": [
    "Поскольку распределение данных сильно скошено из-за крупных выбросов, для определения «обычного» размера финансирования лучше использовать медиану (600 000). Это поможет избежать искажения, вызванного несколькими крупными инвестициями.\n",
    "\n",
    "Обычные способы нахождения типичных значений, такие как среднее арифметическое, в данном случае не совсем корректны из-за сильной асимметрии данных и наличия крупных выбросов. Среднее значение (≈10,1 млн) значительно выше медианы (600 тыс.), что указывает на сильное влияние нескольких крупных значений. Высокий стандарт отклонения (≈56,5 млн) и разница между 75-м перцентилем (≈5,6 млн) и максимумом (5,7 млрд) также подтверждают наличие выбросов. В таких случаях лучше ориентироваться на медиану.\n",
    "\n",
    "Мы также можем рассмотреть моду как самое часто встречающуюся сумму. Дайте проверим:"
   ]
  },
  {
   "cell_type": "code",
   "execution_count": 263,
   "id": "5726ff64-2e3f-4bce-a0b9-2ab725884485",
   "metadata": {},
   "outputs": [
    {
     "data": {
      "text/plain": [
       "0    0\n",
       "Name: funding_total, dtype: Int64"
      ]
     },
     "execution_count": 263,
     "metadata": {},
     "output_type": "execute_result"
    }
   ],
   "source": [
    "# Высчитываем моду\n",
    "filtered_companies['funding_total'].mode()"
   ]
  },
  {
   "cell_type": "markdown",
   "id": "3e253eab-dd99-45fa-af86-ecf93b4f0dad",
   "metadata": {},
   "source": [
    "Самое часто встречающееся значение - 0. Мы можем посмотреть на моду без нулевых значений чтобы не искажать наш анализ."
   ]
  },
  {
   "cell_type": "code",
   "execution_count": 261,
   "id": "9d152296-e18c-4334-97f8-1cd61f3ab7e0",
   "metadata": {},
   "outputs": [
    {
     "data": {
      "text/plain": [
       "0    1000000\n",
       "Name: funding_total, dtype: Int64"
      ]
     },
     "execution_count": 261,
     "metadata": {},
     "output_type": "execute_result"
    }
   ],
   "source": [
    "# Считаем моду без нулевых значений\n",
    "filtered_companies[filtered_companies['funding_total'] > 0]['funding_total'].mode()"
   ]
  },
  {
   "cell_type": "markdown",
   "id": "5f240566-1428-48fc-a741-89cc9269946d",
   "metadata": {},
   "source": [
    "Типичная сумма финансирования стартапов составляет около 600 000, что соответствует медианному значению, разделяющему компании на две равные группы: половина получила меньше этой суммы, половина – больше. Однако наиболее часто встречающееся значение – 1 000 000, что может свидетельствовать о распространённой практике выделения именно такой суммы в инвестиционных раундах. Среднее значение использовать нецелесообразно, так как оно значительно завышено редкими, но очень крупными сделками. \n",
    "\n",
    "Для анализа рынка и планирования бюджета целесообразно ориентироваться на медианное значение, учитывая при этом, что инвестиции в размере 1 000 000 встречаются особенно часто."
   ]
  },
  {
   "cell_type": "markdown",
   "id": "8df74f41-37a9-4b92-baff-bdba3991420f",
   "metadata": {},
   "source": [
    "#### Куплены забесплатно?"
   ]
  },
  {
   "cell_type": "markdown",
   "id": "66021e8a-48d4-4ff4-b1c4-4bf1e728b91b",
   "metadata": {},
   "source": [
    "Как мы видим из нашего датасета, мода равна нулю. Давайте проанализируем эти аномальные значения. \n",
    "\n",
    "Для этого исследуем компании которые были куплены за 0 или 1 доллар"
   ]
  },
  {
   "cell_type": "code",
   "execution_count": 270,
   "id": "0a236026-becd-43f1-8f8e-24561ed94dce",
   "metadata": {
    "scrolled": true
   },
   "outputs": [
    {
     "name": "stdout",
     "output_type": "stream",
     "text": [
      "<class 'pandas.core.frame.DataFrame'>\n",
      "Index: 12873 entries, 30 to 196502\n",
      "Data columns (total 13 columns):\n",
      " #   Column               Non-Null Count  Dtype         \n",
      "---  ------               --------------  -----         \n",
      " 0   name                 12873 non-null  object        \n",
      " 1   company_id           3833 non-null   Int64         \n",
      " 2   category_code        8458 non-null   object        \n",
      " 3   status               12873 non-null  object        \n",
      " 4   founded_at           6057 non-null   datetime64[ns]\n",
      " 5   closed_at            358 non-null    datetime64[ns]\n",
      " 6   domain               9264 non-null   object        \n",
      " 7   network_username     4217 non-null   object        \n",
      " 8   country_code         8472 non-null   object        \n",
      " 9   investment_rounds    12873 non-null  Int64         \n",
      " 10  funding_rounds       12873 non-null  Int64         \n",
      " 11  funding_total        12873 non-null  Int64         \n",
      " 12  pre_money_valuation  3833 non-null   float64       \n",
      "dtypes: Int64(4), datetime64[ns](2), float64(1), object(6)\n",
      "memory usage: 1.4+ MB\n"
     ]
    }
   ],
   "source": [
    "sold_companies = filtered_companies[(filtered_companies['funding_total'] == 0) | (filtered_companies['funding_total'] == 1)]\n",
    "\n",
    "sold_companies.info()"
   ]
  },
  {
   "cell_type": "code",
   "execution_count": 272,
   "id": "2fb0f76c-8a55-4571-8a0f-df4d8a0c4416",
   "metadata": {},
   "outputs": [
    {
     "data": {
      "text/html": [
       "<div>\n",
       "<style scoped>\n",
       "    .dataframe tbody tr th:only-of-type {\n",
       "        vertical-align: middle;\n",
       "    }\n",
       "\n",
       "    .dataframe tbody tr th {\n",
       "        vertical-align: top;\n",
       "    }\n",
       "\n",
       "    .dataframe thead th {\n",
       "        text-align: right;\n",
       "    }\n",
       "</style>\n",
       "<table border=\"1\" class=\"dataframe\">\n",
       "  <thead>\n",
       "    <tr style=\"text-align: right;\">\n",
       "      <th></th>\n",
       "      <th>name</th>\n",
       "      <th>company_id</th>\n",
       "      <th>category_code</th>\n",
       "      <th>status</th>\n",
       "      <th>founded_at</th>\n",
       "      <th>closed_at</th>\n",
       "      <th>domain</th>\n",
       "      <th>network_username</th>\n",
       "      <th>country_code</th>\n",
       "      <th>investment_rounds</th>\n",
       "      <th>funding_rounds</th>\n",
       "      <th>funding_total</th>\n",
       "      <th>pre_money_valuation</th>\n",
       "    </tr>\n",
       "  </thead>\n",
       "  <tbody>\n",
       "    <tr>\n",
       "      <th>30</th>\n",
       "      <td>(fluff)Friends</td>\n",
       "      <td>&lt;NA&gt;</td>\n",
       "      <td>None</td>\n",
       "      <td>acquired</td>\n",
       "      <td>NaT</td>\n",
       "      <td>NaT</td>\n",
       "      <td>None</td>\n",
       "      <td>None</td>\n",
       "      <td>None</td>\n",
       "      <td>0</td>\n",
       "      <td>0</td>\n",
       "      <td>0</td>\n",
       "      <td>NaN</td>\n",
       "    </tr>\n",
       "    <tr>\n",
       "      <th>72</th>\n",
       "      <td>01Startups</td>\n",
       "      <td>&lt;NA&gt;</td>\n",
       "      <td>None</td>\n",
       "      <td>operating</td>\n",
       "      <td>NaT</td>\n",
       "      <td>NaT</td>\n",
       "      <td>None</td>\n",
       "      <td>None</td>\n",
       "      <td>None</td>\n",
       "      <td>1</td>\n",
       "      <td>0</td>\n",
       "      <td>0</td>\n",
       "      <td>NaN</td>\n",
       "    </tr>\n",
       "    <tr>\n",
       "      <th>90</th>\n",
       "      <td>1 Nation Technology</td>\n",
       "      <td>&lt;NA&gt;</td>\n",
       "      <td>None</td>\n",
       "      <td>acquired</td>\n",
       "      <td>NaT</td>\n",
       "      <td>NaT</td>\n",
       "      <td>None</td>\n",
       "      <td>None</td>\n",
       "      <td>None</td>\n",
       "      <td>0</td>\n",
       "      <td>0</td>\n",
       "      <td>0</td>\n",
       "      <td>NaN</td>\n",
       "    </tr>\n",
       "    <tr>\n",
       "      <th>109</th>\n",
       "      <td>1-800-DENTIST</td>\n",
       "      <td>54748</td>\n",
       "      <td>health</td>\n",
       "      <td>operating</td>\n",
       "      <td>1986-01-01</td>\n",
       "      <td>NaT</td>\n",
       "      <td>1800dentist.com</td>\n",
       "      <td>1800DENTIST</td>\n",
       "      <td>USA</td>\n",
       "      <td>0</td>\n",
       "      <td>1</td>\n",
       "      <td>0</td>\n",
       "      <td>0.0</td>\n",
       "    </tr>\n",
       "    <tr>\n",
       "      <th>111</th>\n",
       "      <td>1-800-FLOWERS.COM</td>\n",
       "      <td>&lt;NA&gt;</td>\n",
       "      <td>None</td>\n",
       "      <td>operating</td>\n",
       "      <td>1976-01-01</td>\n",
       "      <td>NaT</td>\n",
       "      <td>1800flowers.com</td>\n",
       "      <td>1800flowers</td>\n",
       "      <td>USA</td>\n",
       "      <td>1</td>\n",
       "      <td>0</td>\n",
       "      <td>0</td>\n",
       "      <td>NaN</td>\n",
       "    </tr>\n",
       "  </tbody>\n",
       "</table>\n",
       "</div>"
      ],
      "text/plain": [
       "                    name  company_id category_code     status founded_at  \\\n",
       "30        (fluff)Friends        <NA>          None   acquired        NaT   \n",
       "72            01Startups        <NA>          None  operating        NaT   \n",
       "90   1 Nation Technology        <NA>          None   acquired        NaT   \n",
       "109        1-800-DENTIST       54748        health  operating 1986-01-01   \n",
       "111    1-800-FLOWERS.COM        <NA>          None  operating 1976-01-01   \n",
       "\n",
       "    closed_at           domain network_username country_code  \\\n",
       "30        NaT             None             None         None   \n",
       "72        NaT             None             None         None   \n",
       "90        NaT             None             None         None   \n",
       "109       NaT  1800dentist.com      1800DENTIST          USA   \n",
       "111       NaT  1800flowers.com      1800flowers          USA   \n",
       "\n",
       "     investment_rounds  funding_rounds  funding_total  pre_money_valuation  \n",
       "30                   0               0              0                  NaN  \n",
       "72                   1               0              0                  NaN  \n",
       "90                   0               0              0                  NaN  \n",
       "109                  0               1              0                  0.0  \n",
       "111                  1               0              0                  NaN  "
      ]
     },
     "execution_count": 272,
     "metadata": {},
     "output_type": "execute_result"
    }
   ],
   "source": [
    "sold_companies.head()"
   ]
  },
  {
   "cell_type": "markdown",
   "id": "0674093c-36ca-4e59-b477-3e03f5b22677",
   "metadata": {},
   "source": [
    "Таблица содержит 12 873 записи о компаниях, которые были проданы за 0 или 1 доллар. \n",
    "\n",
    "Несмотря на то, что для таких компаний был зафиксирован ненулевой объем финансирования, сумма в столбце `funding_total` выглядит некорректной, что может быть связано с возможными ошибками в данных или нестандартными сделками.\n",
    "\n",
    "Давайте рассчитаем верхнюю и нижнюю границы выбросов для `funding_total` чтобы более точно оценить распределение данных, выявить аномалии и определить, есть ли проблемы с качеством данных, которые могут повлиять на последующий анализ.\n",
    "\n",
    "Для нахождения выбросов в столбце `funding_total` используем межквартильный размах (IQR):\n",
    "\n",
    "`IQR = Q3 - Q1`\n",
    "\n",
    "Где Q1 это 1-й квантиль или 25-й перцентиль, а Q3 это 3-й квартиль или 75-й перцентиль\n",
    "\n",
    "Нижнюю границу найдем по формуле  `Q1 - 1.5 * IQR`, а верхнюю - `Q3 + 1.5 * IQR`"
   ]
  },
  {
   "cell_type": "code",
   "execution_count": 355,
   "id": "8d881e19-5872-4517-9145-e77656c43334",
   "metadata": {},
   "outputs": [
    {
     "data": {
      "text/plain": [
       "(-8475975.0, 14126625.0)"
      ]
     },
     "execution_count": 355,
     "metadata": {},
     "output_type": "execute_result"
    }
   ],
   "source": [
    "# Вычисляем 1-й квантиль\n",
    "q1 = filtered_companies['funding_total'].quantile(0.25)\n",
    "\n",
    "# Вычисляем 3-й квантиль\n",
    "q3 = filtered_companies['funding_total'].quantile(0.75)\n",
    "\n",
    "# Вычисляем IQR\n",
    "iqr = q3 - q1\n",
    "\n",
    "# Вычисляем нижнюю и верхнюю границы выбросов\n",
    "lower_border = q1 - 1.5 * iqr\n",
    "upper_border = q3 + 1.5 * iqr\n",
    "\n",
    "lower_border, upper_border"
   ]
  },
  {
   "cell_type": "markdown",
   "id": "76e22621-4ccc-4327-9728-f68eca4d8f77",
   "metadata": {},
   "source": [
    "Как мы видим нижняя граница отрицательная, для финансовых метрик отрицательные значения невозможны, в таком случае нижнюю границу стоит заменить на 0.\n",
    "\n",
    "Давайте посмотрим каким процентилям соответствуют наши границы."
   ]
  },
  {
   "cell_type": "code",
   "execution_count": 298,
   "id": "0ac4068a-8376-47e4-bd13-fdbb9cc24e60",
   "metadata": {},
   "outputs": [
    {
     "data": {
      "text/plain": [
       "(31.59250987802783, 85.62348148329939)"
      ]
     },
     "execution_count": 298,
     "metadata": {},
     "output_type": "execute_result"
    }
   ],
   "source": [
    "# Вычисляем какому процентилю соответствует нижняя граница\n",
    "lower_perc = (filtered_companies['funding_total'] <= 0).mean() * 100\n",
    "\n",
    "# Вычисляем какому процентилю соответствует верхняя граница\n",
    "upper_perc = (filtered_companies['funding_total'] <= upper_border).mean() * 100\n",
    "\n",
    "lower_perc, upper_perc"
   ]
  },
  {
   "cell_type": "markdown",
   "id": "467951f0-cf19-4d65-b016-477a494c5480",
   "metadata": {},
   "source": [
    "Нижняя граница выбросов составляет 0, что соответствует примерно 31-му процентилю, а верхняя граница — 14 126 625, что примерно соответствует 85-му процентилю. Это говорит о том, что значительная часть компаний получила нулевое финансирование, что может искажать анализ. \n",
    "\n",
    "В будущем заказчику стоит рассмотреть возможность сдвига нижней границы, например, исключив компании с финансированием ниже определённого порога, чтобы сосредоточиться на более значимых сделках."
   ]
  },
  {
   "cell_type": "markdown",
   "id": "222f319c",
   "metadata": {},
   "source": [
    "<div class=\"alert alert-success\">\n",
    "<h2> Комментарий ревьюера v2 <a class=\"tocSkip\"> </h2>\n",
    "\n",
    "<b>Все супер!👍:</b>  Понятные и полезные выводы для заказчика, хвалю!"
   ]
  },
  {
   "cell_type": "markdown",
   "id": "9905d71a-459f-4c98-9dc0-15aebaa67b5c",
   "metadata": {},
   "source": [
    "#### Цены стартапов по категориям"
   ]
  },
  {
   "cell_type": "markdown",
   "id": "b8106c5b-94c9-41c0-8465-655e57ca3af1",
   "metadata": {},
   "source": [
    "Категории стартапов с типично высокими ценами покупки стартапов и значительным разбросом цен могут быть привлекательными для крупных инвесторов, которые готовы к высоким рискам ради потенциально больших доходов. \n",
    "\n",
    "Давайте изучим суммы финансирования по категориям стартапов"
   ]
  },
  {
   "cell_type": "code",
   "execution_count": 323,
   "id": "9e06bad5-7cf5-4274-b40b-2b73ba624a66",
   "metadata": {},
   "outputs": [
    {
     "data": {
      "text/plain": [
       "42"
      ]
     },
     "execution_count": 323,
     "metadata": {},
     "output_type": "execute_result"
    }
   ],
   "source": [
    "# Подсчитаем количество уникальных категорий \n",
    "filtered_companies['category_code'].nunique()"
   ]
  },
  {
   "cell_type": "markdown",
   "id": "66266eb0-3719-49cb-8e5c-4735f2c1c548",
   "metadata": {},
   "source": [
    "Всего у нас представлено 42 категории стартапов. Давайте сгруппируем наш датасет чтобы выявить медиану цены по каждой категории и выведем топ - 5 категорий с наивысшей суммой финансирования"
   ]
  },
  {
   "cell_type": "code",
   "execution_count": 404,
   "id": "96069e9b-70f6-4c15-b929-0cea5466ea08",
   "metadata": {},
   "outputs": [
    {
     "data": {
      "text/plain": [
       "category_code\n",
       "semiconductor    8100000.0\n",
       "cleantech        6000000.0\n",
       "medical          5400000.0\n",
       "nanotech         5115960.0\n",
       "biotech          4000000.0\n",
       "Name: funding_total, dtype: Float64"
      ]
     },
     "execution_count": 404,
     "metadata": {},
     "output_type": "execute_result"
    }
   ],
   "source": [
    "# Группируем данные по категориям\n",
    "category_df = filtered_companies.groupby('category_code')['funding_total'].median().sort_values(ascending = False).head()\n",
    "\n",
    "# Выводим топ-5 \n",
    "category_df"
   ]
  },
  {
   "cell_type": "markdown",
   "id": "b4a13b86-e6ac-4f86-9238-55f3d837b224",
   "metadata": {},
   "source": [
    "Мы выводим топ-5 так как выбор топ-5 категорий будет полезен, если задача состоит в том, чтобы сосредоточиться именно на самых высокооплачиваемых и перспективных сегментах. \n",
    "\n",
    "Также, как мы видим, последние категории в топ - 5 являются значения, близкие к 75-му процентилю (5650650). \n",
    "\n",
    "Эти пять категорий четко выделяются, как более высокооплачиваемые, и находятся в верхней части распределения (выше 75-го процентиля). Это позволяет сделать анализ более узким, но при этом очень точным и концентрированным на самых перспективных сегментах.\n",
    "\n",
    "Посмотрим наглядно: "
   ]
  },
  {
   "cell_type": "code",
   "execution_count": 372,
   "id": "02c4a04a-d3d3-4155-9eec-f2759aede5a7",
   "metadata": {},
   "outputs": [
    {
     "data": {
      "image/png": "[encoded data removed]",
      "text/plain": [
       "<Figure size 1000x500 with 1 Axes>"
      ]
     },
     "metadata": {},
     "output_type": "display_data"
    }
   ],
   "source": [
    "# Создаём контейнер графика matplotlib и задаём его размер\n",
    "plt.figure(figsize=(10, 5))\n",
    "\n",
    "category_df.sort_values().plot(\n",
    "    kind = 'barh',\n",
    "    title = 'Топ-5 категорий с наибольшей типичной суммой финансирования (млн.)',\n",
    "    xlabel = 'Типичная сумма финансирования',\n",
    "    ylabel = 'Категория стартапа',\n",
    "    grid = True\n",
    ")\n",
    "# Отображаем график\n",
    "plt.show()"
   ]
  },
  {
   "cell_type": "markdown",
   "id": "08b1893d-0591-4b55-9038-55404d29b42d",
   "metadata": {},
   "source": [
    "Топ-5 категорий стартапов с высокими ценами покупки включает `semiconductor` (8.1 млн долларов), `cleantech` (6 млн долларов), `medical` (5.4 млн долларов), `nanotech` (5.1 млн долларов) и `biotech` (4 млн долларов). Эти категории характеризуются типично высокими суммами финансирования, что указывает на их привлекательность для крупных инвесторов, готовых к высоким рискам ради потенциально больших доходов. Эти сегменты также демонстрируют значительный интерес со стороны инвесторов благодаря перспективам инновационных технологий в области полупроводников, чистых технологий, медицины и биотехнологий.\n",
    "\n"
   ]
  },
  {
   "cell_type": "markdown",
   "id": "67d16a51",
   "metadata": {},
   "source": [
    "<div class=\"alert alert-success\">\n",
    "<h2> Комментарий ревьюера v2 <a class=\"tocSkip\"> </h2>\n",
    "\n",
    "<b>Все супер!👍:</b>  Медиана в данном случае действительно более точно характеризует типичные наибольшие значения "
   ]
  },
  {
   "cell_type": "markdown",
   "id": "e2cac901",
   "metadata": {},
   "source": [
    "Проанализируем категории по наибольшим разбросам цен за стартап, для этого как и для границ выбросов мы будем использовать межквартильный размах (IQR) и посмотрим на категории с наивысшим размахом"
   ]
  },
  {
   "cell_type": "code",
   "execution_count": 392,
   "id": "ee546feb-8e21-4f9f-ab0b-b7b89ec5efc7",
   "metadata": {
    "scrolled": true
   },
   "outputs": [
    {
     "data": {
      "text/html": [
       "<div>\n",
       "<style scoped>\n",
       "    .dataframe tbody tr th:only-of-type {\n",
       "        vertical-align: middle;\n",
       "    }\n",
       "\n",
       "    .dataframe tbody tr th {\n",
       "        vertical-align: top;\n",
       "    }\n",
       "\n",
       "    .dataframe thead th {\n",
       "        text-align: right;\n",
       "    }\n",
       "</style>\n",
       "<table border=\"1\" class=\"dataframe\">\n",
       "  <thead>\n",
       "    <tr style=\"text-align: right;\">\n",
       "      <th></th>\n",
       "      <th>0.25</th>\n",
       "      <th>0.75</th>\n",
       "      <th>IQR</th>\n",
       "    </tr>\n",
       "    <tr>\n",
       "      <th>category_code</th>\n",
       "      <th></th>\n",
       "      <th></th>\n",
       "      <th></th>\n",
       "    </tr>\n",
       "  </thead>\n",
       "  <tbody>\n",
       "    <tr>\n",
       "      <th>cleantech</th>\n",
       "      <td>763000.0</td>\n",
       "      <td>25500000.0</td>\n",
       "      <td>24737000.0</td>\n",
       "    </tr>\n",
       "    <tr>\n",
       "      <th>semiconductor</th>\n",
       "      <td>500000.0</td>\n",
       "      <td>23999950.0</td>\n",
       "      <td>23499950.0</td>\n",
       "    </tr>\n",
       "    <tr>\n",
       "      <th>nanotech</th>\n",
       "      <td>867175.0</td>\n",
       "      <td>22380400.0</td>\n",
       "      <td>21513225.0</td>\n",
       "    </tr>\n",
       "    <tr>\n",
       "      <th>medical</th>\n",
       "      <td>989313.0</td>\n",
       "      <td>21987300.0</td>\n",
       "      <td>20997987.0</td>\n",
       "    </tr>\n",
       "    <tr>\n",
       "      <th>biotech</th>\n",
       "      <td>585000.0</td>\n",
       "      <td>19400000.0</td>\n",
       "      <td>18815000.0</td>\n",
       "    </tr>\n",
       "  </tbody>\n",
       "</table>\n",
       "</div>"
      ],
      "text/plain": [
       "                   0.25        0.75         IQR\n",
       "category_code                                  \n",
       "cleantech      763000.0  25500000.0  24737000.0\n",
       "semiconductor  500000.0  23999950.0  23499950.0\n",
       "nanotech       867175.0  22380400.0  21513225.0\n",
       "medical        989313.0  21987300.0  20997987.0\n",
       "biotech        585000.0  19400000.0  18815000.0"
      ]
     },
     "execution_count": 392,
     "metadata": {},
     "output_type": "execute_result"
    }
   ],
   "source": [
    "# Создадим датасет с группировкой по категориям\n",
    "iqr_category = filtered_companies.groupby('category_code')['funding_total'].quantile([0.25, 0.75]).unstack()\n",
    "\n",
    "# Создадим столбец в котором вычеслим IQR для каждой категории\n",
    "iqr_category['IQR'] = iqr_category[0.75] - iqr_category[0.25]\n",
    "\n",
    "# Выведем топ-5\n",
    "iqr_category.sort_values(by = 'IQR', ascending = False).head()"
   ]
  },
  {
   "cell_type": "markdown",
   "id": "d8660ce4-acd1-47cd-945b-3d0361f32f2d",
   "metadata": {},
   "source": [
    "Категории по наибольшим размахам в данных - те же категории из топ-5 по наивысшей типичной сумме финансирования"
   ]
  },
  {
   "cell_type": "code",
   "execution_count": 407,
   "id": "8e0284c7-7020-47c7-bdec-8f419fe5a43b",
   "metadata": {},
   "outputs": [
    {
     "data": {
      "image/png": "[encoded data removed]",
      "text/plain": [
       "<Figure size 1000x500 with 1 Axes>"
      ]
     },
     "metadata": {},
     "output_type": "display_data"
    }
   ],
   "source": [
    "# Создаём контейнер графика matplotlib и задаём его размер\n",
    "plt.figure(figsize=(10, 5))\n",
    "\n",
    "iqr_category['IQR'].sort_values(ascending = False).head().sort_values().plot(\n",
    "    kind = 'barh',\n",
    "    title = 'Топ-5 категорий с наибольшим разбросам цен за стартап',\n",
    "    xlabel = 'Разброс цен (IQR)',\n",
    "    ylabel = 'Категория стартапа',\n",
    "    grid = True\n",
    ")\n",
    "# Отображаем график\n",
    "plt.show()"
   ]
  },
  {
   "cell_type": "markdown",
   "id": "f1d77c4b-bd5a-4705-b19a-cad7b188da14",
   "metadata": {},
   "source": [
    "В топ-5 по размаху цен входят `cleantech`, `semiconductor`, `nanotech`, `medical` и `biotech`, что указывает на высокую вариативность стоимости стартапов в этих областях, с широкими диапазонами цен между первым и третьим квартилем. \n",
    "\n",
    "Топ-5 категорий стартапов по медиане и по размаху цен (IQR) состоит из одних и тех же категорий: `semiconductor`, `cleantech`, `medical`, `nanotech` и `biotech`. Это говорит о том, что хотя для этих категорий характерны как высокие типичные ценовые значения (медиана), так и значительный разброс цен (IQR), они остаются основными игроками на рынке с высокой стоимостью.\n",
    "\n",
    "Медиана в этом контексте представляет собой типичную или ожидаемую цену покупки стартапа, которая может привлекать инвесторов, ориентированных на стабильные и высокодоходные компании. Размах цен (IQR) же демонстрирует, что в этих же категориях присутствуют и более доступные, и более дорогие компании, что может быть интересным для тех инвесторов, кто готов работать с высокой вариативностью и рисками, надеясь на потенциал роста и прибыли от крупных сделок. \n",
    "\n",
    "В итоге, схожесть этих категорий в обоих топах подтверждает, что данные сектора обладают как высокими ценами, так и большим разбросом, что делает их привлекательными для разных типов инвесторов с различным аппетитом к риску."
   ]
  },
  {
   "cell_type": "markdown",
   "id": "0898bf77",
   "metadata": {},
   "source": [
    "<div class=\"alert alert-success\">\n",
    "<h2> Комментарий ревьюера v2 <a class=\"tocSkip\"> </h2>\n",
    "\n",
    "<b>Все супер!👍:</b>  Все верно, молодец!"
   ]
  },
  {
   "cell_type": "markdown",
   "id": "4a5c90df-ba37-42a1-ab7e-7488eb6c0030",
   "metadata": {},
   "source": [
    "#### Сколько раундов продержится стартап перед покупкой"
   ]
  },
  {
   "cell_type": "markdown",
   "id": "e784b9f4-d616-44c2-b27a-55e48802d44b",
   "metadata": {},
   "source": [
    "Давайте проанализируем количество раундов по статусам компаний и посмотрим, какое количество раундов типично для стартапов с разными статусами\n",
    "\n",
    "Для этого проанализируем столбец `funding_rounds`"
   ]
  },
  {
   "cell_type": "code",
   "execution_count": 419,
   "id": "6cc3e1b3-e0a3-45d0-9be6-7288ca9b081f",
   "metadata": {},
   "outputs": [
    {
     "data": {
      "text/plain": [
       "count     40747.0\n",
       "mean     3.267234\n",
       "std      7.924469\n",
       "min           0.0\n",
       "25%           1.0\n",
       "50%           1.0\n",
       "75%           4.0\n",
       "max         225.0\n",
       "Name: funding_rounds, dtype: Float64"
      ]
     },
     "execution_count": 419,
     "metadata": {},
     "output_type": "execute_result"
    }
   ],
   "source": [
    "filtered_companies['funding_rounds'].describe()"
   ]
  },
  {
   "cell_type": "markdown",
   "id": "d06febd2-72d1-4c87-89e3-37935b2c75a8",
   "metadata": {},
   "source": [
    "По статистическим данным столбца видно что распределение данных по раундам финансирования смещено, медиана (1) и среднее (3.2) отличаются, максимальное значение (225) похоже на аномалию, однако мы не можем исключать ситуацию при которой компания задержалась на рынке и в итоге прошла через большое количество раундов финансирования, что может объяснить столь высокое значение, несмотря на его отклонение от обычных тенденций."
   ]
  },
  {
   "cell_type": "markdown",
   "id": "11a9252b",
   "metadata": {},
   "source": [
    "<div class=\"alert alert-warning\">\n",
    "    <h2> Комментарий ревьюера v1 <a class=\"tocSkip\"> </h2>\n",
    "    \n",
    "<b>Небольшие замечания и рекомендации💡:</b> Допустимое обоснование решения оставить это \"выбивающееся\" значение, хотя практичней было бы удалить его, чтобы не искажать mean(). оставю это замечание на самостоятельную доработку, чтобы не задерживать тебя на пути обучения в Практикуме, поскольку все остальное сделано верно. "
   ]
  },
  {
   "cell_type": "markdown",
   "id": "4963c6df-e185-4e57-a9a7-c0b28639bbf3",
   "metadata": {},
   "source": [
    "Для типичного значения кол-ва раундов по статсу компании мы будем использовать медиану или 50-й процентиль. Начнем с группировки данных по статусу компании"
   ]
  },
  {
   "cell_type": "code",
   "execution_count": 450,
   "id": "c4646d18-d698-4803-b350-93d25221fc11",
   "metadata": {},
   "outputs": [
    {
     "data": {
      "text/plain": [
       "status\n",
       "closed       1.0\n",
       "ipo          1.0\n",
       "operating    1.0\n",
       "acquired     0.0\n",
       "Name: funding_rounds, dtype: Float64"
      ]
     },
     "execution_count": 450,
     "metadata": {},
     "output_type": "execute_result"
    }
   ],
   "source": [
    "# Группируем данные по статусу\n",
    "rounds_by_status = filtered_companies.groupby('status')['funding_rounds'].median()\n",
    "\n",
    "rounds_by_status.sort_values(ascending = False)"
   ]
  },
  {
   "cell_type": "markdown",
   "id": "3e47501b-5aa6-4ed2-8adb-0be6cebcaefc",
   "metadata": {},
   "source": [
    "Рассматривая данные по столбцу `funding_rounds` для разных статусов стартапов, можно сделать несколько выводов. \n",
    "\n",
    "Для статусов `closed`, `ipo` и `operating` медиана количества раундов финансирования составляет 1, что означает, что большинство компаний проходят через один раунд финансирования. Однако для статуса `acquired` медиана равна 0, что может свидетельствовать о том, что многие стартапы, которые были приобретены, не привлекали значительное финансирование перед приобретением, или, возможно, просто не участвуют в раундах финансирования в привычном понимании\n",
    "\n",
    "Это может говорить о том, что для стартапов, которые были приобретены, важнее другие аспекты, помимо привлечения финансирования, в отличие от тех стартапов, которые находятся в активной фазе роста, где большее количество раундов может быть связано с развитием компании.\n",
    "\n",
    "Мы можем посмотреть распределение на графике, однако все значения медианы равномерные, тут можно для наглядности использовать среднее арифметическое чтобы понять, **сколько в среднем раундов финансирования проходило для стартапов из каждой группы.**"
   ]
  },
  {
   "cell_type": "code",
   "execution_count": 448,
   "id": "8a0e24a5-2152-4839-a5fb-e7ddfb72b8ef",
   "metadata": {},
   "outputs": [
    {
     "data": {
      "image/png": "[encoded data removed]",
      "text/plain": [
       "<Figure size 1000x500 with 1 Axes>"
      ]
     },
     "metadata": {},
     "output_type": "display_data"
    }
   ],
   "source": [
    "# Создаём контейнер графика matplotlib и задаём его размер\n",
    "plt.figure(figsize=(10, 5))\n",
    "\n",
    "filtered_companies.groupby('status')['funding_rounds'].mean().sort_values(ascending = False).plot(\n",
    "    kind = 'bar',\n",
    "    title = 'Распределение среднего количества раундов финансирования по статусам компаний',\n",
    "    xlabel = 'Статус компании',\n",
    "    ylabel = 'Среднее кол-во раундов',\n",
    "    grid = True,\n",
    "    rot = 0\n",
    ")\n",
    "# Отображаем график\n",
    "plt.show()"
   ]
  },
  {
   "cell_type": "markdown",
   "id": "b2f4657b-6994-4739-b85f-054254f42a10",
   "metadata": {},
   "source": [
    "**Вывод:** Стартапы, находящиеся на стадии IPO или operating, обычно имеют большее количество раундов финансирования, что связано с их активным развитием и ростом. В то время как стартапы с такими статусами, как closed или acquired, привлекают меньше инвестиций, что может указывать на завершение их жизненного цикла или успешное приобретение."
   ]
  },
  {
   "cell_type": "markdown",
   "id": "010f5666-8f74-46be-9ce6-cab963f9dd4f",
   "metadata": {},
   "source": [
    "## Шаг 4. Итоговый вывод и рекомендации"
   ]
  },
  {
   "cell_type": "markdown",
   "id": "366a942e-9faa-43e1-9a84-c9c3daea904d",
   "metadata": {},
   "source": [
    "#### Отчет о проделанной работе\n",
    "\n",
    "В рамках данного проекта была проведена всесторонняя работа по анализу и предобработке данных о стартапах. Были проанализированы данные по раундам финансирования, статусам компаний, распределению сотрудников и их образованию, а также по ценам на стартапы по категориям. \n",
    "\n",
    "Процесс включал очищение и объединение различных таблиц, исследование выбросов, типичных значений и выявление трендов в данных. Мы также построили графики для визуализации динамики данных и выводов по каждой из задач."
   ]
  },
  {
   "cell_type": "markdown",
   "id": "aed3bb0b-eccb-4c51-afe9-2a16c8171556",
   "metadata": {},
   "source": [
    "#### Общие выводы\n",
    "\n",
    "На основе проведенного анализа данных о стартапах можно сделать следующие выводы. Стартапы, находящиеся на стадии `IPO` или `operating`, как правило, привлекают большее количество раундов финансирования, что свидетельствует об их активном развитии, в то время как компании, находящиеся в статусах `closed` или `acquired`, часто проходят только один раунд или вовсе не привлекают дополнительного финансирования.\n",
    "\n",
    "Анализ раундов финансирования показал, что в 2005 году был зафиксирован максимальный размер средств в рамках одного раунда, после чего размер финансирования постепенно снижался, что могло быть связано с изменением инвестиционных стратегий и увеличением числа стартапов. Однако в 2013 году наблюдается рост числа раундов, что может свидетельствовать о большем конкурировании за инвестиции. \n",
    "\n",
    "Также было установлено, что стартапы в таких категориях, как `semiconductor`, `cleantech`, `medical`, `nanotech` и `biotech`, характеризуются как высокими ценами, так и значительным разбросом цен, что делает их привлекательными для инвесторов, готовых к рискам ради потенциально высоких доходов. \n",
    "\n",
    "В то же время, исследование данных о сотрудниках показало, что полнота информации о сотрудниках и их образовании варьируется в зависимости от размера компании: для маленьких стартапов информация о сотрудниках более полная, тогда как для крупных компаний доля пропущенных данных значительно выше. \n",
    "\n",
    "Анализ выбросов показал, что типичный размер финансирования стартапов составляет около 600 000 долларов, а наиболее часто встречаемая сумма — 1 миллион долларов. Редкие, но крупные сделки приводят к завышению среднего значения, что делает медиану более релевантной для анализа. Важно учитывать, что нижняя граница выбросов составляет 0 долларов, что связано с большим числом стартапов, не привлекших финансирования, а верхняя — 14 126 625 долларов, что соответствует крупным сделкам. \n",
    "\n",
    "Исходя из этих выводов, для дальнейшего анализа стоит ориентироваться на медианные значения финансирования и исключать компании с нулевым финансированием, чтобы сосредоточиться на более значимых сделках и улучшить точность исследования."
   ]
  },
  {
   "cell_type": "markdown",
   "id": "6b692910-ec49-4a77-a169-7a54bee49feb",
   "metadata": {},
   "source": [
    "#### Рекомендации\n",
    "\n",
    "Для успешного формирования бизнес-модели инвестиционного рынка важно ориентироваться на стартапы с активной стадией роста, учитывая перспективные отрасли, такие как `semiconductor`, `cleantech`, `medical`, `nanotech` и `biotech`, которые привлекают инвесторов, готовых к высокому риску ради потенциально больших доходов. \n",
    "\n",
    "Необходимо также анализировать типичные размеры инвестиций, ориентируясь на медианные значения, чтобы избежать искажений, связанных с выбросами и крупными сделками. Это позволяет сосредоточиться на более стабильных и предсказуемых стартапах, которые могут стать привлекательными для перепродажи. \n",
    "\n",
    "Важно исследовать корпоративную структуру стартапов, обращая внимание на полноту данных о сотрудниках и их образовании, что поможет лучше понять зрелость компании и возможные риски. Кроме того, для более точного анализа следует устанавливать минимальный порог финансирования, исключая стартапы с незначительными суммами, которые могут не иметь значительного потенциала для дальнейшего роста. \n",
    "\n",
    "Все эти факторы помогут минимизировать риски и сформировать устойчивую модель для эффективных инвестиций, направленных на покупку, развитие и перепродажу стартапов, что в конечном итоге обеспечит значительную прибыль для инвесторов."
   ]
  },
  {
   "cell_type": "markdown",
   "id": "af8a850c",
   "metadata": {},
   "source": [
    "<div class=\"alert alert-success\">\n",
    "<h2> Комментарий ревьюера v2 <a class=\"tocSkip\"> </h2>\n",
    "\n",
    "<b>Все супер!👍:</b> Anastasiia, итоговый вывод, как и весь проект в целом, выполнен классно! Он структурирован и содержит  наиболее значиные результаты  работы, есть и полезные итоговые рекомендации для бизнеса.  \n",
    "        \n",
    "Итоговые выводы - важная часть работы и в твоих будующих реальных проектах советую уделять ей особое внимание. Бывают ситуации, когда у руководства нет времени вникать в весь проект и оценка твоих действий будет проводиться именно по ним.    \n",
    "        \n"
   ]
  },
  {
   "cell_type": "markdown",
   "id": "262e23a7",
   "metadata": {},
   "source": [
    "<div style=\"border:solid Chocolate 2px; padding: 40px\">\n",
    "    \n",
    "**Общий вывод по проекту ревьювера**:\n",
    "     Спасибо за  проект! Ты приложила много усилий, чтобы довести его до конца, проделана огромная работа, и это видно невооруженным глазом, ты молодец! У тебя отлично развиты аналитические способности и владение инструментарием.\n",
    "    \n",
    "**Отмечу положительные моменты**:\n",
    "    \n",
    "    1. Все разложено по полочкам, всегда понятен ход твоих мыслей, приятно смотреть.\n",
    "    \n",
    "    2. Подробные и логичные выводы на всех этапах работы.\n",
    "    \n",
    "    3. Отличные визуализации.      \n",
    "    \n",
    "    4. Внимание к деталям и глубокая проработка анализа\n",
    "      \n",
    "    \n",
    "**Желаю успешного и интересного продолжения учебы. Поздравляю тебя, увидимся в Практикуме!**\n",
    "    \n",
    "    "
   ]
  },
  {
   "cell_type": "code",
   "execution_count": null,
   "id": "ba3f20a3",
   "metadata": {},
   "outputs": [],
   "source": []
  }
 ],
 "metadata": {
  "ExecuteTimeLog": [
   {
    "duration": 1462,
    "start_time": "2025-02-24T16:43:48.130Z"
   },
   {
    "duration": 0,
    "start_time": "2025-02-24T16:43:49.594Z"
   },
   {
    "duration": 0,
    "start_time": "2025-02-24T16:43:49.597Z"
   },
   {
    "duration": 0,
    "start_time": "2025-02-24T16:43:49.598Z"
   },
   {
    "duration": 0,
    "start_time": "2025-02-24T16:43:49.599Z"
   },
   {
    "duration": 0,
    "start_time": "2025-02-24T16:43:49.600Z"
   },
   {
    "duration": 0,
    "start_time": "2025-02-24T16:43:49.601Z"
   },
   {
    "duration": 0,
    "start_time": "2025-02-24T16:43:49.602Z"
   },
   {
    "duration": 0,
    "start_time": "2025-02-24T16:43:49.603Z"
   },
   {
    "duration": 0,
    "start_time": "2025-02-24T16:43:49.604Z"
   },
   {
    "duration": 0,
    "start_time": "2025-02-24T16:43:49.605Z"
   },
   {
    "duration": 0,
    "start_time": "2025-02-24T16:43:49.606Z"
   },
   {
    "duration": 0,
    "start_time": "2025-02-24T16:43:49.606Z"
   },
   {
    "duration": 0,
    "start_time": "2025-02-24T16:43:49.608Z"
   },
   {
    "duration": 0,
    "start_time": "2025-02-24T16:43:49.608Z"
   },
   {
    "duration": 0,
    "start_time": "2025-02-24T16:43:49.609Z"
   },
   {
    "duration": 0,
    "start_time": "2025-02-24T16:43:49.610Z"
   },
   {
    "duration": 0,
    "start_time": "2025-02-24T16:43:49.611Z"
   },
   {
    "duration": 0,
    "start_time": "2025-02-24T16:43:49.612Z"
   },
   {
    "duration": 0,
    "start_time": "2025-02-24T16:43:49.613Z"
   },
   {
    "duration": 0,
    "start_time": "2025-02-24T16:43:49.614Z"
   },
   {
    "duration": 0,
    "start_time": "2025-02-24T16:43:49.615Z"
   },
   {
    "duration": 0,
    "start_time": "2025-02-24T16:43:49.616Z"
   },
   {
    "duration": 0,
    "start_time": "2025-02-24T16:43:49.617Z"
   },
   {
    "duration": 0,
    "start_time": "2025-02-24T16:43:49.618Z"
   },
   {
    "duration": 0,
    "start_time": "2025-02-24T16:43:49.618Z"
   },
   {
    "duration": 0,
    "start_time": "2025-02-24T16:43:49.619Z"
   },
   {
    "duration": 0,
    "start_time": "2025-02-24T16:43:49.620Z"
   },
   {
    "duration": 0,
    "start_time": "2025-02-24T16:43:49.621Z"
   },
   {
    "duration": 0,
    "start_time": "2025-02-24T16:43:49.622Z"
   },
   {
    "duration": 0,
    "start_time": "2025-02-24T16:43:49.623Z"
   },
   {
    "duration": 0,
    "start_time": "2025-02-24T16:43:49.624Z"
   },
   {
    "duration": 0,
    "start_time": "2025-02-24T16:43:49.671Z"
   },
   {
    "duration": 0,
    "start_time": "2025-02-24T16:43:49.672Z"
   },
   {
    "duration": 0,
    "start_time": "2025-02-24T16:43:49.673Z"
   },
   {
    "duration": 0,
    "start_time": "2025-02-24T16:43:49.674Z"
   },
   {
    "duration": 0,
    "start_time": "2025-02-24T16:43:49.675Z"
   },
   {
    "duration": 0,
    "start_time": "2025-02-24T16:43:49.676Z"
   },
   {
    "duration": 0,
    "start_time": "2025-02-24T16:43:49.677Z"
   },
   {
    "duration": 0,
    "start_time": "2025-02-24T16:43:49.678Z"
   },
   {
    "duration": 0,
    "start_time": "2025-02-24T16:43:49.679Z"
   },
   {
    "duration": 0,
    "start_time": "2025-02-24T16:43:49.680Z"
   },
   {
    "duration": 0,
    "start_time": "2025-02-24T16:43:49.681Z"
   },
   {
    "duration": 0,
    "start_time": "2025-02-24T16:43:49.682Z"
   },
   {
    "duration": 0,
    "start_time": "2025-02-24T16:43:49.683Z"
   },
   {
    "duration": 0,
    "start_time": "2025-02-24T16:43:49.684Z"
   },
   {
    "duration": 0,
    "start_time": "2025-02-24T16:43:49.685Z"
   },
   {
    "duration": 0,
    "start_time": "2025-02-24T16:43:49.686Z"
   },
   {
    "duration": 0,
    "start_time": "2025-02-24T16:43:49.687Z"
   },
   {
    "duration": 0,
    "start_time": "2025-02-24T16:43:49.688Z"
   },
   {
    "duration": 0,
    "start_time": "2025-02-24T16:43:49.689Z"
   },
   {
    "duration": 2,
    "start_time": "2025-02-24T16:46:51.179Z"
   },
   {
    "duration": 2112,
    "start_time": "2025-02-24T16:46:51.183Z"
   },
   {
    "duration": 18,
    "start_time": "2025-02-24T16:46:53.296Z"
   },
   {
    "duration": 101,
    "start_time": "2025-02-24T16:46:53.315Z"
   },
   {
    "duration": 21,
    "start_time": "2025-02-24T16:46:53.418Z"
   },
   {
    "duration": 55,
    "start_time": "2025-02-24T16:46:53.441Z"
   },
   {
    "duration": 24,
    "start_time": "2025-02-24T16:46:53.498Z"
   },
   {
    "duration": 15,
    "start_time": "2025-02-24T16:46:53.523Z"
   },
   {
    "duration": 34,
    "start_time": "2025-02-24T16:46:53.539Z"
   },
   {
    "duration": 40,
    "start_time": "2025-02-24T16:46:53.575Z"
   },
   {
    "duration": 4,
    "start_time": "2025-02-24T16:46:53.617Z"
   },
   {
    "duration": 6,
    "start_time": "2025-02-24T16:46:53.622Z"
   },
   {
    "duration": 20,
    "start_time": "2025-02-24T16:46:53.629Z"
   },
   {
    "duration": 262,
    "start_time": "2025-02-24T16:46:53.669Z"
   },
   {
    "duration": 25,
    "start_time": "2025-02-24T16:46:53.932Z"
   },
   {
    "duration": 36,
    "start_time": "2025-02-24T16:46:53.969Z"
   },
   {
    "duration": 13,
    "start_time": "2025-02-24T16:46:54.007Z"
   },
   {
    "duration": 12,
    "start_time": "2025-02-24T16:46:54.021Z"
   },
   {
    "duration": 153,
    "start_time": "2025-02-24T16:46:54.034Z"
   },
   {
    "duration": 21,
    "start_time": "2025-02-24T16:46:54.189Z"
   },
   {
    "duration": 75,
    "start_time": "2025-02-24T16:46:54.211Z"
   },
   {
    "duration": 35,
    "start_time": "2025-02-24T16:46:54.287Z"
   },
   {
    "duration": 14,
    "start_time": "2025-02-24T16:46:54.323Z"
   },
   {
    "duration": 56,
    "start_time": "2025-02-24T16:46:54.339Z"
   },
   {
    "duration": 158,
    "start_time": "2025-02-24T16:46:54.396Z"
   },
   {
    "duration": 93,
    "start_time": "2025-02-24T16:46:54.555Z"
   },
   {
    "duration": 30,
    "start_time": "2025-02-24T16:46:54.650Z"
   },
   {
    "duration": 9,
    "start_time": "2025-02-24T16:46:54.682Z"
   },
   {
    "duration": 30,
    "start_time": "2025-02-24T16:46:54.692Z"
   },
   {
    "duration": 9,
    "start_time": "2025-02-24T16:46:54.723Z"
   },
   {
    "duration": 156,
    "start_time": "2025-02-24T16:46:54.734Z"
   },
   {
    "duration": 53,
    "start_time": "2025-02-24T16:46:54.891Z"
   },
   {
    "duration": 46,
    "start_time": "2025-02-24T16:46:54.946Z"
   },
   {
    "duration": 7,
    "start_time": "2025-02-24T16:46:54.994Z"
   },
   {
    "duration": 53,
    "start_time": "2025-02-24T16:46:55.002Z"
   },
   {
    "duration": 100,
    "start_time": "2025-02-24T16:46:55.056Z"
   },
   {
    "duration": 17,
    "start_time": "2025-02-24T16:46:55.158Z"
   },
   {
    "duration": 140,
    "start_time": "2025-02-24T16:46:55.177Z"
   },
   {
    "duration": 137,
    "start_time": "2025-02-24T16:46:55.319Z"
   },
   {
    "duration": 26,
    "start_time": "2025-02-24T16:46:55.457Z"
   },
   {
    "duration": 21,
    "start_time": "2025-02-24T16:46:55.487Z"
   },
   {
    "duration": 4,
    "start_time": "2025-02-24T16:46:55.509Z"
   },
   {
    "duration": 10,
    "start_time": "2025-02-24T16:46:55.514Z"
   },
   {
    "duration": 9,
    "start_time": "2025-02-24T16:46:55.525Z"
   },
   {
    "duration": 13,
    "start_time": "2025-02-24T16:46:55.535Z"
   },
   {
    "duration": 52,
    "start_time": "2025-02-24T16:46:55.549Z"
   },
   {
    "duration": 22,
    "start_time": "2025-02-24T16:46:55.603Z"
   },
   {
    "duration": 84,
    "start_time": "2025-02-24T16:46:55.626Z"
   },
   {
    "duration": 759,
    "start_time": "2025-02-24T16:46:55.712Z"
   },
   {
    "duration": 80,
    "start_time": "2025-02-24T16:46:56.473Z"
   },
   {
    "duration": 4116,
    "start_time": "2025-02-24T16:46:56.555Z"
   }
  ],
  "kernelspec": {
   "display_name": "Python [conda env:base] *",
   "language": "python",
   "name": "conda-base-py"
  },
  "language_info": {
   "codemirror_mode": {
    "name": "ipython",
    "version": 3
   },
   "file_extension": ".py",
   "mimetype": "text/x-python",
   "name": "python",
   "nbconvert_exporter": "python",
   "pygments_lexer": "ipython3",
   "version": "3.12.7"
  },
  "toc": {
   "base_numbering": 1,
   "nav_menu": {},
   "number_sections": true,
   "sideBar": true,
   "skip_h1_title": true,
   "title_cell": "Table of Contents",
   "title_sidebar": "Contents",
   "toc_cell": false,
   "toc_position": {},
   "toc_section_display": true,
   "toc_window_display": false
  }
 },
 "nbformat": 4,
 "nbformat_minor": 5
}
